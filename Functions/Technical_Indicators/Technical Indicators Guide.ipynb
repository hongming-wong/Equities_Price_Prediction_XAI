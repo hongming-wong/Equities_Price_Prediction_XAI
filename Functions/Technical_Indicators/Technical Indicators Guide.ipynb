{
 "cells": [
  {
   "cell_type": "code",
   "execution_count": 1,
   "outputs": [],
   "source": [
    "from api_technical import get_technical_data"
   ],
   "metadata": {
    "collapsed": false,
    "pycharm": {
     "name": "#%%\n"
    }
   }
  },
  {
   "cell_type": "markdown",
   "metadata": {
    "collapsed": true,
    "pycharm": {
     "name": "#%% md\n"
    }
   },
   "source": [
    "<h1>Relative Strength Index</h1>\n",
    "\n",
    "**Characteristics**\n",
    "- Provides signals that tell investors to buy when the security is oversold\n",
    "and to sell when it is overbought\n",
    "- Not the same as relative strength\n",
    "- Recommended to be used on a 14-days timeframe, measured from a scale from 1 to 100\n",
    "- Typical high-low is 70-30.\n",
    "<img src=\"https://upload.wikimedia.org/wikipedia/commons/6/67/RSIwiki.gif\">"
   ]
  },
  {
   "cell_type": "markdown",
   "source": [
    "<h1>Directional Movement Index</h1>\n",
    "\n",
    "**Characteristics**\n",
    "\n",
    "- Determines if a security is trending and attempts to measure the strength of the trend.\n",
    "- Disregards the direction of the security."
   ],
   "metadata": {
    "collapsed": false,
    "pycharm": {
     "name": "#%% md\n"
    }
   }
  },
  {
   "cell_type": "markdown",
   "source": [
    "<h1>Parabolic SAR</h1>\n",
    "\n",
    "**Characteristics**\n",
    "- Determine the price direction of an asset and reversal\n",
    "- When the value is location above the price, it signals a downward trend.\n",
    "- When the dots shift below the price, it indicates an upward trend.\n",
    "- Change in the direction of the dots produce buy and sell signals."
   ],
   "metadata": {
    "collapsed": false,
    "pycharm": {
     "name": "#%% md\n"
    }
   }
  },
  {
   "cell_type": "code",
   "execution_count": 2,
   "outputs": [
    {
     "data": {
      "text/plain": "           date       sar\n0    2022-01-04  177.7100\n1    2022-01-05  182.9400\n2    2022-01-06  182.9400\n3    2022-01-07  182.4880\n4    2022-01-10  181.8005\n..          ...       ...\n161  2022-08-25  174.4416\n162  2022-08-26  173.7862\n163  2022-08-29  172.7636\n164  2022-08-30  171.2104\n165  2022-08-31  169.3217\n\n[166 rows x 2 columns]",
      "text/html": "<div>\n<style scoped>\n    .dataframe tbody tr th:only-of-type {\n        vertical-align: middle;\n    }\n\n    .dataframe tbody tr th {\n        vertical-align: top;\n    }\n\n    .dataframe thead th {\n        text-align: right;\n    }\n</style>\n<table border=\"1\" class=\"dataframe\">\n  <thead>\n    <tr style=\"text-align: right;\">\n      <th></th>\n      <th>date</th>\n      <th>sar</th>\n    </tr>\n  </thead>\n  <tbody>\n    <tr>\n      <th>0</th>\n      <td>2022-01-04</td>\n      <td>177.7100</td>\n    </tr>\n    <tr>\n      <th>1</th>\n      <td>2022-01-05</td>\n      <td>182.9400</td>\n    </tr>\n    <tr>\n      <th>2</th>\n      <td>2022-01-06</td>\n      <td>182.9400</td>\n    </tr>\n    <tr>\n      <th>3</th>\n      <td>2022-01-07</td>\n      <td>182.4880</td>\n    </tr>\n    <tr>\n      <th>4</th>\n      <td>2022-01-10</td>\n      <td>181.8005</td>\n    </tr>\n    <tr>\n      <th>...</th>\n      <td>...</td>\n      <td>...</td>\n    </tr>\n    <tr>\n      <th>161</th>\n      <td>2022-08-25</td>\n      <td>174.4416</td>\n    </tr>\n    <tr>\n      <th>162</th>\n      <td>2022-08-26</td>\n      <td>173.7862</td>\n    </tr>\n    <tr>\n      <th>163</th>\n      <td>2022-08-29</td>\n      <td>172.7636</td>\n    </tr>\n    <tr>\n      <th>164</th>\n      <td>2022-08-30</td>\n      <td>171.2104</td>\n    </tr>\n    <tr>\n      <th>165</th>\n      <td>2022-08-31</td>\n      <td>169.3217</td>\n    </tr>\n  </tbody>\n</table>\n<p>166 rows × 2 columns</p>\n</div>"
     },
     "execution_count": 2,
     "metadata": {},
     "output_type": "execute_result"
    }
   ],
   "source": [
    "get_technical_data('AAPL.US', 'sar', '2022-01-01', '2022-08-31')"
   ],
   "metadata": {
    "collapsed": false,
    "pycharm": {
     "name": "#%%\n"
    }
   }
  },
  {
   "cell_type": "markdown",
   "source": [
    "<h1> Bollinger Bands </h1>\n",
    "\n",
    "**Characteristics**\n",
    "- The purpose of Bollinger Bands is to provide a relative definition of high and low prices of a market.\n",
    "- There are three bands: upper BB, lower BB, middle BB"
   ],
   "metadata": {
    "collapsed": false,
    "pycharm": {
     "name": "#%% md\n"
    }
   }
  },
  {
   "cell_type": "code",
   "execution_count": 4,
   "outputs": [
    {
     "data": {
      "text/plain": "           date     uband     mband     lband\n0    2022-03-15  180.7672  167.0586  153.3499\n1    2022-03-16  179.8838  166.6161  153.3484\n2    2022-03-17  179.1479  166.2401  153.3324\n3    2022-03-18  178.7526  166.0264  153.3002\n4    2022-03-21  178.5389  165.8987  153.2586\n..          ...       ...       ...       ...\n113  2022-08-25  180.1848  153.7349  127.2850\n114  2022-08-26  180.3556  154.3025  128.2493\n115  2022-08-29  180.1013  154.9325  129.7637\n116  2022-08-30  179.7552  155.4831  131.2110\n117  2022-08-31  179.5204  155.9139  132.3074\n\n[118 rows x 4 columns]",
      "text/html": "<div>\n<style scoped>\n    .dataframe tbody tr th:only-of-type {\n        vertical-align: middle;\n    }\n\n    .dataframe tbody tr th {\n        vertical-align: top;\n    }\n\n    .dataframe thead th {\n        text-align: right;\n    }\n</style>\n<table border=\"1\" class=\"dataframe\">\n  <thead>\n    <tr style=\"text-align: right;\">\n      <th></th>\n      <th>date</th>\n      <th>uband</th>\n      <th>mband</th>\n      <th>lband</th>\n    </tr>\n  </thead>\n  <tbody>\n    <tr>\n      <th>0</th>\n      <td>2022-03-15</td>\n      <td>180.7672</td>\n      <td>167.0586</td>\n      <td>153.3499</td>\n    </tr>\n    <tr>\n      <th>1</th>\n      <td>2022-03-16</td>\n      <td>179.8838</td>\n      <td>166.6161</td>\n      <td>153.3484</td>\n    </tr>\n    <tr>\n      <th>2</th>\n      <td>2022-03-17</td>\n      <td>179.1479</td>\n      <td>166.2401</td>\n      <td>153.3324</td>\n    </tr>\n    <tr>\n      <th>3</th>\n      <td>2022-03-18</td>\n      <td>178.7526</td>\n      <td>166.0264</td>\n      <td>153.3002</td>\n    </tr>\n    <tr>\n      <th>4</th>\n      <td>2022-03-21</td>\n      <td>178.5389</td>\n      <td>165.8987</td>\n      <td>153.2586</td>\n    </tr>\n    <tr>\n      <th>...</th>\n      <td>...</td>\n      <td>...</td>\n      <td>...</td>\n      <td>...</td>\n    </tr>\n    <tr>\n      <th>113</th>\n      <td>2022-08-25</td>\n      <td>180.1848</td>\n      <td>153.7349</td>\n      <td>127.2850</td>\n    </tr>\n    <tr>\n      <th>114</th>\n      <td>2022-08-26</td>\n      <td>180.3556</td>\n      <td>154.3025</td>\n      <td>128.2493</td>\n    </tr>\n    <tr>\n      <th>115</th>\n      <td>2022-08-29</td>\n      <td>180.1013</td>\n      <td>154.9325</td>\n      <td>129.7637</td>\n    </tr>\n    <tr>\n      <th>116</th>\n      <td>2022-08-30</td>\n      <td>179.7552</td>\n      <td>155.4831</td>\n      <td>131.2110</td>\n    </tr>\n    <tr>\n      <th>117</th>\n      <td>2022-08-31</td>\n      <td>179.5204</td>\n      <td>155.9139</td>\n      <td>132.3074</td>\n    </tr>\n  </tbody>\n</table>\n<p>118 rows × 4 columns</p>\n</div>"
     },
     "execution_count": 4,
     "metadata": {},
     "output_type": "execute_result"
    }
   ],
   "source": [
    "get_technical_data('AAPL.US', 'bbands', '2022-01-01', '2022-08-31')"
   ],
   "metadata": {
    "collapsed": false,
    "pycharm": {
     "name": "#%%\n"
    }
   }
  },
  {
   "cell_type": "markdown",
   "source": [
    "<h1> Moving Average Convergence Divergence MACD </h1>\n",
    "\n",
    "**Characteristics**\n",
    "- A trend-following mometum indicator that shows the relationship between two exponential moving averages of a security's price\n",
    "- The MACD line is calculated by subtracted the 26-period EMA from 12-period EMA.\n",
    "- The MACD signal line is a 9 period EMA.\n",
    "- When the MACD line crosses above the signal line, buy. If MACD crosses below the signal line, sell.\n",
    "- Divergence = MACD - signal"
   ],
   "metadata": {
    "collapsed": false,
    "pycharm": {
     "name": "#%% md\n"
    }
   }
  },
  {
   "cell_type": "code",
   "execution_count": 5,
   "outputs": [
    {
     "data": {
      "text/plain": "           date    macd  signal  divergence\n0    2022-02-18 -0.6809 -0.8146      0.1338\n1    2022-02-22 -1.0749 -0.8667     -0.2082\n2    2022-02-23 -1.7095 -1.0353     -0.6742\n3    2022-02-24 -1.9748 -1.2232     -0.7516\n4    2022-02-25 -1.9923 -1.3770     -0.6153\n..          ...     ...     ...         ...\n129  2022-08-25  4.3341  5.2867     -0.9526\n130  2022-08-26  3.5937  4.9481     -1.3544\n131  2022-08-29  2.7940  4.5173     -1.7233\n132  2022-08-30  1.9386  4.0015     -2.0629\n133  2022-08-31  1.1115  3.4235     -2.3120\n\n[134 rows x 4 columns]",
      "text/html": "<div>\n<style scoped>\n    .dataframe tbody tr th:only-of-type {\n        vertical-align: middle;\n    }\n\n    .dataframe tbody tr th {\n        vertical-align: top;\n    }\n\n    .dataframe thead th {\n        text-align: right;\n    }\n</style>\n<table border=\"1\" class=\"dataframe\">\n  <thead>\n    <tr style=\"text-align: right;\">\n      <th></th>\n      <th>date</th>\n      <th>macd</th>\n      <th>signal</th>\n      <th>divergence</th>\n    </tr>\n  </thead>\n  <tbody>\n    <tr>\n      <th>0</th>\n      <td>2022-02-18</td>\n      <td>-0.6809</td>\n      <td>-0.8146</td>\n      <td>0.1338</td>\n    </tr>\n    <tr>\n      <th>1</th>\n      <td>2022-02-22</td>\n      <td>-1.0749</td>\n      <td>-0.8667</td>\n      <td>-0.2082</td>\n    </tr>\n    <tr>\n      <th>2</th>\n      <td>2022-02-23</td>\n      <td>-1.7095</td>\n      <td>-1.0353</td>\n      <td>-0.6742</td>\n    </tr>\n    <tr>\n      <th>3</th>\n      <td>2022-02-24</td>\n      <td>-1.9748</td>\n      <td>-1.2232</td>\n      <td>-0.7516</td>\n    </tr>\n    <tr>\n      <th>4</th>\n      <td>2022-02-25</td>\n      <td>-1.9923</td>\n      <td>-1.3770</td>\n      <td>-0.6153</td>\n    </tr>\n    <tr>\n      <th>...</th>\n      <td>...</td>\n      <td>...</td>\n      <td>...</td>\n      <td>...</td>\n    </tr>\n    <tr>\n      <th>129</th>\n      <td>2022-08-25</td>\n      <td>4.3341</td>\n      <td>5.2867</td>\n      <td>-0.9526</td>\n    </tr>\n    <tr>\n      <th>130</th>\n      <td>2022-08-26</td>\n      <td>3.5937</td>\n      <td>4.9481</td>\n      <td>-1.3544</td>\n    </tr>\n    <tr>\n      <th>131</th>\n      <td>2022-08-29</td>\n      <td>2.7940</td>\n      <td>4.5173</td>\n      <td>-1.7233</td>\n    </tr>\n    <tr>\n      <th>132</th>\n      <td>2022-08-30</td>\n      <td>1.9386</td>\n      <td>4.0015</td>\n      <td>-2.0629</td>\n    </tr>\n    <tr>\n      <th>133</th>\n      <td>2022-08-31</td>\n      <td>1.1115</td>\n      <td>3.4235</td>\n      <td>-2.3120</td>\n    </tr>\n  </tbody>\n</table>\n<p>134 rows × 4 columns</p>\n</div>"
     },
     "execution_count": 5,
     "metadata": {},
     "output_type": "execute_result"
    }
   ],
   "source": [
    "get_technical_data('AAPL.US', 'macd', '2022-01-01', '2022-08-31')"
   ],
   "metadata": {
    "collapsed": false,
    "pycharm": {
     "name": "#%%\n"
    }
   }
  }
 ],
 "metadata": {
  "kernelspec": {
   "display_name": "Python 3",
   "language": "python",
   "name": "python3"
  },
  "language_info": {
   "codemirror_mode": {
    "name": "ipython",
    "version": 2
   },
   "file_extension": ".py",
   "mimetype": "text/x-python",
   "name": "python",
   "nbconvert_exporter": "python",
   "pygments_lexer": "ipython2",
   "version": "2.7.6"
  }
 },
 "nbformat": 4,
 "nbformat_minor": 0
}