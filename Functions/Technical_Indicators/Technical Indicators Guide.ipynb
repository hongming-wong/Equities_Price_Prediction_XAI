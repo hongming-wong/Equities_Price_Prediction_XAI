{
 "cells": [
  {
   "cell_type": "code",
   "execution_count": 1,
   "outputs": [],
   "source": [
    "from api_technical import get_technical_data"
   ],
   "metadata": {
    "collapsed": false,
    "pycharm": {
     "name": "#%%\n"
    }
   }
  },
  {
   "cell_type": "code",
   "execution_count": 4,
   "outputs": [],
   "source": [
    "from eod import EodHistoricalData\n",
    "from Functions.config import API_KEY\n",
    "client = EodHistoricalData(API_KEY)"
   ],
   "metadata": {
    "collapsed": false,
    "pycharm": {
     "name": "#%%\n"
    }
   }
  },
  {
   "cell_type": "markdown",
   "metadata": {
    "collapsed": true,
    "pycharm": {
     "name": "#%% md\n"
    }
   },
   "source": [
    "<h1>Relative Strength Index</h1>\n",
    "\n",
    "**Characteristics**\n",
    "- Provides signals that tell investors to buy when the security is oversold\n",
    "and to sell when it is overbought\n",
    "- Not the same as relative strength\n",
    "- Recommended to be used on a 14-days timeframe, measured from a scale from 1 to 100\n",
    "- Typical high-low is 70-30.\n",
    "<img src=\"https://upload.wikimedia.org/wikipedia/commons/6/67/RSIwiki.gif\">"
   ]
  },
  {
   "cell_type": "markdown",
   "source": [
    "<h1>Directional Movement Index</h1>\n",
    "\n",
    "**Characteristics**\n",
    "\n",
    "- Determines if a security is trending and attempts to measure the strength of the trend.\n",
    "- Disregards the direction of the security.\n",
    "- Crossovers are the main trade signals.\n",
    "    - A long trade is taken when +DI crosses above the -DI and an uptrend could be underway.\n",
    "    - A sell signal occurs when the +DI crosses below -DI and an downtrend could be underway."
   ],
   "metadata": {
    "collapsed": false,
    "pycharm": {
     "name": "#%% md\n"
    }
   }
  },
  {
   "cell_type": "code",
   "execution_count": 19,
   "outputs": [
    {
     "data": {
      "text/plain": "           date      dmi\n0    2022-03-16  35.0789\n1    2022-03-17  33.8896\n2    2022-03-18  29.8304\n3    2022-03-21  27.7075\n4    2022-03-22  24.3025\n..          ...      ...\n112  2022-08-25   7.3935\n113  2022-08-26   2.4995\n114  2022-08-29   1.0916\n115  2022-08-30   3.0380\n116  2022-08-31   3.5728\n\n[117 rows x 2 columns]",
      "text/html": "<div>\n<style scoped>\n    .dataframe tbody tr th:only-of-type {\n        vertical-align: middle;\n    }\n\n    .dataframe tbody tr th {\n        vertical-align: top;\n    }\n\n    .dataframe thead th {\n        text-align: right;\n    }\n</style>\n<table border=\"1\" class=\"dataframe\">\n  <thead>\n    <tr style=\"text-align: right;\">\n      <th></th>\n      <th>date</th>\n      <th>dmi</th>\n    </tr>\n  </thead>\n  <tbody>\n    <tr>\n      <th>0</th>\n      <td>2022-03-16</td>\n      <td>35.0789</td>\n    </tr>\n    <tr>\n      <th>1</th>\n      <td>2022-03-17</td>\n      <td>33.8896</td>\n    </tr>\n    <tr>\n      <th>2</th>\n      <td>2022-03-18</td>\n      <td>29.8304</td>\n    </tr>\n    <tr>\n      <th>3</th>\n      <td>2022-03-21</td>\n      <td>27.7075</td>\n    </tr>\n    <tr>\n      <th>4</th>\n      <td>2022-03-22</td>\n      <td>24.3025</td>\n    </tr>\n    <tr>\n      <th>...</th>\n      <td>...</td>\n      <td>...</td>\n    </tr>\n    <tr>\n      <th>112</th>\n      <td>2022-08-25</td>\n      <td>7.3935</td>\n    </tr>\n    <tr>\n      <th>113</th>\n      <td>2022-08-26</td>\n      <td>2.4995</td>\n    </tr>\n    <tr>\n      <th>114</th>\n      <td>2022-08-29</td>\n      <td>1.0916</td>\n    </tr>\n    <tr>\n      <th>115</th>\n      <td>2022-08-30</td>\n      <td>3.0380</td>\n    </tr>\n    <tr>\n      <th>116</th>\n      <td>2022-08-31</td>\n      <td>3.5728</td>\n    </tr>\n  </tbody>\n</table>\n<p>117 rows × 2 columns</p>\n</div>"
     },
     "execution_count": 19,
     "metadata": {},
     "output_type": "execute_result"
    }
   ],
   "source": [
    "get_technical_data('AAPL.US', 'dmi', '2022-01-01', '2022-08-31')"
   ],
   "metadata": {
    "collapsed": false,
    "pycharm": {
     "name": "#%%\n"
    }
   }
  },
  {
   "cell_type": "markdown",
   "source": [
    "<h1>Parabolic SAR</h1>\n",
    "\n",
    "**Characteristics**\n",
    "- Determine the price direction of an asset and reversal\n",
    "- When the value is location above the price, it signals a downward trend.\n",
    "- When the dots shift below the price, it indicates an upward trend.\n",
    "- Change in the direction of the dots produce buy and sell signals."
   ],
   "metadata": {
    "collapsed": false,
    "pycharm": {
     "name": "#%% md\n"
    }
   }
  },
  {
   "cell_type": "code",
   "execution_count": 2,
   "outputs": [
    {
     "data": {
      "text/plain": "           date       sar\n0    2022-01-04  177.7100\n1    2022-01-05  182.9400\n2    2022-01-06  182.9400\n3    2022-01-07  182.4880\n4    2022-01-10  181.8005\n..          ...       ...\n161  2022-08-25  174.4416\n162  2022-08-26  173.7862\n163  2022-08-29  172.7636\n164  2022-08-30  171.2104\n165  2022-08-31  169.3217\n\n[166 rows x 2 columns]",
      "text/html": "<div>\n<style scoped>\n    .dataframe tbody tr th:only-of-type {\n        vertical-align: middle;\n    }\n\n    .dataframe tbody tr th {\n        vertical-align: top;\n    }\n\n    .dataframe thead th {\n        text-align: right;\n    }\n</style>\n<table border=\"1\" class=\"dataframe\">\n  <thead>\n    <tr style=\"text-align: right;\">\n      <th></th>\n      <th>date</th>\n      <th>sar</th>\n    </tr>\n  </thead>\n  <tbody>\n    <tr>\n      <th>0</th>\n      <td>2022-01-04</td>\n      <td>177.7100</td>\n    </tr>\n    <tr>\n      <th>1</th>\n      <td>2022-01-05</td>\n      <td>182.9400</td>\n    </tr>\n    <tr>\n      <th>2</th>\n      <td>2022-01-06</td>\n      <td>182.9400</td>\n    </tr>\n    <tr>\n      <th>3</th>\n      <td>2022-01-07</td>\n      <td>182.4880</td>\n    </tr>\n    <tr>\n      <th>4</th>\n      <td>2022-01-10</td>\n      <td>181.8005</td>\n    </tr>\n    <tr>\n      <th>...</th>\n      <td>...</td>\n      <td>...</td>\n    </tr>\n    <tr>\n      <th>161</th>\n      <td>2022-08-25</td>\n      <td>174.4416</td>\n    </tr>\n    <tr>\n      <th>162</th>\n      <td>2022-08-26</td>\n      <td>173.7862</td>\n    </tr>\n    <tr>\n      <th>163</th>\n      <td>2022-08-29</td>\n      <td>172.7636</td>\n    </tr>\n    <tr>\n      <th>164</th>\n      <td>2022-08-30</td>\n      <td>171.2104</td>\n    </tr>\n    <tr>\n      <th>165</th>\n      <td>2022-08-31</td>\n      <td>169.3217</td>\n    </tr>\n  </tbody>\n</table>\n<p>166 rows × 2 columns</p>\n</div>"
     },
     "execution_count": 2,
     "metadata": {},
     "output_type": "execute_result"
    }
   ],
   "source": [
    "get_technical_data('AAPL.US', 'sar', '2022-01-01', '2022-08-31')"
   ],
   "metadata": {
    "collapsed": false,
    "pycharm": {
     "name": "#%%\n"
    }
   }
  },
  {
   "cell_type": "markdown",
   "source": [
    "<h1> Bollinger Bands </h1>\n",
    "\n",
    "**Characteristics**\n",
    "- The purpose of Bollinger Bands is to provide a relative definition of high and low prices of a market.\n",
    "- There are three bands: upper BB, lower BB, middle BB"
   ],
   "metadata": {
    "collapsed": false,
    "pycharm": {
     "name": "#%% md\n"
    }
   }
  },
  {
   "cell_type": "code",
   "execution_count": 4,
   "outputs": [
    {
     "data": {
      "text/plain": "           date     uband     mband     lband\n0    2022-03-15  180.7672  167.0586  153.3499\n1    2022-03-16  179.8838  166.6161  153.3484\n2    2022-03-17  179.1479  166.2401  153.3324\n3    2022-03-18  178.7526  166.0264  153.3002\n4    2022-03-21  178.5389  165.8987  153.2586\n..          ...       ...       ...       ...\n113  2022-08-25  180.1848  153.7349  127.2850\n114  2022-08-26  180.3556  154.3025  128.2493\n115  2022-08-29  180.1013  154.9325  129.7637\n116  2022-08-30  179.7552  155.4831  131.2110\n117  2022-08-31  179.5204  155.9139  132.3074\n\n[118 rows x 4 columns]",
      "text/html": "<div>\n<style scoped>\n    .dataframe tbody tr th:only-of-type {\n        vertical-align: middle;\n    }\n\n    .dataframe tbody tr th {\n        vertical-align: top;\n    }\n\n    .dataframe thead th {\n        text-align: right;\n    }\n</style>\n<table border=\"1\" class=\"dataframe\">\n  <thead>\n    <tr style=\"text-align: right;\">\n      <th></th>\n      <th>date</th>\n      <th>uband</th>\n      <th>mband</th>\n      <th>lband</th>\n    </tr>\n  </thead>\n  <tbody>\n    <tr>\n      <th>0</th>\n      <td>2022-03-15</td>\n      <td>180.7672</td>\n      <td>167.0586</td>\n      <td>153.3499</td>\n    </tr>\n    <tr>\n      <th>1</th>\n      <td>2022-03-16</td>\n      <td>179.8838</td>\n      <td>166.6161</td>\n      <td>153.3484</td>\n    </tr>\n    <tr>\n      <th>2</th>\n      <td>2022-03-17</td>\n      <td>179.1479</td>\n      <td>166.2401</td>\n      <td>153.3324</td>\n    </tr>\n    <tr>\n      <th>3</th>\n      <td>2022-03-18</td>\n      <td>178.7526</td>\n      <td>166.0264</td>\n      <td>153.3002</td>\n    </tr>\n    <tr>\n      <th>4</th>\n      <td>2022-03-21</td>\n      <td>178.5389</td>\n      <td>165.8987</td>\n      <td>153.2586</td>\n    </tr>\n    <tr>\n      <th>...</th>\n      <td>...</td>\n      <td>...</td>\n      <td>...</td>\n      <td>...</td>\n    </tr>\n    <tr>\n      <th>113</th>\n      <td>2022-08-25</td>\n      <td>180.1848</td>\n      <td>153.7349</td>\n      <td>127.2850</td>\n    </tr>\n    <tr>\n      <th>114</th>\n      <td>2022-08-26</td>\n      <td>180.3556</td>\n      <td>154.3025</td>\n      <td>128.2493</td>\n    </tr>\n    <tr>\n      <th>115</th>\n      <td>2022-08-29</td>\n      <td>180.1013</td>\n      <td>154.9325</td>\n      <td>129.7637</td>\n    </tr>\n    <tr>\n      <th>116</th>\n      <td>2022-08-30</td>\n      <td>179.7552</td>\n      <td>155.4831</td>\n      <td>131.2110</td>\n    </tr>\n    <tr>\n      <th>117</th>\n      <td>2022-08-31</td>\n      <td>179.5204</td>\n      <td>155.9139</td>\n      <td>132.3074</td>\n    </tr>\n  </tbody>\n</table>\n<p>118 rows × 4 columns</p>\n</div>"
     },
     "execution_count": 4,
     "metadata": {},
     "output_type": "execute_result"
    }
   ],
   "source": [
    "get_technical_data('AAPL.US', 'bbands', '2022-01-01', '2022-08-31')"
   ],
   "metadata": {
    "collapsed": false,
    "pycharm": {
     "name": "#%%\n"
    }
   }
  },
  {
   "cell_type": "markdown",
   "source": [
    "<h1> Moving Average Convergence Divergence MACD </h1>\n",
    "\n",
    "**Characteristics**\n",
    "- A trend-following mometum indicator that shows the relationship between two exponential moving averages of a security's price\n",
    "- The MACD line is calculated by subtracted the 26-period EMA from 12-period EMA.\n",
    "- The MACD signal line is a 9 period EMA.\n",
    "- When the MACD line crosses above the signal line, buy. If MACD crosses below the signal line, sell.\n",
    "- Divergence = MACD - signal"
   ],
   "metadata": {
    "collapsed": false,
    "pycharm": {
     "name": "#%% md\n"
    }
   }
  },
  {
   "cell_type": "code",
   "execution_count": 12,
   "outputs": [
    {
     "data": {
      "text/plain": "          date    macd  signal  divergence\n0   2022-01-24 -2.4249 -0.1194     -2.3055\n1   2022-01-25 -2.9890 -0.6933     -2.2957\n2   2022-01-26 -3.4041 -1.2355     -2.1686\n3   2022-01-27 -3.7277 -1.7339     -1.9938\n4   2022-01-28 -3.0577 -1.9987     -1.0590\n5   2022-01-31 -2.1449 -2.0279     -0.1170\n6   2022-02-01 -1.4189 -1.9061      0.4873\n7   2022-02-02 -0.7363 -1.6722      0.9359\n8   2022-02-03 -0.4263 -1.4230      0.9967\n9   2022-02-04 -0.2016 -1.1787      0.9771\n10  2022-02-07 -0.0812 -0.9592      0.8780\n11  2022-02-08  0.2658 -0.7142      0.9800\n12  2022-02-09  0.6497 -0.4414      1.0912\n13  2022-02-10  0.6128 -0.2306      0.8434",
      "text/html": "<div>\n<style scoped>\n    .dataframe tbody tr th:only-of-type {\n        vertical-align: middle;\n    }\n\n    .dataframe tbody tr th {\n        vertical-align: top;\n    }\n\n    .dataframe thead th {\n        text-align: right;\n    }\n</style>\n<table border=\"1\" class=\"dataframe\">\n  <thead>\n    <tr style=\"text-align: right;\">\n      <th></th>\n      <th>date</th>\n      <th>macd</th>\n      <th>signal</th>\n      <th>divergence</th>\n    </tr>\n  </thead>\n  <tbody>\n    <tr>\n      <th>0</th>\n      <td>2022-01-24</td>\n      <td>-2.4249</td>\n      <td>-0.1194</td>\n      <td>-2.3055</td>\n    </tr>\n    <tr>\n      <th>1</th>\n      <td>2022-01-25</td>\n      <td>-2.9890</td>\n      <td>-0.6933</td>\n      <td>-2.2957</td>\n    </tr>\n    <tr>\n      <th>2</th>\n      <td>2022-01-26</td>\n      <td>-3.4041</td>\n      <td>-1.2355</td>\n      <td>-2.1686</td>\n    </tr>\n    <tr>\n      <th>3</th>\n      <td>2022-01-27</td>\n      <td>-3.7277</td>\n      <td>-1.7339</td>\n      <td>-1.9938</td>\n    </tr>\n    <tr>\n      <th>4</th>\n      <td>2022-01-28</td>\n      <td>-3.0577</td>\n      <td>-1.9987</td>\n      <td>-1.0590</td>\n    </tr>\n    <tr>\n      <th>5</th>\n      <td>2022-01-31</td>\n      <td>-2.1449</td>\n      <td>-2.0279</td>\n      <td>-0.1170</td>\n    </tr>\n    <tr>\n      <th>6</th>\n      <td>2022-02-01</td>\n      <td>-1.4189</td>\n      <td>-1.9061</td>\n      <td>0.4873</td>\n    </tr>\n    <tr>\n      <th>7</th>\n      <td>2022-02-02</td>\n      <td>-0.7363</td>\n      <td>-1.6722</td>\n      <td>0.9359</td>\n    </tr>\n    <tr>\n      <th>8</th>\n      <td>2022-02-03</td>\n      <td>-0.4263</td>\n      <td>-1.4230</td>\n      <td>0.9967</td>\n    </tr>\n    <tr>\n      <th>9</th>\n      <td>2022-02-04</td>\n      <td>-0.2016</td>\n      <td>-1.1787</td>\n      <td>0.9771</td>\n    </tr>\n    <tr>\n      <th>10</th>\n      <td>2022-02-07</td>\n      <td>-0.0812</td>\n      <td>-0.9592</td>\n      <td>0.8780</td>\n    </tr>\n    <tr>\n      <th>11</th>\n      <td>2022-02-08</td>\n      <td>0.2658</td>\n      <td>-0.7142</td>\n      <td>0.9800</td>\n    </tr>\n    <tr>\n      <th>12</th>\n      <td>2022-02-09</td>\n      <td>0.6497</td>\n      <td>-0.4414</td>\n      <td>1.0912</td>\n    </tr>\n    <tr>\n      <th>13</th>\n      <td>2022-02-10</td>\n      <td>0.6128</td>\n      <td>-0.2306</td>\n      <td>0.8434</td>\n    </tr>\n  </tbody>\n</table>\n</div>"
     },
     "execution_count": 12,
     "metadata": {},
     "output_type": "execute_result"
    }
   ],
   "source": [
    "get_technical_data(client, 'AAPL.US', ['macd'], start='2022-01-01', end='2022-02-10', price=False)"
   ],
   "metadata": {
    "collapsed": false,
    "pycharm": {
     "name": "#%%\n"
    }
   }
  },
  {
   "cell_type": "code",
   "execution_count": null,
   "outputs": [],
   "source": [],
   "metadata": {
    "collapsed": false,
    "pycharm": {
     "name": "#%%"
    }
   }
  }
 ],
 "metadata": {
  "kernelspec": {
   "display_name": "Python 3",
   "language": "python",
   "name": "python3"
  },
  "language_info": {
   "codemirror_mode": {
    "name": "ipython",
    "version": 2
   },
   "file_extension": ".py",
   "mimetype": "text/x-python",
   "name": "python",
   "nbconvert_exporter": "python",
   "pygments_lexer": "ipython2",
   "version": "2.7.6"
  }
 },
 "nbformat": 4,
 "nbformat_minor": 0
}