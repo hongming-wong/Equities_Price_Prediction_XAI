{
 "cells": [
  {
   "cell_type": "markdown",
   "metadata": {},
   "source": [
    "Here, we would like to implement a multivariate time series LSTM model that utilizes historical prices along with technical indicators to predict prices."
   ]
  },
  {
   "cell_type": "markdown",
   "metadata": {},
   "source": [
    "<img src=\"https://api.wandb.ai/files/ayush-thakur/images/projects/103390/4fc355be.png\" width=500 height=300>"
   ]
  },
  {
   "cell_type": "code",
   "execution_count": 172,
   "metadata": {
    "pycharm": {
     "is_executing": true,
     "name": "#%%\n"
    }
   },
   "outputs": [],
   "source": [
    "import os\n",
    "import numpy as np\n",
    "from Functions.sp500.sp500 import get_sp500_tickers"
   ]
  },
  {
   "cell_type": "code",
   "execution_count": 213,
   "metadata": {
    "pycharm": {
     "is_executing": true,
     "name": "#%%\n"
    }
   },
   "outputs": [],
   "source": [
    "def load_data(tickers):\n",
    "    final_X, final_y = None, None\n",
    "    for ticker in tickers:\n",
    "        print(f\"Loading {ticker}\")\n",
    "        a = f\"../Functions/csv_files/sampling_data/{ticker}/X.npy\"\n",
    "        b = f\"../Functions/csv_files/sampling_data/{ticker}/y.npy\"\n",
    "        if not os.path.exists(a) or not os.path.exists(b):\n",
    "            print(f\"No {ticker} data\")\n",
    "            continue\n",
    "        data_X = np.load(a, allow_pickle=True)\n",
    "        data_y = np.load(b, allow_pickle=True)\n",
    "        if len(data_X.shape) != 3 or data_X.shape[1] != 14 or data_X.shape[2] != 7:\n",
    "            print(f\"{ticker} is corrupted: Training Data is incorrect\")\n",
    "            continue\n",
    "        if len(data_y.shape) != 1 or data_y.shape[0] != data_X.shape[0]:\n",
    "            print(f\"{ticker} is corrupted: Label is incorrect\")\n",
    "            continue\n",
    "        if final_X is None and final_y is None:\n",
    "            final_X = data_X\n",
    "            final_y = data_y\n",
    "        else:\n",
    "            final_X = np.append(final_X, data_X, axis=0)\n",
    "            final_y = np.append(final_y, data_y, axis=0)\n",
    "    return final_X, final_y"
   ]
  },
  {
   "cell_type": "code",
   "execution_count": 204,
   "metadata": {
    "pycharm": {
     "name": "#%%\n"
    }
   },
   "outputs": [
    {
     "name": "stdout",
     "output_type": "stream",
     "text": [
      "['AAPL.US', 'MSFT.US', 'AMZN.US', 'TSLA.US', 'GOOGL.US', 'GOOG.US', 'BRKB.US', 'UNH.US', 'JNJ.US', 'XOM.US', 'META.US', 'JPM.US', 'NVDA.US', 'PG.US', 'V.US', 'HD.US', 'CVX.US', 'LLY.US', 'PFE.US', 'MA.US', 'ABBV.US', 'PEP.US', 'MRK.US', 'KO.US', 'BAC.US', 'COST.US', 'TMO.US', 'WMT.US', 'AVGO.US', 'DIS.US', 'MCD.US', 'ABT.US', 'DHR.US', 'CSCO.US', 'ACN.US', 'VZ.US', 'NEE.US', 'WFC.US', 'BMY.US', 'CRM.US', 'TXN.US', 'LIN.US', 'COP.US', 'CMCSA.US', 'ADBE.US', 'PM.US', 'QCOM.US', 'CVS.US', 'UNP.US', 'RTX.US', 'AMGN.US', 'LOW.US', 'UPS.US', 'HON.US', 'SCHW.US', 'T.US', 'ELV.US', 'INTU.US', 'IBM.US', 'MDT.US', 'INTC.US', 'MS.US', 'NKE.US', 'NFLX.US', 'SPGI.US', 'AMD.US', 'GS.US', 'AMT.US', 'PYPL.US', 'SBUX.US', 'ADP.US', 'DE.US', 'ORCL.US', 'LMT.US', 'CAT.US', 'CI.US', 'BLK.US', 'AXP.US', 'TMUS.US', 'C.US', 'GILD.US', 'NOW.US', 'CB.US', 'PLD.US', 'MDLZ.US', 'MMC.US', 'VRTX.US', 'REGN.US', 'ADI.US', 'TJX.US', 'MO.US', 'SO.US', 'DUK.US', 'AMAT.US', 'ZTS.US', 'TGT.US', 'NOC.US', 'SYK.US', 'PGR.US', 'GE.US', 'BA.US', 'ISRG.US', 'EOG.US', 'BKNG.US', 'BDX.US', 'CME.US', 'CCI.US', 'PNC.US', 'HUM.US', 'MMM.US', 'WM.US', 'FISV.US', 'CL.US', 'TFC.US', 'D.US', 'CSX.US', 'AON.US', 'MU.US', 'BSX.US', 'DG.US', 'USB.US', 'ETN.US', 'ATVI.US', 'PXD.US', 'EQIX.US', 'APD.US', 'EW.US', 'ITW.US', 'SLB.US', 'ICE.US', 'LRCX.US', 'EL.US', 'MPC.US', 'NSC.US', 'MCK.US', 'SHW.US', 'GD.US', 'SRE.US', 'GM.US', 'SNPS.US', 'PSA.US', 'FIS.US', 'GIS.US', 'OXY.US', 'ADM.US', 'ORLY.US', 'CDNS.US', 'CNC.US', 'AEP.US', 'F.US', 'EMR.US', 'KLAC.US', 'VLO.US', 'AZO.US', 'CMG.US', 'CTVA.US', 'MET.US', 'ADSK.US', 'LHX.US', 'MRNA.US', 'APH.US', 'HCA.US', 'DVN.US', 'FCX.US', 'NXPI.US', 'BIIB.US', 'PSX.US', 'MAR.US', 'MCO.US', 'KMB.US', 'ROP.US', 'ENPH.US', 'MSI.US', 'EXC.US', 'TRV.US', 'STZ.US', 'A.US', 'AIG.US', 'SYY.US', 'AJG.US', 'O.US', 'ECL.US', 'PAYX.US', 'COF.US', 'TEL.US', 'FDX.US', 'WMB.US', 'XEL.US', 'MSCI.US', 'JCI.US', 'IQV.US', 'ALL.US', 'CHTR.US', 'TT.US', 'MCHP.US', 'MNST.US', 'CTAS.US', 'HLT.US', 'NEM.US', 'KMI.US', 'HSY.US', 'AFL.US', 'PRU.US', 'FTNT.US', 'RMD.US', 'DOW.US', 'DXCM.US', 'MTB.US', 'PH.US', 'SBAC.US', 'ALB.US', 'EA.US', 'YUM.US', 'KDP.US', 'CARR.US', 'ED.US', 'HES.US', 'GPN.US', 'CTSH.US', 'WELL.US', 'ROST.US', 'ILMN.US', 'TWTR.US', 'SPG.US', 'CMI.US', 'PCAR.US', 'DLTR.US', 'VICI.US', 'KR.US', 'DLR.US', 'NUE.US', 'BK.US', 'KEYS.US', 'RSG.US', 'PEG.US', 'WEC.US', 'ANET.US', 'CSGP.US', 'IDXX.US', 'AMP.US', 'TDG.US', 'BAX.US', 'ES.US', 'ON.US', 'OTIS.US', 'CEG.US', 'VRSK.US', 'KHC.US', 'FAST.US', 'PPG.US', 'AME.US', 'AVB.US', 'DD.US', 'WBD.US', 'DFS.US', 'ROK.US', 'MTD.US', 'TROW.US', 'FRC.US', 'AWK.US', 'ODFL.US', 'IFF.US', 'EXR.US', 'EQR.US', 'HPQ.US', 'OKE.US', 'CPRT.US', 'WBA.US']\n"
     ]
    }
   ],
   "source": [
    "tickers = get_sp500_tickers(False)\n",
    "end = tickers.index(\"WTW.US\")\n",
    "tickers = tickers[:end]\n",
    "print(tickers)"
   ]
  },
  {
   "cell_type": "code",
   "execution_count": 214,
   "metadata": {
    "pycharm": {
     "name": "#%%\n"
    }
   },
   "outputs": [
    {
     "name": "stdout",
     "output_type": "stream",
     "text": [
      "Loading AAPL.US\n",
      "Loading MSFT.US\n",
      "Loading AMZN.US\n",
      "Loading TSLA.US\n",
      "Loading GOOGL.US\n",
      "Loading GOOG.US\n",
      "Loading BRKB.US\n",
      "Loading UNH.US\n",
      "Loading JNJ.US\n",
      "Loading XOM.US\n",
      "Loading META.US\n",
      "Loading JPM.US\n",
      "Loading NVDA.US\n",
      "Loading PG.US\n",
      "Loading V.US\n",
      "Loading HD.US\n",
      "Loading CVX.US\n",
      "Loading LLY.US\n",
      "Loading PFE.US\n",
      "Loading MA.US\n",
      "Loading ABBV.US\n",
      "Loading PEP.US\n",
      "Loading MRK.US\n",
      "Loading KO.US\n",
      "Loading BAC.US\n",
      "Loading COST.US\n",
      "Loading TMO.US\n",
      "Loading WMT.US\n",
      "Loading AVGO.US\n",
      "Loading DIS.US\n",
      "Loading MCD.US\n",
      "Loading ABT.US\n",
      "Loading DHR.US\n",
      "Loading CSCO.US\n",
      "Loading ACN.US\n",
      "Loading VZ.US\n",
      "Loading NEE.US\n",
      "Loading WFC.US\n",
      "Loading BMY.US\n",
      "Loading CRM.US\n",
      "Loading TXN.US\n",
      "Loading LIN.US\n",
      "Loading COP.US\n",
      "Loading CMCSA.US\n",
      "Loading ADBE.US\n",
      "Loading PM.US\n",
      "Loading QCOM.US\n",
      "Loading CVS.US\n",
      "Loading UNP.US\n",
      "Loading RTX.US\n",
      "Loading AMGN.US\n",
      "Loading LOW.US\n",
      "Loading UPS.US\n",
      "Loading HON.US\n",
      "Loading SCHW.US\n",
      "Loading T.US\n",
      "Loading ELV.US\n",
      "Loading INTU.US\n",
      "Loading IBM.US\n",
      "Loading MDT.US\n",
      "Loading INTC.US\n",
      "Loading MS.US\n",
      "Loading NKE.US\n",
      "Loading NFLX.US\n",
      "Loading SPGI.US\n",
      "Loading AMD.US\n",
      "Loading GS.US\n",
      "Loading AMT.US\n",
      "Loading PYPL.US\n",
      "Loading SBUX.US\n",
      "Loading ADP.US\n",
      "Loading DE.US\n",
      "Loading ORCL.US\n",
      "Loading LMT.US\n",
      "Loading CAT.US\n",
      "Loading CI.US\n",
      "Loading BLK.US\n",
      "Loading AXP.US\n",
      "Loading TMUS.US\n",
      "Loading C.US\n",
      "Loading GILD.US\n",
      "Loading NOW.US\n",
      "Loading CB.US\n",
      "Loading PLD.US\n",
      "Loading MDLZ.US\n",
      "Loading MMC.US\n",
      "Loading VRTX.US\n",
      "Loading REGN.US\n",
      "Loading ADI.US\n",
      "Loading TJX.US\n",
      "Loading MO.US\n",
      "Loading SO.US\n",
      "Loading DUK.US\n",
      "Loading AMAT.US\n",
      "Loading ZTS.US\n",
      "Loading TGT.US\n",
      "Loading NOC.US\n",
      "Loading SYK.US\n",
      "Loading PGR.US\n",
      "Loading GE.US\n",
      "Loading BA.US\n",
      "Loading ISRG.US\n",
      "Loading EOG.US\n",
      "Loading BKNG.US\n",
      "Loading BDX.US\n",
      "Loading CME.US\n",
      "Loading CCI.US\n",
      "Loading PNC.US\n",
      "Loading HUM.US\n",
      "Loading MMM.US\n",
      "Loading WM.US\n",
      "Loading FISV.US\n",
      "Loading CL.US\n",
      "Loading TFC.US\n",
      "Loading D.US\n",
      "Loading CSX.US\n",
      "Loading AON.US\n",
      "Loading MU.US\n",
      "Loading BSX.US\n",
      "Loading DG.US\n",
      "Loading USB.US\n",
      "Loading ETN.US\n",
      "Loading ATVI.US\n",
      "Loading PXD.US\n",
      "Loading EQIX.US\n",
      "Loading APD.US\n",
      "Loading EW.US\n",
      "Loading ITW.US\n",
      "Loading SLB.US\n",
      "Loading ICE.US\n",
      "Loading LRCX.US\n",
      "Loading EL.US\n",
      "Loading MPC.US\n",
      "Loading NSC.US\n",
      "Loading MCK.US\n",
      "Loading SHW.US\n",
      "Loading GD.US\n",
      "Loading SRE.US\n",
      "Loading GM.US\n",
      "Loading SNPS.US\n",
      "Loading PSA.US\n",
      "Loading FIS.US\n",
      "Loading GIS.US\n",
      "Loading OXY.US\n",
      "Loading ADM.US\n",
      "Loading ORLY.US\n",
      "Loading CDNS.US\n",
      "Loading CNC.US\n",
      "Loading AEP.US\n",
      "Loading F.US\n",
      "Loading EMR.US\n",
      "Loading KLAC.US\n",
      "Loading VLO.US\n",
      "Loading AZO.US\n",
      "Loading CMG.US\n",
      "Loading CTVA.US\n",
      "Loading MET.US\n",
      "Loading ADSK.US\n",
      "Loading LHX.US\n",
      "Loading MRNA.US\n",
      "Loading APH.US\n",
      "Loading HCA.US\n",
      "Loading DVN.US\n",
      "Loading FCX.US\n",
      "Loading NXPI.US\n",
      "Loading BIIB.US\n",
      "Loading PSX.US\n",
      "Loading MAR.US\n",
      "Loading MCO.US\n",
      "Loading KMB.US\n",
      "Loading ROP.US\n",
      "Loading ENPH.US\n",
      "Loading MSI.US\n",
      "Loading EXC.US\n",
      "Loading TRV.US\n",
      "Loading STZ.US\n",
      "Loading A.US\n",
      "Loading AIG.US\n",
      "Loading SYY.US\n",
      "Loading AJG.US\n",
      "Loading O.US\n",
      "Loading ECL.US\n",
      "Loading PAYX.US\n",
      "Loading COF.US\n",
      "Loading TEL.US\n",
      "Loading FDX.US\n",
      "Loading WMB.US\n",
      "Loading XEL.US\n",
      "Loading MSCI.US\n",
      "Loading JCI.US\n",
      "Loading IQV.US\n",
      "Loading ALL.US\n",
      "Loading CHTR.US\n",
      "Loading TT.US\n",
      "Loading MCHP.US\n",
      "Loading MNST.US\n",
      "Loading CTAS.US\n",
      "Loading HLT.US\n",
      "Loading NEM.US\n",
      "Loading KMI.US\n",
      "Loading HSY.US\n",
      "Loading AFL.US\n",
      "Loading PRU.US\n",
      "Loading FTNT.US\n",
      "Loading RMD.US\n",
      "Loading DOW.US\n",
      "Loading DXCM.US\n",
      "Loading MTB.US\n",
      "Loading PH.US\n",
      "Loading SBAC.US\n",
      "Loading ALB.US\n",
      "Loading EA.US\n",
      "Loading YUM.US\n",
      "Loading KDP.US\n",
      "Loading CARR.US\n",
      "Loading ED.US\n",
      "Loading HES.US\n",
      "Loading GPN.US\n",
      "Loading CTSH.US\n",
      "Loading WELL.US\n",
      "Loading ROST.US\n",
      "Loading ILMN.US\n",
      "Loading TWTR.US\n",
      "TWTR.US is corrupted: Training Data is incorrect\n",
      "Loading SPG.US\n",
      "Loading CMI.US\n",
      "Loading PCAR.US\n",
      "Loading DLTR.US\n",
      "Loading VICI.US\n",
      "Loading KR.US\n",
      "Loading DLR.US\n",
      "Loading NUE.US\n",
      "Loading BK.US\n",
      "Loading KEYS.US\n",
      "Loading RSG.US\n",
      "Loading PEG.US\n",
      "Loading WEC.US\n",
      "Loading ANET.US\n",
      "Loading CSGP.US\n",
      "Loading IDXX.US\n",
      "Loading AMP.US\n",
      "Loading TDG.US\n",
      "Loading BAX.US\n",
      "Loading ES.US\n",
      "Loading ON.US\n",
      "Loading OTIS.US\n",
      "Loading CEG.US\n",
      "Loading VRSK.US\n",
      "Loading KHC.US\n",
      "Loading FAST.US\n",
      "Loading PPG.US\n",
      "Loading AME.US\n",
      "Loading AVB.US\n",
      "Loading DD.US\n",
      "Loading WBD.US\n",
      "Loading DFS.US\n",
      "Loading ROK.US\n",
      "Loading MTD.US\n",
      "Loading TROW.US\n",
      "Loading FRC.US\n",
      "Loading AWK.US\n",
      "Loading ODFL.US\n",
      "Loading IFF.US\n",
      "Loading EXR.US\n",
      "Loading EQR.US\n",
      "Loading HPQ.US\n",
      "Loading OKE.US\n",
      "Loading CPRT.US\n",
      "Loading WBA.US\n"
     ]
    }
   ],
   "source": [
    "X, y = load_data(tickers)"
   ]
  },
  {
   "cell_type": "code",
   "execution_count": 216,
   "metadata": {},
   "outputs": [
    {
     "data": {
      "text/plain": [
       "array([['2017-05-08', 35.9085, 195009600, 34.4564, 0.1639, 75.8309,\n",
       "        0.5258],\n",
       "       ['2017-05-09', 36.1385, 156521600, 34.728, 0.1863, 77.2823,\n",
       "        0.6881],\n",
       "       ['2017-05-10', 35.9672, 103222800, 34.947, 0.2037, 73.731, 0.7906],\n",
       "       ['2017-05-11', 36.2782, 109020400, 35.1834, 0.2175, 75.8966,\n",
       "        0.8831],\n",
       "       ['2017-05-12', 36.7849, 130108000, 35.4597, 0.2436, 78.9424,\n",
       "        1.0699],\n",
       "       ['2017-05-15', 36.6906, 104038800, 35.6942, 0.2605, 76.9925,\n",
       "        1.1783],\n",
       "       ['2017-05-16', 36.6364, 80194000, 35.8951, 0.257, 75.833, 1.1548],\n",
       "       ['2017-05-17', 35.4063, 203070800, 35.9042, 0.2064, 55.431,\n",
       "        0.9596],\n",
       "       ['2017-05-18', 35.946, 134272800, 35.9694, 0.1628, 60.4576,\n",
       "        0.7337],\n",
       "       ['2017-05-19', 36.0685, 107843200, 36.0296, 0.1356, 61.5185,\n",
       "        0.6283],\n",
       "       ['2017-05-22', 36.2876, 91865600, 36.1032, 0.1145, 63.4094,\n",
       "        0.5465],\n",
       "       ['2017-05-23', 36.2429, 79675600, 36.1549, 0.0813, 62.7321,\n",
       "        0.4132],\n",
       "       ['2017-05-24', 36.1345, 76712000, 36.1757, 0.0333, 61.0298,\n",
       "        0.2186],\n",
       "       ['2017-05-25', 36.2594, 76942400, 36.1965, 0.0, 62.2993, 0.1179]],\n",
       "      dtype=object)"
      ]
     },
     "execution_count": 216,
     "metadata": {},
     "output_type": "execute_result"
    }
   ],
   "source": [
    "X[0]"
   ]
  },
  {
   "cell_type": "code",
   "execution_count": 217,
   "metadata": {},
   "outputs": [],
   "source": [
    "def remove_date(X):\n",
    "    X_train = np.delete(X, 0, 2)\n",
    "    X_train = np.asarray(X_train).astype(np.float32)\n",
    "    return X_train\n",
    "X_train = remove_date(X)"
   ]
  },
  {
   "cell_type": "code",
   "execution_count": 219,
   "metadata": {},
   "outputs": [
    {
     "data": {
      "text/plain": [
       "36.2122"
      ]
     },
     "execution_count": 219,
     "metadata": {},
     "output_type": "execute_result"
    }
   ],
   "source": [
    "y[0]"
   ]
  },
  {
   "cell_type": "code",
   "execution_count": 158,
   "metadata": {
    "pycharm": {
     "name": "#%%\n"
    }
   },
   "outputs": [],
   "source": [
    "from keras.models import Sequential\n",
    "from keras.layers import Dense, LSTM"
   ]
  },
  {
   "cell_type": "code",
   "execution_count": 163,
   "metadata": {},
   "outputs": [
    {
     "data": {
      "text/plain": [
       "array([['2019-11-29', 267.25, 64.7021, 0.0627, 73.6282, 0.2749],\n",
       "       ['2019-12-02', 264.16, 64.7364, 0.0416, 65.8583, 0.2515],\n",
       "       ['2019-12-03', 259.45, 64.6925, -0.0165, 56.1351, 0.3342],\n",
       "       ['2019-12-04', 261.74, 64.6448, -0.0356, 59.2829, 0.3638],\n",
       "       ['2019-12-05', 265.58, 64.6962, -0.0397, 63.9539, 0.357],\n",
       "       ['2019-12-06', 270.71, 64.7827, 0.0141, 69.0601, 0.5081],\n",
       "       ['2019-12-09', 266.92, 64.7795, 0.0469, 62.0652, 0.5048],\n",
       "       ['2019-12-10', 268.48, 64.8178, 0.0842, 63.6954, 0.5512],\n",
       "       ['2019-12-11', 270.77, 64.9502, 0.1102, 66.0045, 0.663],\n",
       "       ['2019-12-12', 271.46, 65.1153, 0.1233, 66.6921, 0.7335],\n",
       "       ['2019-12-13', 275.15, 65.3489, 0.1502, 70.1668, 0.9377],\n",
       "       ['2019-12-16', 279.86, 65.5846, 0.2327, 73.9083, 1.5694],\n",
       "       ['2019-12-17', 280.41, 65.8663, 0.2877, 74.3137, 2.0732],\n",
       "       ['2019-12-18', 279.74, 66.0742, 0.3493, 72.8301, 2.4897]],\n",
       "      dtype=object)"
      ]
     },
     "execution_count": 163,
     "metadata": {},
     "output_type": "execute_result"
    }
   ],
   "source": [
    "from \".Fun\""
   ]
  },
  {
   "cell_type": "code",
   "execution_count": 142,
   "metadata": {},
   "outputs": [
    {
     "data": {
      "text/plain": [
       "array([[ 2.02496e+01,  1.44200e-01, -2.00000e-04,  4.56746e+01,\n",
       "         1.00000e-04],\n",
       "       [ 2.04960e+01,  1.43900e-01,  6.00000e-04,  4.70359e+01,\n",
       "         1.00000e-04],\n",
       "       [ 2.08096e+01,  1.44700e-01,  1.10000e-03,  4.87819e+01,\n",
       "         1.00000e-04],\n",
       "       [ 2.10000e+01,  1.45500e-01,  1.70000e-03,  4.98210e+01,\n",
       "         1.00000e-04],\n",
       "       [ 2.19968e+01,  1.47000e-01,  2.30000e-03,  5.51416e+01,\n",
       "         2.00000e-04],\n",
       "       [ 2.22544e+01,  1.48800e-01,  2.90000e-03,  5.64502e+01,\n",
       "         2.00000e-04],\n",
       "       [ 2.13696e+01,  1.50200e-01,  3.00000e-03,  5.10023e+01,\n",
       "         2.00000e-04],\n",
       "       [ 2.19968e+01,  1.52500e-01,  3.00000e-03,  5.43513e+01,\n",
       "         2.00000e-04],\n",
       "       [ 2.12464e+01,  1.54200e-01,  2.80000e-03,  4.99824e+01,\n",
       "         2.00000e-04],\n",
       "       [ 2.16272e+01,  1.56600e-01,  2.30000e-03,  5.20923e+01,\n",
       "         2.00000e-04],\n",
       "       [ 2.10000e+01,  1.58800e-01,  1.50000e-03,  4.84493e+01,\n",
       "         1.00000e-04],\n",
       "       [ 2.15040e+01,  1.61400e-01,  6.00000e-04,  5.14219e+01,\n",
       "         0.00000e+00],\n",
       "       [ 2.23776e+01,  1.62200e-01,  8.00000e-04,  5.60416e+01,\n",
       "         0.00000e+00],\n",
       "       [ 2.21200e+01,  1.62900e-01,  8.00000e-04,  5.43547e+01,\n",
       "         0.00000e+00]], dtype=float32)"
      ]
     },
     "execution_count": 142,
     "metadata": {},
     "output_type": "execute_result"
    }
   ],
   "source": [
    "X_train[0][0]"
   ]
  },
  {
   "cell_type": "code",
   "execution_count": 141,
   "metadata": {
    "pycharm": {
     "name": "#%%\n"
    }
   },
   "outputs": [
    {
     "name": "stdout",
     "output_type": "stream",
     "text": [
      "Epoch 1/1000\n",
      "WARNING:tensorflow:Model was constructed with shape (None, 14, 1) for input KerasTensor(type_spec=TensorSpec(shape=(None, 14, 1), dtype=tf.float32, name='lstm_7_input'), name='lstm_7_input', description=\"created by layer 'lstm_7_input'\"), but it was called on an input with incompatible shape (None, 14, 5).\n"
     ]
    },
    {
     "ename": "ValueError",
     "evalue": "in user code:\n\n    File \"C:\\Users\\Admin\\Desktop\\Equities_Price_Prediction_XAI\\venv\\lib\\site-packages\\keras\\engine\\training.py\", line 1160, in train_function  *\n        return step_function(self, iterator)\n    File \"C:\\Users\\Admin\\Desktop\\Equities_Price_Prediction_XAI\\venv\\lib\\site-packages\\keras\\engine\\training.py\", line 1146, in step_function  **\n        outputs = model.distribute_strategy.run(run_step, args=(data,))\n    File \"C:\\Users\\Admin\\Desktop\\Equities_Price_Prediction_XAI\\venv\\lib\\site-packages\\keras\\engine\\training.py\", line 1135, in run_step  **\n        outputs = model.train_step(data)\n    File \"C:\\Users\\Admin\\Desktop\\Equities_Price_Prediction_XAI\\venv\\lib\\site-packages\\keras\\engine\\training.py\", line 993, in train_step\n        y_pred = self(x, training=True)\n    File \"C:\\Users\\Admin\\Desktop\\Equities_Price_Prediction_XAI\\venv\\lib\\site-packages\\keras\\utils\\traceback_utils.py\", line 70, in error_handler\n        raise e.with_traceback(filtered_tb) from None\n    File \"C:\\Users\\Admin\\Desktop\\Equities_Price_Prediction_XAI\\venv\\lib\\site-packages\\keras\\engine\\input_spec.py\", line 295, in assert_input_compatibility\n        raise ValueError(\n\n    ValueError: Exception encountered when calling layer \"sequential_7\" \"                 f\"(type Sequential).\n    \n    Input 0 of layer \"lstm_7\" is incompatible with the layer: expected shape=(None, None, 1), found shape=(None, 14, 5)\n    \n    Call arguments received by layer \"sequential_7\" \"                 f\"(type Sequential):\n      • inputs=tf.Tensor(shape=(None, 14, 5), dtype=float32)\n      • training=True\n      • mask=None\n",
     "output_type": "error",
     "traceback": [
      "\u001b[1;31m---------------------------------------------------------------------------\u001b[0m",
      "\u001b[1;31mValueError\u001b[0m                                Traceback (most recent call last)",
      "Cell \u001b[1;32mIn [141], line 6\u001b[0m\n\u001b[0;32m      3\u001b[0m control_model\u001b[38;5;241m.\u001b[39madd(Dense(\u001b[38;5;241m1\u001b[39m))\n\u001b[0;32m      4\u001b[0m control_model\u001b[38;5;241m.\u001b[39mcompile(optimizer\u001b[38;5;241m=\u001b[39m\u001b[38;5;124m'\u001b[39m\u001b[38;5;124madam\u001b[39m\u001b[38;5;124m'\u001b[39m, loss\u001b[38;5;241m=\u001b[39m\u001b[38;5;124m'\u001b[39m\u001b[38;5;124mmse\u001b[39m\u001b[38;5;124m'\u001b[39m)\n\u001b[1;32m----> 6\u001b[0m control_history \u001b[38;5;241m=\u001b[39m \u001b[43mcontrol_model\u001b[49m\u001b[38;5;241;43m.\u001b[39;49m\u001b[43mfit\u001b[49m\u001b[43m(\u001b[49m\u001b[43mX_train\u001b[49m\u001b[43m,\u001b[49m\u001b[43m \u001b[49m\u001b[43my\u001b[49m\u001b[43m,\u001b[49m\u001b[43m \u001b[49m\u001b[43mepochs\u001b[49m\u001b[38;5;241;43m=\u001b[39;49m\u001b[38;5;241;43m1000\u001b[39;49m\u001b[43m,\u001b[49m\u001b[43m \u001b[49m\u001b[43mvalidation_split\u001b[49m\u001b[38;5;241;43m=\u001b[39;49m\u001b[38;5;241;43m0.2\u001b[39;49m\u001b[43m,\u001b[49m\u001b[43m \u001b[49m\u001b[43mverbose\u001b[49m\u001b[38;5;241;43m=\u001b[39;49m\u001b[38;5;241;43m1\u001b[39;49m\u001b[43m)\u001b[49m\n",
      "File \u001b[1;32m~\\Desktop\\Equities_Price_Prediction_XAI\\venv\\lib\\site-packages\\keras\\utils\\traceback_utils.py:70\u001b[0m, in \u001b[0;36mfilter_traceback.<locals>.error_handler\u001b[1;34m(*args, **kwargs)\u001b[0m\n\u001b[0;32m     67\u001b[0m     filtered_tb \u001b[38;5;241m=\u001b[39m _process_traceback_frames(e\u001b[38;5;241m.\u001b[39m__traceback__)\n\u001b[0;32m     68\u001b[0m     \u001b[38;5;66;03m# To get the full stack trace, call:\u001b[39;00m\n\u001b[0;32m     69\u001b[0m     \u001b[38;5;66;03m# `tf.debugging.disable_traceback_filtering()`\u001b[39;00m\n\u001b[1;32m---> 70\u001b[0m     \u001b[38;5;28;01mraise\u001b[39;00m e\u001b[38;5;241m.\u001b[39mwith_traceback(filtered_tb) \u001b[38;5;28;01mfrom\u001b[39;00m \u001b[38;5;28mNone\u001b[39m\n\u001b[0;32m     71\u001b[0m \u001b[38;5;28;01mfinally\u001b[39;00m:\n\u001b[0;32m     72\u001b[0m     \u001b[38;5;28;01mdel\u001b[39;00m filtered_tb\n",
      "File \u001b[1;32m~\\AppData\\Local\\Temp\\__autograph_generated_file6nhreaxv.py:15\u001b[0m, in \u001b[0;36mouter_factory.<locals>.inner_factory.<locals>.tf__train_function\u001b[1;34m(iterator)\u001b[0m\n\u001b[0;32m     13\u001b[0m \u001b[38;5;28;01mtry\u001b[39;00m:\n\u001b[0;32m     14\u001b[0m     do_return \u001b[38;5;241m=\u001b[39m \u001b[38;5;28;01mTrue\u001b[39;00m\n\u001b[1;32m---> 15\u001b[0m     retval_ \u001b[38;5;241m=\u001b[39m ag__\u001b[38;5;241m.\u001b[39mconverted_call(ag__\u001b[38;5;241m.\u001b[39mld(step_function), (ag__\u001b[38;5;241m.\u001b[39mld(\u001b[38;5;28mself\u001b[39m), ag__\u001b[38;5;241m.\u001b[39mld(iterator)), \u001b[38;5;28;01mNone\u001b[39;00m, fscope)\n\u001b[0;32m     16\u001b[0m \u001b[38;5;28;01mexcept\u001b[39;00m:\n\u001b[0;32m     17\u001b[0m     do_return \u001b[38;5;241m=\u001b[39m \u001b[38;5;28;01mFalse\u001b[39;00m\n",
      "\u001b[1;31mValueError\u001b[0m: in user code:\n\n    File \"C:\\Users\\Admin\\Desktop\\Equities_Price_Prediction_XAI\\venv\\lib\\site-packages\\keras\\engine\\training.py\", line 1160, in train_function  *\n        return step_function(self, iterator)\n    File \"C:\\Users\\Admin\\Desktop\\Equities_Price_Prediction_XAI\\venv\\lib\\site-packages\\keras\\engine\\training.py\", line 1146, in step_function  **\n        outputs = model.distribute_strategy.run(run_step, args=(data,))\n    File \"C:\\Users\\Admin\\Desktop\\Equities_Price_Prediction_XAI\\venv\\lib\\site-packages\\keras\\engine\\training.py\", line 1135, in run_step  **\n        outputs = model.train_step(data)\n    File \"C:\\Users\\Admin\\Desktop\\Equities_Price_Prediction_XAI\\venv\\lib\\site-packages\\keras\\engine\\training.py\", line 993, in train_step\n        y_pred = self(x, training=True)\n    File \"C:\\Users\\Admin\\Desktop\\Equities_Price_Prediction_XAI\\venv\\lib\\site-packages\\keras\\utils\\traceback_utils.py\", line 70, in error_handler\n        raise e.with_traceback(filtered_tb) from None\n    File \"C:\\Users\\Admin\\Desktop\\Equities_Price_Prediction_XAI\\venv\\lib\\site-packages\\keras\\engine\\input_spec.py\", line 295, in assert_input_compatibility\n        raise ValueError(\n\n    ValueError: Exception encountered when calling layer \"sequential_7\" \"                 f\"(type Sequential).\n    \n    Input 0 of layer \"lstm_7\" is incompatible with the layer: expected shape=(None, None, 1), found shape=(None, 14, 5)\n    \n    Call arguments received by layer \"sequential_7\" \"                 f\"(type Sequential):\n      • inputs=tf.Tensor(shape=(None, 14, 5), dtype=float32)\n      • training=True\n      • mask=None\n"
     ]
    }
   ],
   "source": [
    "control_model = Sequential()\n",
    "control_model.add(LSTM(32, activation='relu', input_shape=(14, 1)))\n",
    "control_model.add(Dense(1))\n",
    "control_model.compile(optimizer='adam', loss='mse')\n",
    "\n",
    "control_history = control_model.fit(X_train, y, epochs=1000, validation_split=0.2, verbose=1)"
   ]
  },
  {
   "cell_type": "code",
   "execution_count": 35,
   "metadata": {
    "pycharm": {
     "name": "#%%\n"
    }
   },
   "outputs": [
    {
     "name": "stdout",
     "output_type": "stream",
     "text": [
      "Model: \"sequential_2\"\n",
      "_________________________________________________________________\n",
      " Layer (type)                Output Shape              Param #   \n",
      "=================================================================\n",
      " lstm_2 (LSTM)               (None, 32)                4864      \n",
      "                                                                 \n",
      " dense_2 (Dense)             (None, 1)                 33        \n",
      "                                                                 \n",
      "=================================================================\n",
      "Total params: 4,897\n",
      "Trainable params: 4,897\n",
      "Non-trainable params: 0\n",
      "_________________________________________________________________\n"
     ]
    }
   ],
   "source": [
    "NUM_OF_TIMESTEPS = 14\n",
    "NUM_OF_FEATURES = 5\n",
    "\n",
    "model = Sequential()\n",
    "model.add(LSTM(32, activation='relu', input_shape=(NUM_OF_TIMESTEPS, NUM_OF_FEATURES)))\n",
    "model.add(Dense(1))\n",
    "model.summary()"
   ]
  },
  {
   "cell_type": "code",
   "execution_count": 36,
   "metadata": {
    "pycharm": {
     "name": "#%%\n"
    }
   },
   "outputs": [],
   "source": [
    "model.compile(optimizer='adam', loss='mse')"
   ]
  },
  {
   "cell_type": "code",
   "execution_count": 31,
   "metadata": {},
   "outputs": [],
   "source": [
    "X_train = np.asarray(X_train).astype(np.float32)"
   ]
  },
  {
   "cell_type": "code",
   "execution_count": 38,
   "metadata": {},
   "outputs": [
    {
     "name": "stdout",
     "output_type": "stream",
     "text": [
      "2/2 [==============================] - 2s 12ms/step - loss: 13242.8389\n"
     ]
    },
    {
     "data": {
      "text/plain": [
       "<keras.callbacks.History at 0x2c35e4ceaf0>"
      ]
     },
     "execution_count": 38,
     "metadata": {},
     "output_type": "execute_result"
    }
   ],
   "source": [
    "model.fit(X_train, y)"
   ]
  },
  {
   "cell_type": "code",
   "execution_count": 39,
   "metadata": {},
   "outputs": [
    {
     "name": "stdout",
     "output_type": "stream",
     "text": [
      "[ 23.0048 190.2488  19.5272  59.5112  40.8912 279.44    70.     210.24\n",
      "  26.4992  14.6384 115.36   136.96    39.7488 169.5792 268.2988  58.2512\n",
      " 102.5024  20.8768  26.6224 166.23    33.7008 131.7708  19.0904 113.2544\n",
      "  20.44    91.8752 247.86    74.49    28.2528  37.29    27.13    36.48\n",
      "  48.      25.41    46.752   21.73    26.1    100.85   293.47    66.7504\n",
      " 178.6     28.49    72.26   119.      73.35    26.44    31.39    67.32\n",
      "  27.283   64.41  ]\n"
     ]
    }
   ],
   "source": [
    "print(y)"
   ]
  },
  {
   "cell_type": "code",
   "execution_count": 41,
   "metadata": {},
   "outputs": [
    {
     "ename": "ValueError",
     "evalue": "in user code:\n\n    File \"C:\\Users\\Admin\\Desktop\\Equities_Price_Prediction_XAI\\venv\\lib\\site-packages\\keras\\engine\\training.py\", line 2041, in predict_function  *\n        return step_function(self, iterator)\n    File \"C:\\Users\\Admin\\Desktop\\Equities_Price_Prediction_XAI\\venv\\lib\\site-packages\\keras\\engine\\training.py\", line 2027, in step_function  **\n        outputs = model.distribute_strategy.run(run_step, args=(data,))\n    File \"C:\\Users\\Admin\\Desktop\\Equities_Price_Prediction_XAI\\venv\\lib\\site-packages\\keras\\engine\\training.py\", line 2015, in run_step  **\n        outputs = model.predict_step(data)\n    File \"C:\\Users\\Admin\\Desktop\\Equities_Price_Prediction_XAI\\venv\\lib\\site-packages\\keras\\engine\\training.py\", line 1983, in predict_step\n        return self(x, training=False)\n    File \"C:\\Users\\Admin\\Desktop\\Equities_Price_Prediction_XAI\\venv\\lib\\site-packages\\keras\\utils\\traceback_utils.py\", line 70, in error_handler\n        raise e.with_traceback(filtered_tb) from None\n    File \"C:\\Users\\Admin\\Desktop\\Equities_Price_Prediction_XAI\\venv\\lib\\site-packages\\keras\\engine\\input_spec.py\", line 295, in assert_input_compatibility\n        raise ValueError(\n\n    ValueError: Input 0 of layer \"sequential_2\" is incompatible with the layer: expected shape=(None, 14, 5), found shape=(None, 5)\n",
     "output_type": "error",
     "traceback": [
      "\u001b[1;31m---------------------------------------------------------------------------\u001b[0m",
      "\u001b[1;31mValueError\u001b[0m                                Traceback (most recent call last)",
      "Cell \u001b[1;32mIn [41], line 1\u001b[0m\n\u001b[1;32m----> 1\u001b[0m \u001b[43mmodel\u001b[49m\u001b[38;5;241;43m.\u001b[39;49m\u001b[43mpredict\u001b[49m\u001b[43m(\u001b[49m\u001b[43m[\u001b[49m\u001b[43mX_train\u001b[49m\u001b[43m[\u001b[49m\u001b[38;5;241;43m0\u001b[39;49m\u001b[43m]\u001b[49m\u001b[43m]\u001b[49m\u001b[43m)\u001b[49m\n",
      "File \u001b[1;32m~\\Desktop\\Equities_Price_Prediction_XAI\\venv\\lib\\site-packages\\keras\\utils\\traceback_utils.py:70\u001b[0m, in \u001b[0;36mfilter_traceback.<locals>.error_handler\u001b[1;34m(*args, **kwargs)\u001b[0m\n\u001b[0;32m     67\u001b[0m     filtered_tb \u001b[38;5;241m=\u001b[39m _process_traceback_frames(e\u001b[38;5;241m.\u001b[39m__traceback__)\n\u001b[0;32m     68\u001b[0m     \u001b[38;5;66;03m# To get the full stack trace, call:\u001b[39;00m\n\u001b[0;32m     69\u001b[0m     \u001b[38;5;66;03m# `tf.debugging.disable_traceback_filtering()`\u001b[39;00m\n\u001b[1;32m---> 70\u001b[0m     \u001b[38;5;28;01mraise\u001b[39;00m e\u001b[38;5;241m.\u001b[39mwith_traceback(filtered_tb) \u001b[38;5;28;01mfrom\u001b[39;00m \u001b[38;5;28mNone\u001b[39m\n\u001b[0;32m     71\u001b[0m \u001b[38;5;28;01mfinally\u001b[39;00m:\n\u001b[0;32m     72\u001b[0m     \u001b[38;5;28;01mdel\u001b[39;00m filtered_tb\n",
      "File \u001b[1;32m~\\AppData\\Local\\Temp\\__autograph_generated_file6tx9pyce.py:15\u001b[0m, in \u001b[0;36mouter_factory.<locals>.inner_factory.<locals>.tf__predict_function\u001b[1;34m(iterator)\u001b[0m\n\u001b[0;32m     13\u001b[0m \u001b[38;5;28;01mtry\u001b[39;00m:\n\u001b[0;32m     14\u001b[0m     do_return \u001b[38;5;241m=\u001b[39m \u001b[38;5;28;01mTrue\u001b[39;00m\n\u001b[1;32m---> 15\u001b[0m     retval_ \u001b[38;5;241m=\u001b[39m ag__\u001b[38;5;241m.\u001b[39mconverted_call(ag__\u001b[38;5;241m.\u001b[39mld(step_function), (ag__\u001b[38;5;241m.\u001b[39mld(\u001b[38;5;28mself\u001b[39m), ag__\u001b[38;5;241m.\u001b[39mld(iterator)), \u001b[38;5;28;01mNone\u001b[39;00m, fscope)\n\u001b[0;32m     16\u001b[0m \u001b[38;5;28;01mexcept\u001b[39;00m:\n\u001b[0;32m     17\u001b[0m     do_return \u001b[38;5;241m=\u001b[39m \u001b[38;5;28;01mFalse\u001b[39;00m\n",
      "\u001b[1;31mValueError\u001b[0m: in user code:\n\n    File \"C:\\Users\\Admin\\Desktop\\Equities_Price_Prediction_XAI\\venv\\lib\\site-packages\\keras\\engine\\training.py\", line 2041, in predict_function  *\n        return step_function(self, iterator)\n    File \"C:\\Users\\Admin\\Desktop\\Equities_Price_Prediction_XAI\\venv\\lib\\site-packages\\keras\\engine\\training.py\", line 2027, in step_function  **\n        outputs = model.distribute_strategy.run(run_step, args=(data,))\n    File \"C:\\Users\\Admin\\Desktop\\Equities_Price_Prediction_XAI\\venv\\lib\\site-packages\\keras\\engine\\training.py\", line 2015, in run_step  **\n        outputs = model.predict_step(data)\n    File \"C:\\Users\\Admin\\Desktop\\Equities_Price_Prediction_XAI\\venv\\lib\\site-packages\\keras\\engine\\training.py\", line 1983, in predict_step\n        return self(x, training=False)\n    File \"C:\\Users\\Admin\\Desktop\\Equities_Price_Prediction_XAI\\venv\\lib\\site-packages\\keras\\utils\\traceback_utils.py\", line 70, in error_handler\n        raise e.with_traceback(filtered_tb) from None\n    File \"C:\\Users\\Admin\\Desktop\\Equities_Price_Prediction_XAI\\venv\\lib\\site-packages\\keras\\engine\\input_spec.py\", line 295, in assert_input_compatibility\n        raise ValueError(\n\n    ValueError: Input 0 of layer \"sequential_2\" is incompatible with the layer: expected shape=(None, 14, 5), found shape=(None, 5)\n"
     ]
    }
   ],
   "source": [
    "model.predict([X_train[0]])"
   ]
  },
  {
   "cell_type": "code",
   "execution_count": null,
   "metadata": {},
   "outputs": [],
   "source": []
  }
 ],
 "metadata": {
  "kernelspec": {
   "display_name": "Python 3 (ipykernel)",
   "language": "python",
   "name": "python3"
  },
  "language_info": {
   "codemirror_mode": {
    "name": "ipython",
    "version": 3
   },
   "file_extension": ".py",
   "mimetype": "text/x-python",
   "name": "python",
   "nbconvert_exporter": "python",
   "pygments_lexer": "ipython3",
   "version": "3.9.7"
  }
 },
 "nbformat": 4,
 "nbformat_minor": 1
}
