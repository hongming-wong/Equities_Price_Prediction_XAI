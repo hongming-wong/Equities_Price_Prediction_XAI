{
 "cells": [
  {
   "cell_type": "code",
   "execution_count": 80,
   "metadata": {},
   "outputs": [],
   "source": [
    "import sys  \n",
    "sys.path.insert(0, '/Users/waihengsoh/Desktop/Simply Solution/vehicle_dis/Equities_Price_Prediction_XAI')\n"
   ]
  },
  {
   "cell_type": "code",
   "execution_count": 81,
   "metadata": {},
   "outputs": [
    {
     "name": "stdout",
     "output_type": "stream",
     "text": [
      "Requirement already satisfied: yfinance in /Users/waihengsoh/opt/miniconda3/lib/python3.9/site-packages (from -r ../requirements.txt (line 1)) (0.1.74)\n",
      "Requirement already satisfied: requests in /Users/waihengsoh/opt/miniconda3/lib/python3.9/site-packages (from -r ../requirements.txt (line 2)) (2.28.1)\n",
      "Requirement already satisfied: eod in /Users/waihengsoh/opt/miniconda3/lib/python3.9/site-packages (from -r ../requirements.txt (line 3)) (0.2.1)\n",
      "Requirement already satisfied: pandas in /Users/waihengsoh/opt/miniconda3/lib/python3.9/site-packages (from -r ../requirements.txt (line 4)) (1.3.5)\n",
      "Requirement already satisfied: scikit-learn in /Users/waihengsoh/opt/miniconda3/lib/python3.9/site-packages (from -r ../requirements.txt (line 5)) (1.0.2)\n",
      "Requirement already satisfied: eodhd in /Users/waihengsoh/opt/miniconda3/lib/python3.9/site-packages (from -r ../requirements.txt (line 6)) (1.0.7)\n",
      "Requirement already satisfied: transformers in /Users/waihengsoh/opt/miniconda3/lib/python3.9/site-packages (from -r ../requirements.txt (line 7)) (4.13.0)\n",
      "Requirement already satisfied: tensorflow in /Users/waihengsoh/opt/miniconda3/lib/python3.9/site-packages (from -r ../requirements.txt (line 8)) (2.9.1)\n",
      "Requirement already satisfied: lxml>=4.5.1 in /Users/waihengsoh/opt/miniconda3/lib/python3.9/site-packages (from yfinance->-r ../requirements.txt (line 1)) (4.8.0)\n",
      "Requirement already satisfied: multitasking>=0.0.7 in /Users/waihengsoh/opt/miniconda3/lib/python3.9/site-packages (from yfinance->-r ../requirements.txt (line 1)) (0.0.11)\n",
      "Requirement already satisfied: numpy>=1.15 in /Users/waihengsoh/opt/miniconda3/lib/python3.9/site-packages (from yfinance->-r ../requirements.txt (line 1)) (1.21.6)\n",
      "Requirement already satisfied: urllib3<1.27,>=1.21.1 in /Users/waihengsoh/opt/miniconda3/lib/python3.9/site-packages (from requests->-r ../requirements.txt (line 2)) (1.25.11)\n",
      "Requirement already satisfied: idna<4,>=2.5 in /Users/waihengsoh/opt/miniconda3/lib/python3.9/site-packages (from requests->-r ../requirements.txt (line 2)) (2.8)\n",
      "Requirement already satisfied: certifi>=2017.4.17 in /Users/waihengsoh/opt/miniconda3/lib/python3.9/site-packages (from requests->-r ../requirements.txt (line 2)) (2021.10.8)\n",
      "Requirement already satisfied: charset-normalizer<3,>=2 in /Users/waihengsoh/opt/miniconda3/lib/python3.9/site-packages (from requests->-r ../requirements.txt (line 2)) (2.0.4)\n",
      "Requirement already satisfied: python-dateutil>=2.7.3 in /Users/waihengsoh/opt/miniconda3/lib/python3.9/site-packages (from pandas->-r ../requirements.txt (line 4)) (2.8.2)\n",
      "Requirement already satisfied: pytz>=2017.3 in /Users/waihengsoh/opt/miniconda3/lib/python3.9/site-packages (from pandas->-r ../requirements.txt (line 4)) (2021.3)\n",
      "Requirement already satisfied: threadpoolctl>=2.0.0 in /Users/waihengsoh/opt/miniconda3/lib/python3.9/site-packages (from scikit-learn->-r ../requirements.txt (line 5)) (3.1.0)\n",
      "Requirement already satisfied: scipy>=1.1.0 in /Users/waihengsoh/opt/miniconda3/lib/python3.9/site-packages (from scikit-learn->-r ../requirements.txt (line 5)) (1.8.0)\n",
      "Requirement already satisfied: joblib>=0.11 in /Users/waihengsoh/opt/miniconda3/lib/python3.9/site-packages (from scikit-learn->-r ../requirements.txt (line 5)) (1.1.0)\n",
      "Requirement already satisfied: websocket-client==1.3.3 in /Users/waihengsoh/opt/miniconda3/lib/python3.9/site-packages (from eodhd->-r ../requirements.txt (line 6)) (1.3.3)\n",
      "Requirement already satisfied: rich==12.5.1 in /Users/waihengsoh/opt/miniconda3/lib/python3.9/site-packages (from eodhd->-r ../requirements.txt (line 6)) (12.5.1)\n",
      "Requirement already satisfied: websockets==10.3 in /Users/waihengsoh/opt/miniconda3/lib/python3.9/site-packages (from eodhd->-r ../requirements.txt (line 6)) (10.3)\n",
      "Requirement already satisfied: commonmark<0.10.0,>=0.9.0 in /Users/waihengsoh/opt/miniconda3/lib/python3.9/site-packages (from rich==12.5.1->eodhd->-r ../requirements.txt (line 6)) (0.9.1)\n",
      "Requirement already satisfied: pygments<3.0.0,>=2.6.0 in /Users/waihengsoh/opt/miniconda3/lib/python3.9/site-packages (from rich==12.5.1->eodhd->-r ../requirements.txt (line 6)) (2.11.2)\n",
      "Requirement already satisfied: tokenizers<0.11,>=0.10.1 in /Users/waihengsoh/opt/miniconda3/lib/python3.9/site-packages (from transformers->-r ../requirements.txt (line 7)) (0.10.3)\n",
      "Requirement already satisfied: packaging>=20.0 in /Users/waihengsoh/opt/miniconda3/lib/python3.9/site-packages (from transformers->-r ../requirements.txt (line 7)) (21.3)\n",
      "Requirement already satisfied: sacremoses in /Users/waihengsoh/opt/miniconda3/lib/python3.9/site-packages (from transformers->-r ../requirements.txt (line 7)) (0.0.47)\n",
      "Requirement already satisfied: filelock in /Users/waihengsoh/opt/miniconda3/lib/python3.9/site-packages (from transformers->-r ../requirements.txt (line 7)) (3.6.0)\n",
      "Requirement already satisfied: tqdm>=4.27 in /Users/waihengsoh/opt/miniconda3/lib/python3.9/site-packages (from transformers->-r ../requirements.txt (line 7)) (4.62.3)\n",
      "Requirement already satisfied: huggingface-hub<1.0,>=0.1.0 in /Users/waihengsoh/opt/miniconda3/lib/python3.9/site-packages (from transformers->-r ../requirements.txt (line 7)) (0.4.0)\n",
      "Requirement already satisfied: regex!=2019.12.17 in /Users/waihengsoh/opt/miniconda3/lib/python3.9/site-packages (from transformers->-r ../requirements.txt (line 7)) (2022.3.2)\n",
      "Requirement already satisfied: pyyaml>=5.1 in /Users/waihengsoh/opt/miniconda3/lib/python3.9/site-packages (from transformers->-r ../requirements.txt (line 7)) (5.4.1)\n",
      "Requirement already satisfied: grpcio<2.0,>=1.24.3 in /Users/waihengsoh/opt/miniconda3/lib/python3.9/site-packages (from tensorflow->-r ../requirements.txt (line 8)) (1.37.1)\n",
      "Requirement already satisfied: h5py>=2.9.0 in /Users/waihengsoh/opt/miniconda3/lib/python3.9/site-packages (from tensorflow->-r ../requirements.txt (line 8)) (3.6.0)\n",
      "Requirement already satisfied: tensorflow-io-gcs-filesystem>=0.23.1 in /Users/waihengsoh/opt/miniconda3/lib/python3.9/site-packages (from tensorflow->-r ../requirements.txt (line 8)) (0.26.0)\n",
      "Requirement already satisfied: protobuf<3.20,>=3.9.2 in /Users/waihengsoh/opt/miniconda3/lib/python3.9/site-packages (from tensorflow->-r ../requirements.txt (line 8)) (3.19.4)\n",
      "Requirement already satisfied: keras<2.10.0,>=2.9.0rc0 in /Users/waihengsoh/opt/miniconda3/lib/python3.9/site-packages (from tensorflow->-r ../requirements.txt (line 8)) (2.9.0)\n",
      "Requirement already satisfied: setuptools in /Users/waihengsoh/opt/miniconda3/lib/python3.9/site-packages (from tensorflow->-r ../requirements.txt (line 8)) (58.0.4)\n",
      "Requirement already satisfied: tensorflow-estimator<2.10.0,>=2.9.0rc0 in /Users/waihengsoh/opt/miniconda3/lib/python3.9/site-packages (from tensorflow->-r ../requirements.txt (line 8)) (2.9.0)\n",
      "Requirement already satisfied: absl-py>=1.0.0 in /Users/waihengsoh/opt/miniconda3/lib/python3.9/site-packages (from tensorflow->-r ../requirements.txt (line 8)) (1.1.0)\n",
      "Requirement already satisfied: termcolor>=1.1.0 in /Users/waihengsoh/opt/miniconda3/lib/python3.9/site-packages (from tensorflow->-r ../requirements.txt (line 8)) (1.1.0)\n",
      "Requirement already satisfied: google-pasta>=0.1.1 in /Users/waihengsoh/opt/miniconda3/lib/python3.9/site-packages (from tensorflow->-r ../requirements.txt (line 8)) (0.2.0)\n",
      "Requirement already satisfied: flatbuffers<2,>=1.12 in /Users/waihengsoh/opt/miniconda3/lib/python3.9/site-packages (from tensorflow->-r ../requirements.txt (line 8)) (1.12)\n",
      "Requirement already satisfied: libclang>=13.0.0 in /Users/waihengsoh/opt/miniconda3/lib/python3.9/site-packages (from tensorflow->-r ../requirements.txt (line 8)) (14.0.1)\n",
      "Requirement already satisfied: six>=1.12.0 in /Users/waihengsoh/opt/miniconda3/lib/python3.9/site-packages (from tensorflow->-r ../requirements.txt (line 8)) (1.16.0)\n",
      "Requirement already satisfied: gast<=0.4.0,>=0.2.1 in /Users/waihengsoh/opt/miniconda3/lib/python3.9/site-packages (from tensorflow->-r ../requirements.txt (line 8)) (0.4.0)\n",
      "Requirement already satisfied: typing-extensions>=3.6.6 in /Users/waihengsoh/opt/miniconda3/lib/python3.9/site-packages (from tensorflow->-r ../requirements.txt (line 8)) (3.10.0.2)\n",
      "Requirement already satisfied: tensorboard<2.10,>=2.9 in /Users/waihengsoh/opt/miniconda3/lib/python3.9/site-packages (from tensorflow->-r ../requirements.txt (line 8)) (2.9.1)\n",
      "Requirement already satisfied: wrapt>=1.11.0 in /Users/waihengsoh/opt/miniconda3/lib/python3.9/site-packages (from tensorflow->-r ../requirements.txt (line 8)) (1.13.3)\n",
      "Requirement already satisfied: opt-einsum>=2.3.2 in /Users/waihengsoh/opt/miniconda3/lib/python3.9/site-packages (from tensorflow->-r ../requirements.txt (line 8)) (3.3.0)\n",
      "Requirement already satisfied: keras-preprocessing>=1.1.1 in /Users/waihengsoh/opt/miniconda3/lib/python3.9/site-packages (from tensorflow->-r ../requirements.txt (line 8)) (1.1.2)\n",
      "Requirement already satisfied: astunparse>=1.6.0 in /Users/waihengsoh/opt/miniconda3/lib/python3.9/site-packages (from tensorflow->-r ../requirements.txt (line 8)) (1.6.3)\n",
      "Requirement already satisfied: wheel<1.0,>=0.23.0 in /Users/waihengsoh/opt/miniconda3/lib/python3.9/site-packages (from astunparse>=1.6.0->tensorflow->-r ../requirements.txt (line 8)) (0.37.1)\n"
     ]
    },
    {
     "name": "stdout",
     "output_type": "stream",
     "text": [
      "Requirement already satisfied: pyparsing!=3.0.5,>=2.0.2 in /Users/waihengsoh/opt/miniconda3/lib/python3.9/site-packages (from packaging>=20.0->transformers->-r ../requirements.txt (line 7)) (3.0.7)\n",
      "Requirement already satisfied: tensorboard-plugin-wit>=1.6.0 in /Users/waihengsoh/opt/miniconda3/lib/python3.9/site-packages (from tensorboard<2.10,>=2.9->tensorflow->-r ../requirements.txt (line 8)) (1.8.1)\n",
      "Requirement already satisfied: werkzeug>=1.0.1 in /Users/waihengsoh/opt/miniconda3/lib/python3.9/site-packages (from tensorboard<2.10,>=2.9->tensorflow->-r ../requirements.txt (line 8)) (2.0.3)\n",
      "Requirement already satisfied: markdown>=2.6.8 in /Users/waihengsoh/opt/miniconda3/lib/python3.9/site-packages (from tensorboard<2.10,>=2.9->tensorflow->-r ../requirements.txt (line 8)) (3.3.6)\n",
      "Requirement already satisfied: tensorboard-data-server<0.7.0,>=0.6.0 in /Users/waihengsoh/opt/miniconda3/lib/python3.9/site-packages (from tensorboard<2.10,>=2.9->tensorflow->-r ../requirements.txt (line 8)) (0.6.1)\n",
      "Requirement already satisfied: google-auth<3,>=1.6.3 in /Users/waihengsoh/opt/miniconda3/lib/python3.9/site-packages (from tensorboard<2.10,>=2.9->tensorflow->-r ../requirements.txt (line 8)) (2.6.2)\n",
      "Requirement already satisfied: google-auth-oauthlib<0.5,>=0.4.1 in /Users/waihengsoh/opt/miniconda3/lib/python3.9/site-packages (from tensorboard<2.10,>=2.9->tensorflow->-r ../requirements.txt (line 8)) (0.4.6)\n",
      "Requirement already satisfied: click in /Users/waihengsoh/opt/miniconda3/lib/python3.9/site-packages (from sacremoses->transformers->-r ../requirements.txt (line 7)) (8.0.4)\n",
      "Requirement already satisfied: pyasn1-modules>=0.2.1 in /Users/waihengsoh/opt/miniconda3/lib/python3.9/site-packages (from google-auth<3,>=1.6.3->tensorboard<2.10,>=2.9->tensorflow->-r ../requirements.txt (line 8)) (0.2.8)\n",
      "Requirement already satisfied: cachetools<6.0,>=2.0.0 in /Users/waihengsoh/opt/miniconda3/lib/python3.9/site-packages (from google-auth<3,>=1.6.3->tensorboard<2.10,>=2.9->tensorflow->-r ../requirements.txt (line 8)) (5.0.0)\n",
      "Requirement already satisfied: rsa<5,>=3.1.4 in /Users/waihengsoh/opt/miniconda3/lib/python3.9/site-packages (from google-auth<3,>=1.6.3->tensorboard<2.10,>=2.9->tensorflow->-r ../requirements.txt (line 8)) (4.8)\n",
      "Requirement already satisfied: requests-oauthlib>=0.7.0 in /Users/waihengsoh/opt/miniconda3/lib/python3.9/site-packages (from google-auth-oauthlib<0.5,>=0.4.1->tensorboard<2.10,>=2.9->tensorflow->-r ../requirements.txt (line 8)) (1.3.1)\n",
      "Requirement already satisfied: importlib-metadata>=4.4 in /Users/waihengsoh/opt/miniconda3/lib/python3.9/site-packages (from markdown>=2.6.8->tensorboard<2.10,>=2.9->tensorflow->-r ../requirements.txt (line 8)) (4.11.3)\n",
      "Requirement already satisfied: zipp>=0.5 in /Users/waihengsoh/opt/miniconda3/lib/python3.9/site-packages (from importlib-metadata>=4.4->markdown>=2.6.8->tensorboard<2.10,>=2.9->tensorflow->-r ../requirements.txt (line 8)) (3.7.0)\n",
      "Requirement already satisfied: pyasn1<0.5.0,>=0.4.6 in /Users/waihengsoh/opt/miniconda3/lib/python3.9/site-packages (from pyasn1-modules>=0.2.1->google-auth<3,>=1.6.3->tensorboard<2.10,>=2.9->tensorflow->-r ../requirements.txt (line 8)) (0.4.8)\n",
      "Requirement already satisfied: oauthlib>=3.0.0 in /Users/waihengsoh/opt/miniconda3/lib/python3.9/site-packages (from requests-oauthlib>=0.7.0->google-auth-oauthlib<0.5,>=0.4.1->tensorboard<2.10,>=2.9->tensorflow->-r ../requirements.txt (line 8)) (3.2.0)\n",
      "\n",
      "\u001b[1m[\u001b[0m\u001b[34;49mnotice\u001b[0m\u001b[1;39;49m]\u001b[0m\u001b[39;49m A new release of pip available: \u001b[0m\u001b[31;49m22.1.2\u001b[0m\u001b[39;49m -> \u001b[0m\u001b[32;49m22.2.2\u001b[0m\n",
      "\u001b[1m[\u001b[0m\u001b[34;49mnotice\u001b[0m\u001b[1;39;49m]\u001b[0m\u001b[39;49m To update, run: \u001b[0m\u001b[32;49mpip install --upgrade pip\u001b[0m\n",
      "Requirement already satisfied: tensorflow-datasets in /Users/waihengsoh/opt/miniconda3/lib/python3.9/site-packages (4.7.0)\n",
      "Requirement already satisfied: tensorflow-metadata in /Users/waihengsoh/opt/miniconda3/lib/python3.9/site-packages (from tensorflow-datasets) (1.10.0)\n",
      "Requirement already satisfied: promise in /Users/waihengsoh/opt/miniconda3/lib/python3.9/site-packages (from tensorflow-datasets) (2.3)\n",
      "Requirement already satisfied: dill in /Users/waihengsoh/opt/miniconda3/lib/python3.9/site-packages (from tensorflow-datasets) (0.3.4)\n",
      "Requirement already satisfied: protobuf>=3.12.2 in /Users/waihengsoh/opt/miniconda3/lib/python3.9/site-packages (from tensorflow-datasets) (3.19.4)\n",
      "Requirement already satisfied: requests>=2.19.0 in /Users/waihengsoh/opt/miniconda3/lib/python3.9/site-packages (from tensorflow-datasets) (2.28.1)\n",
      "Requirement already satisfied: toml in /Users/waihengsoh/opt/miniconda3/lib/python3.9/site-packages (from tensorflow-datasets) (0.10.2)\n",
      "Requirement already satisfied: six in /Users/waihengsoh/opt/miniconda3/lib/python3.9/site-packages (from tensorflow-datasets) (1.16.0)\n",
      "Requirement already satisfied: tqdm in /Users/waihengsoh/opt/miniconda3/lib/python3.9/site-packages (from tensorflow-datasets) (4.62.3)\n",
      "Requirement already satisfied: termcolor in /Users/waihengsoh/opt/miniconda3/lib/python3.9/site-packages (from tensorflow-datasets) (1.1.0)\n",
      "Requirement already satisfied: etils[epath] in /Users/waihengsoh/opt/miniconda3/lib/python3.9/site-packages (from tensorflow-datasets) (0.8.0)\n",
      "Requirement already satisfied: absl-py in /Users/waihengsoh/opt/miniconda3/lib/python3.9/site-packages (from tensorflow-datasets) (1.1.0)\n",
      "Requirement already satisfied: numpy in /Users/waihengsoh/opt/miniconda3/lib/python3.9/site-packages (from tensorflow-datasets) (1.21.6)\n",
      "Requirement already satisfied: idna<4,>=2.5 in /Users/waihengsoh/opt/miniconda3/lib/python3.9/site-packages (from requests>=2.19.0->tensorflow-datasets) (2.8)\n",
      "Requirement already satisfied: urllib3<1.27,>=1.21.1 in /Users/waihengsoh/opt/miniconda3/lib/python3.9/site-packages (from requests>=2.19.0->tensorflow-datasets) (1.25.11)\n",
      "Requirement already satisfied: charset-normalizer<3,>=2 in /Users/waihengsoh/opt/miniconda3/lib/python3.9/site-packages (from requests>=2.19.0->tensorflow-datasets) (2.0.4)\n",
      "Requirement already satisfied: certifi>=2017.4.17 in /Users/waihengsoh/opt/miniconda3/lib/python3.9/site-packages (from requests>=2.19.0->tensorflow-datasets) (2021.10.8)\n",
      "Requirement already satisfied: zipp in /Users/waihengsoh/opt/miniconda3/lib/python3.9/site-packages (from etils[epath]->tensorflow-datasets) (3.7.0)\n",
      "Requirement already satisfied: importlib_resources in /Users/waihengsoh/opt/miniconda3/lib/python3.9/site-packages (from etils[epath]->tensorflow-datasets) (5.10.0)\n",
      "Requirement already satisfied: typing_extensions in /Users/waihengsoh/opt/miniconda3/lib/python3.9/site-packages (from etils[epath]->tensorflow-datasets) (3.10.0.2)\n",
      "Requirement already satisfied: googleapis-common-protos<2,>=1.52.0 in /Users/waihengsoh/opt/miniconda3/lib/python3.9/site-packages (from tensorflow-metadata->tensorflow-datasets) (1.56.0)\n",
      "\n",
      "\u001b[1m[\u001b[0m\u001b[34;49mnotice\u001b[0m\u001b[1;39;49m]\u001b[0m\u001b[39;49m A new release of pip available: \u001b[0m\u001b[31;49m22.1.2\u001b[0m\u001b[39;49m -> \u001b[0m\u001b[32;49m22.2.2\u001b[0m\n",
      "\u001b[1m[\u001b[0m\u001b[34;49mnotice\u001b[0m\u001b[1;39;49m]\u001b[0m\u001b[39;49m To update, run: \u001b[0m\u001b[32;49mpip install --upgrade pip\u001b[0m\n"
     ]
    }
   ],
   "source": [
    "!pip install -r ../requirements.txt\n",
    "!pip install tensorflow-datasets"
   ]
  },
  {
   "cell_type": "code",
   "execution_count": 82,
   "metadata": {},
   "outputs": [],
   "source": [
    "import tensorflow as tf\n",
    "from Functions.Historical_News import historical_news\n",
    "from sklearn.model_selection import train_test_split\n",
    "from transformers import BertTokenizer, TFBertForSequenceClassification\n",
    "from transformers import InputExample, InputFeatures\n",
    "import tensorflow_datasets as tfds"
   ]
  },
  {
   "cell_type": "code",
   "execution_count": 83,
   "metadata": {},
   "outputs": [
    {
     "name": "stderr",
     "output_type": "stream",
     "text": [
      "All model checkpoint layers were used when initializing TFBertForSequenceClassification.\n",
      "\n",
      "Some layers of TFBertForSequenceClassification were not initialized from the model checkpoint at bert-base-uncased and are newly initialized: ['classifier']\n",
      "You should probably TRAIN this model on a down-stream task to be able to use it for predictions and inference.\n"
     ]
    }
   ],
   "source": [
    "model = TFBertForSequenceClassification.from_pretrained(\"bert-base-uncased\")\n",
    "tokenizer = BertTokenizer.from_pretrained(\"bert-base-uncased\")"
   ]
  },
  {
   "cell_type": "code",
   "execution_count": 84,
   "metadata": {},
   "outputs": [
    {
     "name": "stdout",
     "output_type": "stream",
     "text": [
      "Model: \"tf_bert_for_sequence_classification_2\"\n",
      "_________________________________________________________________\n",
      " Layer (type)                Output Shape              Param #   \n",
      "=================================================================\n",
      " bert (TFBertMainLayer)      multiple                  109482240 \n",
      "                                                                 \n",
      " dropout_151 (Dropout)       multiple                  0         \n",
      "                                                                 \n",
      " classifier (Dense)          multiple                  1538      \n",
      "                                                                 \n",
      "=================================================================\n",
      "Total params: 109,483,778\n",
      "Trainable params: 109,483,778\n",
      "Non-trainable params: 0\n",
      "_________________________________________________________________\n"
     ]
    }
   ],
   "source": [
    "model.summary()"
   ]
  },
  {
   "cell_type": "code",
   "execution_count": 85,
   "metadata": {},
   "outputs": [
    {
     "name": "stdout",
     "output_type": "stream",
     "text": [
      "80 80 20 20\n"
     ]
    }
   ],
   "source": [
    "news = historical_news.get_news_to_price_changes('MSFT.US', '2021-01-03', '2021-12-31')\n",
    "news = news.loc[:, ['content', 'price_change']]\n",
    "X = news['content'].tolist()\n",
    "y = news['price_change'].tolist()\n",
    "\n",
    "X_train, X_test, y_train, y_test = train_test_split(X, y, test_size=0.2, random_state=42)\n",
    "print(len(X_train), len(y_train), len(X_test), len(y_test))\n"
   ]
  },
  {
   "cell_type": "code",
   "execution_count": 87,
   "metadata": {},
   "outputs": [
    {
     "data": {
      "text/plain": [
       "[-0.5066999999999666,\n",
       " -0.5066999999999666,\n",
       " -0.5066999999999666,\n",
       " -0.5066999999999666,\n",
       " -0.5066999999999666,\n",
       " -0.5066999999999666,\n",
       " -0.5066999999999666,\n",
       " -0.5066999999999666,\n",
       " -0.5066999999999666,\n",
       " -0.5066999999999666,\n",
       " -0.5066999999999666,\n",
       " -0.5066999999999666,\n",
       " -0.5066999999999666,\n",
       " -0.5066999999999666,\n",
       " -0.5066999999999666,\n",
       " -0.5066999999999666,\n",
       " -0.5066999999999666,\n",
       " -0.5066999999999666,\n",
       " -0.5066999999999666,\n",
       " -0.5066999999999666,\n",
       " -0.5066999999999666,\n",
       " -0.5066999999999666,\n",
       " -0.5066999999999666,\n",
       " -0.5066999999999666,\n",
       " -0.5066999999999666,\n",
       " -0.5066999999999666,\n",
       " -0.5066999999999666,\n",
       " -0.5066999999999666,\n",
       " -0.5066999999999666,\n",
       " -0.5066999999999666,\n",
       " -0.5066999999999666,\n",
       " -0.5066999999999666,\n",
       " -0.5066999999999666,\n",
       " -0.5066999999999666,\n",
       " -0.5066999999999666,\n",
       " -0.5066999999999666,\n",
       " -0.5066999999999666,\n",
       " -0.5066999999999666,\n",
       " -0.5066999999999666,\n",
       " -0.5066999999999666,\n",
       " -0.5066999999999666,\n",
       " -0.5066999999999666,\n",
       " -0.5066999999999666,\n",
       " -0.5066999999999666,\n",
       " -0.5066999999999666,\n",
       " -0.5066999999999666,\n",
       " -0.5066999999999666,\n",
       " -0.5066999999999666,\n",
       " -0.5066999999999666,\n",
       " -0.5066999999999666,\n",
       " -0.5066999999999666,\n",
       " -0.5066999999999666,\n",
       " -0.5066999999999666,\n",
       " -0.5066999999999666,\n",
       " -0.5066999999999666,\n",
       " -0.5066999999999666,\n",
       " -0.5066999999999666,\n",
       " -0.5066999999999666,\n",
       " -0.5066999999999666,\n",
       " -0.5066999999999666,\n",
       " -0.5066999999999666,\n",
       " -0.5066999999999666,\n",
       " -0.5066999999999666,\n",
       " -0.5066999999999666,\n",
       " -0.5066999999999666,\n",
       " -0.5066999999999666,\n",
       " -0.5066999999999666,\n",
       " -0.5066999999999666,\n",
       " -0.5066999999999666,\n",
       " -0.5066999999999666,\n",
       " -0.5066999999999666,\n",
       " -0.5066999999999666,\n",
       " -0.5066999999999666,\n",
       " -0.5066999999999666,\n",
       " -0.5066999999999666,\n",
       " -0.5066999999999666,\n",
       " -0.5066999999999666,\n",
       " -0.5066999999999666,\n",
       " -0.5066999999999666,\n",
       " -0.5066999999999666,\n",
       " -0.5066999999999666,\n",
       " -0.5066999999999666,\n",
       " -0.5066999999999666,\n",
       " -0.5066999999999666,\n",
       " -0.5066999999999666,\n",
       " -0.5066999999999666,\n",
       " -0.5066999999999666,\n",
       " -0.5066999999999666,\n",
       " -0.5066999999999666,\n",
       " -0.5066999999999666,\n",
       " -0.5066999999999666,\n",
       " -0.5066999999999666,\n",
       " -0.5066999999999666,\n",
       " -0.5066999999999666,\n",
       " -0.5066999999999666,\n",
       " -0.5066999999999666,\n",
       " -0.5066999999999666,\n",
       " -0.5066999999999666,\n",
       " -0.5066999999999666,\n",
       " -0.5066999999999666]"
      ]
     },
     "execution_count": 87,
     "metadata": {},
     "output_type": "execute_result"
    }
   ],
   "source": [
    "y"
   ]
  },
  {
   "cell_type": "code",
   "execution_count": 68,
   "metadata": {},
   "outputs": [],
   "source": [
    "model.compile(optimizer=tf.keras.optimizers.Adam(learning_rate=3e-5, epsilon=1e-08, clipnorm=1.0), \n",
    "              loss=tf.keras.losses.SparseCategoricalCrossentropy(from_logits=True), \n",
    "              metrics=[tf.keras.metrics.SparseCategoricalAccuracy('accuracy')])"
   ]
  },
  {
   "cell_type": "code",
   "execution_count": 69,
   "metadata": {},
   "outputs": [
    {
     "name": "stdout",
     "output_type": "stream",
     "text": [
      "80 20\n"
     ]
    }
   ],
   "source": [
    "train, test = train_test_split(news, test_size=0.2, random_state=42)\n",
    "print(len(train), len(test))"
   ]
  },
  {
   "cell_type": "code",
   "execution_count": 70,
   "metadata": {},
   "outputs": [],
   "source": [
    "def convert_example_to_feature(review):\n",
    "  return tokenizer.encode_plus(review,\n",
    "                add_special_tokens = True, # add [CLS], [SEP]\n",
    "                max_length = 512, # max length of the text that can go to BERT\n",
    "                pad_to_max_length = True, # add [PAD] tokens\n",
    "                return_attention_mask = True, # add attention mask to not focus on pad tokens\n",
    "              )"
   ]
  },
  {
   "cell_type": "code",
   "execution_count": 71,
   "metadata": {},
   "outputs": [],
   "source": [
    "def map_example_to_dict(input_ids, attention_masks, token_type_ids, label):\n",
    "  return {\n",
    "      \"input_ids\": input_ids,\n",
    "      \"token_type_ids\": token_type_ids,\n",
    "      \"attention_mask\": attention_masks,\n",
    "  }, label"
   ]
  },
  {
   "cell_type": "code",
   "execution_count": 72,
   "metadata": {},
   "outputs": [],
   "source": [
    "def encode_examples(ds, limit=-1):\n",
    "  # prepare list, so that we can build up final TensorFlow dataset from slices.\n",
    "  input_ids_list = []\n",
    "  token_type_ids_list = []\n",
    "  attention_mask_list = []\n",
    "  label_list = []\n",
    "  if (limit > 0):\n",
    "      ds = ds.take(limit)\n",
    "  for review, label in ds.to_numpy():\n",
    "    bert_input = convert_example_to_feature(review)\n",
    "    input_ids_list.append(bert_input['input_ids'])\n",
    "    token_type_ids_list.append(bert_input['token_type_ids'])\n",
    "    attention_mask_list.append(bert_input['attention_mask'])\n",
    "    label_list.append([label])\n",
    "  return tf.data.Dataset.from_tensor_slices((input_ids_list, attention_mask_list, token_type_ids_list, label_list)).map(map_example_to_dict)"
   ]
  },
  {
   "cell_type": "code",
   "execution_count": 73,
   "metadata": {},
   "outputs": [
    {
     "name": "stderr",
     "output_type": "stream",
     "text": [
      "Truncation was not explicitly activated but `max_length` is provided a specific value, please use `truncation=True` to explicitly truncate examples to max length. Defaulting to 'longest_first' truncation strategy. If you encode pairs of sequences (GLUE-style) with the tokenizer you can select this strategy more precisely by providing a specific strategy to `truncation`.\n"
     ]
    }
   ],
   "source": [
    "batch_size = 6\n",
    "# train dataset\n",
    "ds_train_encoded = encode_examples(train).shuffle(10000).batch(batch_size)\n",
    "# test dataset\n",
    "ds_test_encoded = encode_examples(test).batch(batch_size)"
   ]
  },
  {
   "cell_type": "code",
   "execution_count": 74,
   "metadata": {},
   "outputs": [
    {
     "name": "stdout",
     "output_type": "stream",
     "text": [
      "14/14 [==============================] - 682s 47s/step - loss: 0.1838 - accuracy: 0.0000e+00 - val_loss: 0.0301 - val_accuracy: 0.0000e+00\n"
     ]
    }
   ],
   "source": [
    "number_of_epochs = 1\n",
    "bert_history = model.fit(ds_train_encoded, epochs=number_of_epochs, validation_data=ds_test_encoded)"
   ]
  },
  {
   "cell_type": "code",
   "execution_count": 77,
   "metadata": {},
   "outputs": [
    {
     "name": "stdout",
     "output_type": "stream",
     "text": [
      "1/1 [==============================] - 0s 75ms/step\n",
      "Negative\n"
     ]
    }
   ],
   "source": [
    "test_sentence = \"MSFT will do well tomorrow!\"\n",
    "\n",
    "predict_input = tokenizer.encode(test_sentence,\n",
    "\n",
    "truncation=True,\n",
    "\n",
    "padding=True,\n",
    "\n",
    "return_tensors=\"tf\")\n",
    "\n",
    "tf_output = model.predict(predict_input)[0]\n",
    "tf_prediction = tf.nn.softmax(tf_output, axis=1)\n",
    "labels = ['Negative','Positive'] #(0:negative, 1:positive)\n",
    "label = tf.argmax(tf_prediction, axis=1)\n",
    "label = label.numpy()\n",
    "print(labels[label[0]])"
   ]
  },
  {
   "cell_type": "code",
   "execution_count": null,
   "metadata": {},
   "outputs": [],
   "source": []
  }
 ],
 "metadata": {
  "interpreter": {
   "hash": "31123794a318c38813355d29e032308f1989c1650d27ec22783ecd4e025c111f"
  },
  "kernelspec": {
   "display_name": "Python 3 (ipykernel)",
   "language": "python",
   "name": "python3"
  },
  "language_info": {
   "codemirror_mode": {
    "name": "ipython",
    "version": 3
   },
   "file_extension": ".py",
   "mimetype": "text/x-python",
   "name": "python",
   "nbconvert_exporter": "python",
   "pygments_lexer": "ipython3",
   "version": "3.9.7"
  }
 },
 "nbformat": 4,
 "nbformat_minor": 2
}
