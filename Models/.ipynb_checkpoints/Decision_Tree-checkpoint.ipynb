{
 "cells": [
  {
   "cell_type": "code",
   "execution_count": 1,
   "metadata": {},
   "outputs": [
    {
     "ename": "ModuleNotFoundError",
     "evalue": "No module named 'Functions'",
     "output_type": "error",
     "traceback": [
      "\u001b[1;31m---------------------------------------------------------------------------\u001b[0m",
      "\u001b[1;31mModuleNotFoundError\u001b[0m                       Traceback (most recent call last)",
      "\u001b[1;32m~\\AppData\\Local\\Temp/ipykernel_16556/2419806349.py\u001b[0m in \u001b[0;36m<module>\u001b[1;34m\u001b[0m\n\u001b[1;32m----> 1\u001b[1;33m \u001b[1;32mfrom\u001b[0m \u001b[0mFunctions\u001b[0m \u001b[1;32mimport\u001b[0m \u001b[0mapi_technical\u001b[0m\u001b[1;33m\u001b[0m\u001b[1;33m\u001b[0m\u001b[0m\n\u001b[0m",
      "\u001b[1;31mModuleNotFoundError\u001b[0m: No module named 'Functions'"
     ]
    }
   ],
   "source": [
    "from Functions import api_technical"
   ]
  },
  {
   "cell_type": "code",
   "execution_count": 2,
   "metadata": {
    "pycharm": {
     "name": "#%%\n"
    }
   },
   "outputs": [
    {
     "ename": "NameError",
     "evalue": "name 'api_technical' is not defined",
     "output_type": "error",
     "traceback": [
      "\u001b[1;31m---------------------------------------------------------------------------\u001b[0m",
      "\u001b[1;31mNameError\u001b[0m                                 Traceback (most recent call last)",
      "\u001b[1;32m~\\AppData\\Local\\Temp/ipykernel_16556/427755537.py\u001b[0m in \u001b[0;36m<module>\u001b[1;34m\u001b[0m\n\u001b[1;32m----> 1\u001b[1;33m \u001b[0mdata\u001b[0m \u001b[1;33m=\u001b[0m \u001b[0mapi_technical\u001b[0m\u001b[1;33m.\u001b[0m\u001b[0mget_technical_data\u001b[0m\u001b[1;33m(\u001b[0m\u001b[1;34m'AAPL.US'\u001b[0m\u001b[1;33m,\u001b[0m \u001b[1;34m'sma'\u001b[0m\u001b[1;33m,\u001b[0m \u001b[1;34m'2022-01-01'\u001b[0m\u001b[1;33m,\u001b[0m\u001b[1;34m'2022-08-31'\u001b[0m\u001b[1;33m,\u001b[0m \u001b[0mwith_prices\u001b[0m\u001b[1;33m=\u001b[0m\u001b[1;32mTrue\u001b[0m\u001b[1;33m)\u001b[0m\u001b[1;33m\u001b[0m\u001b[1;33m\u001b[0m\u001b[0m\n\u001b[0m",
      "\u001b[1;31mNameError\u001b[0m: name 'api_technical' is not defined"
     ]
    }
   ],
   "source": [
    "data = api_technical.get_technical_data('AAPL.US', 'sma', '2022-01-01','2022-08-31', with_prices=True)"
   ]
  },
  {
   "cell_type": "code",
   "execution_count": 4,
   "metadata": {
    "pycharm": {
     "name": "#%%\n"
    }
   },
   "outputs": [
    {
     "data": {
      "text/plain": [
       "167"
      ]
     },
     "execution_count": 4,
     "metadata": {},
     "output_type": "execute_result"
    }
   ],
   "source": [
    "len(data)"
   ]
  },
  {
   "cell_type": "code",
   "execution_count": 5,
   "metadata": {
    "pycharm": {
     "name": "#%%\n"
    }
   },
   "outputs": [
    {
     "data": {
      "text/html": [
       "<div>\n",
       "<style scoped>\n",
       "    .dataframe tbody tr th:only-of-type {\n",
       "        vertical-align: middle;\n",
       "    }\n",
       "\n",
       "    .dataframe tbody tr th {\n",
       "        vertical-align: top;\n",
       "    }\n",
       "\n",
       "    .dataframe thead th {\n",
       "        text-align: right;\n",
       "    }\n",
       "</style>\n",
       "<table border=\"1\" class=\"dataframe\">\n",
       "  <thead>\n",
       "    <tr style=\"text-align: right;\">\n",
       "      <th></th>\n",
       "      <th>date</th>\n",
       "      <th>sma</th>\n",
       "      <th>date</th>\n",
       "      <th>open</th>\n",
       "      <th>high</th>\n",
       "      <th>low</th>\n",
       "      <th>close</th>\n",
       "      <th>adjusted_close</th>\n",
       "      <th>volume</th>\n",
       "    </tr>\n",
       "  </thead>\n",
       "  <tbody>\n",
       "    <tr>\n",
       "      <th>0</th>\n",
       "      <td>2022-03-15</td>\n",
       "      <td>167.0586</td>\n",
       "      <td>2022-01-03</td>\n",
       "      <td>177.83</td>\n",
       "      <td>182.88</td>\n",
       "      <td>177.71</td>\n",
       "      <td>182.01</td>\n",
       "      <td>181.2599</td>\n",
       "      <td>104487900</td>\n",
       "    </tr>\n",
       "    <tr>\n",
       "      <th>1</th>\n",
       "      <td>2022-03-16</td>\n",
       "      <td>166.6161</td>\n",
       "      <td>2022-01-04</td>\n",
       "      <td>182.63</td>\n",
       "      <td>182.94</td>\n",
       "      <td>179.12</td>\n",
       "      <td>179.70</td>\n",
       "      <td>178.9595</td>\n",
       "      <td>99310400</td>\n",
       "    </tr>\n",
       "    <tr>\n",
       "      <th>2</th>\n",
       "      <td>2022-03-17</td>\n",
       "      <td>166.2401</td>\n",
       "      <td>2022-01-05</td>\n",
       "      <td>179.61</td>\n",
       "      <td>180.17</td>\n",
       "      <td>174.64</td>\n",
       "      <td>174.92</td>\n",
       "      <td>174.1992</td>\n",
       "      <td>94537600</td>\n",
       "    </tr>\n",
       "    <tr>\n",
       "      <th>3</th>\n",
       "      <td>2022-03-18</td>\n",
       "      <td>166.0264</td>\n",
       "      <td>2022-01-06</td>\n",
       "      <td>172.70</td>\n",
       "      <td>175.30</td>\n",
       "      <td>171.64</td>\n",
       "      <td>172.00</td>\n",
       "      <td>171.2912</td>\n",
       "      <td>96904000</td>\n",
       "    </tr>\n",
       "    <tr>\n",
       "      <th>4</th>\n",
       "      <td>2022-03-21</td>\n",
       "      <td>165.8987</td>\n",
       "      <td>2022-01-07</td>\n",
       "      <td>172.89</td>\n",
       "      <td>174.14</td>\n",
       "      <td>171.03</td>\n",
       "      <td>172.17</td>\n",
       "      <td>171.4605</td>\n",
       "      <td>86709100</td>\n",
       "    </tr>\n",
       "    <tr>\n",
       "      <th>...</th>\n",
       "      <td>...</td>\n",
       "      <td>...</td>\n",
       "      <td>...</td>\n",
       "      <td>...</td>\n",
       "      <td>...</td>\n",
       "      <td>...</td>\n",
       "      <td>...</td>\n",
       "      <td>...</td>\n",
       "      <td>...</td>\n",
       "    </tr>\n",
       "    <tr>\n",
       "      <th>162</th>\n",
       "      <td>NaN</td>\n",
       "      <td>NaN</td>\n",
       "      <td>2022-08-25</td>\n",
       "      <td>168.78</td>\n",
       "      <td>170.14</td>\n",
       "      <td>168.35</td>\n",
       "      <td>170.03</td>\n",
       "      <td>170.0300</td>\n",
       "      <td>51218200</td>\n",
       "    </tr>\n",
       "    <tr>\n",
       "      <th>163</th>\n",
       "      <td>NaN</td>\n",
       "      <td>NaN</td>\n",
       "      <td>2022-08-26</td>\n",
       "      <td>170.57</td>\n",
       "      <td>171.05</td>\n",
       "      <td>163.56</td>\n",
       "      <td>163.62</td>\n",
       "      <td>163.6200</td>\n",
       "      <td>78961000</td>\n",
       "    </tr>\n",
       "    <tr>\n",
       "      <th>164</th>\n",
       "      <td>NaN</td>\n",
       "      <td>NaN</td>\n",
       "      <td>2022-08-29</td>\n",
       "      <td>161.15</td>\n",
       "      <td>162.90</td>\n",
       "      <td>159.82</td>\n",
       "      <td>161.38</td>\n",
       "      <td>161.3800</td>\n",
       "      <td>73314000</td>\n",
       "    </tr>\n",
       "    <tr>\n",
       "      <th>165</th>\n",
       "      <td>NaN</td>\n",
       "      <td>NaN</td>\n",
       "      <td>2022-08-30</td>\n",
       "      <td>162.13</td>\n",
       "      <td>162.56</td>\n",
       "      <td>157.72</td>\n",
       "      <td>158.91</td>\n",
       "      <td>158.9100</td>\n",
       "      <td>77906200</td>\n",
       "    </tr>\n",
       "    <tr>\n",
       "      <th>166</th>\n",
       "      <td>NaN</td>\n",
       "      <td>NaN</td>\n",
       "      <td>2022-08-31</td>\n",
       "      <td>160.31</td>\n",
       "      <td>160.58</td>\n",
       "      <td>157.14</td>\n",
       "      <td>157.22</td>\n",
       "      <td>157.2200</td>\n",
       "      <td>87991100</td>\n",
       "    </tr>\n",
       "  </tbody>\n",
       "</table>\n",
       "<p>167 rows × 9 columns</p>\n",
       "</div>"
      ],
      "text/plain": [
       "           date       sma        date    open    high     low   close  \\\n",
       "0    2022-03-15  167.0586  2022-01-03  177.83  182.88  177.71  182.01   \n",
       "1    2022-03-16  166.6161  2022-01-04  182.63  182.94  179.12  179.70   \n",
       "2    2022-03-17  166.2401  2022-01-05  179.61  180.17  174.64  174.92   \n",
       "3    2022-03-18  166.0264  2022-01-06  172.70  175.30  171.64  172.00   \n",
       "4    2022-03-21  165.8987  2022-01-07  172.89  174.14  171.03  172.17   \n",
       "..          ...       ...         ...     ...     ...     ...     ...   \n",
       "162         NaN       NaN  2022-08-25  168.78  170.14  168.35  170.03   \n",
       "163         NaN       NaN  2022-08-26  170.57  171.05  163.56  163.62   \n",
       "164         NaN       NaN  2022-08-29  161.15  162.90  159.82  161.38   \n",
       "165         NaN       NaN  2022-08-30  162.13  162.56  157.72  158.91   \n",
       "166         NaN       NaN  2022-08-31  160.31  160.58  157.14  157.22   \n",
       "\n",
       "     adjusted_close     volume  \n",
       "0          181.2599  104487900  \n",
       "1          178.9595   99310400  \n",
       "2          174.1992   94537600  \n",
       "3          171.2912   96904000  \n",
       "4          171.4605   86709100  \n",
       "..              ...        ...  \n",
       "162        170.0300   51218200  \n",
       "163        163.6200   78961000  \n",
       "164        161.3800   73314000  \n",
       "165        158.9100   77906200  \n",
       "166        157.2200   87991100  \n",
       "\n",
       "[167 rows x 9 columns]"
      ]
     },
     "execution_count": 5,
     "metadata": {},
     "output_type": "execute_result"
    }
   ],
   "source": [
    "data"
   ]
  },
  {
   "cell_type": "code",
   "execution_count": null,
   "metadata": {
    "pycharm": {
     "name": "#%%\n"
    }
   },
   "outputs": [],
   "source": []
  }
 ],
 "metadata": {
  "kernelspec": {
   "display_name": "Python 3 (ipykernel)",
   "language": "python",
   "name": "python3"
  },
  "language_info": {
   "codemirror_mode": {
    "name": "ipython",
    "version": 3
   },
   "file_extension": ".py",
   "mimetype": "text/x-python",
   "name": "python",
   "nbconvert_exporter": "python",
   "pygments_lexer": "ipython3",
   "version": "3.9.7"
  }
 },
 "nbformat": 4,
 "nbformat_minor": 1
}
