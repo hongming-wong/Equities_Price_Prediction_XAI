{
 "cells": [
  {
   "cell_type": "code",
   "execution_count": 1,
   "metadata": {},
   "outputs": [],
   "source": [
    "import sys\n",
    "sys.path.append(\"../\")\n",
    "from Functions.csv_files.stock import Stock\n",
    "\n",
    "#Apple Inc.\n",
    "apple = Stock('AAPL.US', filepath=\"../Functions/csv_files/\")\n",
    "\n",
    "# JP Morgan Chase\n",
    "jpm = Stock('JPM.US', filepath=\"../Functions/csv_files/\")\n",
    "\n",
    "# Exxon Mobil Corporation\n",
    "xom = Stock('XOM.US', filepath=\"../Functions/csv_files/\")\n",
    "\n",
    "# Walmart Inc.\n",
    "walmart = Stock('WMT.US', filepath=\"../Functions/csv_files/\")"
   ]
  },
  {
   "cell_type": "code",
   "execution_count": 2,
   "metadata": {},
   "outputs": [
    {
     "data": {
      "text/html": [
       "<div>\n",
       "<style scoped>\n",
       "    .dataframe tbody tr th:only-of-type {\n",
       "        vertical-align: middle;\n",
       "    }\n",
       "\n",
       "    .dataframe tbody tr th {\n",
       "        vertical-align: top;\n",
       "    }\n",
       "\n",
       "    .dataframe thead th {\n",
       "        text-align: right;\n",
       "    }\n",
       "</style>\n",
       "<table border=\"1\" class=\"dataframe\">\n",
       "  <thead>\n",
       "    <tr style=\"text-align: right;\">\n",
       "      <th></th>\n",
       "      <th>date</th>\n",
       "      <th>close</th>\n",
       "      <th>volume</th>\n",
       "      <th>3 Month Treasury Yield</th>\n",
       "      <th>WTI Crude Oil Prices</th>\n",
       "      <th>7-day volatility</th>\n",
       "      <th>7-day EWM</th>\n",
       "      <th>7-rsi</th>\n",
       "      <th>7-day slope</th>\n",
       "      <th>14-day volatility</th>\n",
       "      <th>14-day EWM</th>\n",
       "      <th>14-rsi</th>\n",
       "      <th>14-day slope</th>\n",
       "    </tr>\n",
       "  </thead>\n",
       "  <tbody>\n",
       "    <tr>\n",
       "      <th>0</th>\n",
       "      <td>1980-12-12</td>\n",
       "      <td>28.7392</td>\n",
       "      <td>469033600</td>\n",
       "      <td>16.55</td>\n",
       "      <td>NaN</td>\n",
       "      <td>NaN</td>\n",
       "      <td>28.739200</td>\n",
       "      <td>NaN</td>\n",
       "      <td>NaN</td>\n",
       "      <td>NaN</td>\n",
       "      <td>28.739200</td>\n",
       "      <td>NaN</td>\n",
       "      <td>NaN</td>\n",
       "    </tr>\n",
       "    <tr>\n",
       "      <th>1</th>\n",
       "      <td>1980-12-15</td>\n",
       "      <td>27.2608</td>\n",
       "      <td>175884800</td>\n",
       "      <td>16.77</td>\n",
       "      <td>NaN</td>\n",
       "      <td>NaN</td>\n",
       "      <td>28.369600</td>\n",
       "      <td>NaN</td>\n",
       "      <td>NaN</td>\n",
       "      <td>NaN</td>\n",
       "      <td>28.542080</td>\n",
       "      <td>NaN</td>\n",
       "      <td>NaN</td>\n",
       "    </tr>\n",
       "    <tr>\n",
       "      <th>2</th>\n",
       "      <td>1980-12-16</td>\n",
       "      <td>25.2448</td>\n",
       "      <td>105728000</td>\n",
       "      <td>16.70</td>\n",
       "      <td>NaN</td>\n",
       "      <td>NaN</td>\n",
       "      <td>27.588400</td>\n",
       "      <td>NaN</td>\n",
       "      <td>NaN</td>\n",
       "      <td>NaN</td>\n",
       "      <td>28.102443</td>\n",
       "      <td>NaN</td>\n",
       "      <td>NaN</td>\n",
       "    </tr>\n",
       "    <tr>\n",
       "      <th>3</th>\n",
       "      <td>1980-12-17</td>\n",
       "      <td>25.8720</td>\n",
       "      <td>86441600</td>\n",
       "      <td>16.47</td>\n",
       "      <td>NaN</td>\n",
       "      <td>NaN</td>\n",
       "      <td>27.159300</td>\n",
       "      <td>NaN</td>\n",
       "      <td>NaN</td>\n",
       "      <td>NaN</td>\n",
       "      <td>27.805050</td>\n",
       "      <td>NaN</td>\n",
       "      <td>NaN</td>\n",
       "    </tr>\n",
       "    <tr>\n",
       "      <th>4</th>\n",
       "      <td>1980-12-18</td>\n",
       "      <td>26.6336</td>\n",
       "      <td>73449600</td>\n",
       "      <td>16.20</td>\n",
       "      <td>NaN</td>\n",
       "      <td>NaN</td>\n",
       "      <td>27.027875</td>\n",
       "      <td>NaN</td>\n",
       "      <td>NaN</td>\n",
       "      <td>NaN</td>\n",
       "      <td>27.648857</td>\n",
       "      <td>NaN</td>\n",
       "      <td>NaN</td>\n",
       "    </tr>\n",
       "    <tr>\n",
       "      <th>5</th>\n",
       "      <td>1980-12-19</td>\n",
       "      <td>28.2464</td>\n",
       "      <td>48630400</td>\n",
       "      <td>14.93</td>\n",
       "      <td>NaN</td>\n",
       "      <td>NaN</td>\n",
       "      <td>27.332506</td>\n",
       "      <td>NaN</td>\n",
       "      <td>NaN</td>\n",
       "      <td>NaN</td>\n",
       "      <td>27.728529</td>\n",
       "      <td>NaN</td>\n",
       "      <td>NaN</td>\n",
       "    </tr>\n",
       "    <tr>\n",
       "      <th>6</th>\n",
       "      <td>1980-12-22</td>\n",
       "      <td>29.6352</td>\n",
       "      <td>37363200</td>\n",
       "      <td>14.84</td>\n",
       "      <td>NaN</td>\n",
       "      <td>25.173614</td>\n",
       "      <td>27.908180</td>\n",
       "      <td>27.376</td>\n",
       "      <td>0.216</td>\n",
       "      <td>NaN</td>\n",
       "      <td>27.982752</td>\n",
       "      <td>NaN</td>\n",
       "      <td>NaN</td>\n",
       "    </tr>\n",
       "  </tbody>\n",
       "</table>\n",
       "</div>"
      ],
      "text/plain": [
       "         date    close     volume  3 Month Treasury Yield  \\\n",
       "0  1980-12-12  28.7392  469033600                   16.55   \n",
       "1  1980-12-15  27.2608  175884800                   16.77   \n",
       "2  1980-12-16  25.2448  105728000                   16.70   \n",
       "3  1980-12-17  25.8720   86441600                   16.47   \n",
       "4  1980-12-18  26.6336   73449600                   16.20   \n",
       "5  1980-12-19  28.2464   48630400                   14.93   \n",
       "6  1980-12-22  29.6352   37363200                   14.84   \n",
       "\n",
       "   WTI Crude Oil Prices  7-day volatility  7-day EWM   7-rsi  7-day slope  \\\n",
       "0                   NaN               NaN  28.739200     NaN          NaN   \n",
       "1                   NaN               NaN  28.369600     NaN          NaN   \n",
       "2                   NaN               NaN  27.588400     NaN          NaN   \n",
       "3                   NaN               NaN  27.159300     NaN          NaN   \n",
       "4                   NaN               NaN  27.027875     NaN          NaN   \n",
       "5                   NaN               NaN  27.332506     NaN          NaN   \n",
       "6                   NaN         25.173614  27.908180  27.376        0.216   \n",
       "\n",
       "   14-day volatility  14-day EWM  14-rsi  14-day slope  \n",
       "0                NaN   28.739200     NaN           NaN  \n",
       "1                NaN   28.542080     NaN           NaN  \n",
       "2                NaN   28.102443     NaN           NaN  \n",
       "3                NaN   27.805050     NaN           NaN  \n",
       "4                NaN   27.648857     NaN           NaN  \n",
       "5                NaN   27.728529     NaN           NaN  \n",
       "6                NaN   27.982752     NaN           NaN  "
      ]
     },
     "execution_count": 2,
     "metadata": {},
     "output_type": "execute_result"
    }
   ],
   "source": [
    "apple.retrieve_data().head(7)"
   ]
  },
  {
   "cell_type": "code",
   "execution_count": 3,
   "metadata": {},
   "outputs": [
    {
     "data": {
      "text/html": [
       "<div>\n",
       "<style scoped>\n",
       "    .dataframe tbody tr th:only-of-type {\n",
       "        vertical-align: middle;\n",
       "    }\n",
       "\n",
       "    .dataframe tbody tr th {\n",
       "        vertical-align: top;\n",
       "    }\n",
       "\n",
       "    .dataframe thead th {\n",
       "        text-align: right;\n",
       "    }\n",
       "</style>\n",
       "<table border=\"1\" class=\"dataframe\">\n",
       "  <thead>\n",
       "    <tr style=\"text-align: right;\">\n",
       "      <th></th>\n",
       "      <th>date</th>\n",
       "      <th>close</th>\n",
       "      <th>volume</th>\n",
       "      <th>3 Month Treasury Yield</th>\n",
       "      <th>WTI Crude Oil Prices</th>\n",
       "      <th>7-day volatility</th>\n",
       "      <th>7-day EWM</th>\n",
       "      <th>7-rsi</th>\n",
       "      <th>7-day slope</th>\n",
       "      <th>14-day volatility</th>\n",
       "      <th>14-day EWM</th>\n",
       "      <th>14-rsi</th>\n",
       "      <th>14-day slope</th>\n",
       "    </tr>\n",
       "  </thead>\n",
       "  <tbody>\n",
       "    <tr>\n",
       "      <th>0</th>\n",
       "      <td>1985-01-02</td>\n",
       "      <td>33.6251</td>\n",
       "      <td>162900</td>\n",
       "      <td>7.83</td>\n",
       "      <td>NaN</td>\n",
       "      <td>NaN</td>\n",
       "      <td>33.625100</td>\n",
       "      <td>NaN</td>\n",
       "      <td>NaN</td>\n",
       "      <td>NaN</td>\n",
       "      <td>33.625100</td>\n",
       "      <td>NaN</td>\n",
       "      <td>NaN</td>\n",
       "    </tr>\n",
       "    <tr>\n",
       "      <th>1</th>\n",
       "      <td>1985-01-03</td>\n",
       "      <td>34.0001</td>\n",
       "      <td>87300</td>\n",
       "      <td>7.80</td>\n",
       "      <td>NaN</td>\n",
       "      <td>NaN</td>\n",
       "      <td>33.718850</td>\n",
       "      <td>NaN</td>\n",
       "      <td>NaN</td>\n",
       "      <td>NaN</td>\n",
       "      <td>33.675100</td>\n",
       "      <td>NaN</td>\n",
       "      <td>NaN</td>\n",
       "    </tr>\n",
       "    <tr>\n",
       "      <th>2</th>\n",
       "      <td>1985-01-04</td>\n",
       "      <td>33.5000</td>\n",
       "      <td>495300</td>\n",
       "      <td>7.82</td>\n",
       "      <td>NaN</td>\n",
       "      <td>NaN</td>\n",
       "      <td>33.664138</td>\n",
       "      <td>NaN</td>\n",
       "      <td>NaN</td>\n",
       "      <td>NaN</td>\n",
       "      <td>33.651753</td>\n",
       "      <td>NaN</td>\n",
       "      <td>NaN</td>\n",
       "    </tr>\n",
       "    <tr>\n",
       "      <th>3</th>\n",
       "      <td>1985-01-07</td>\n",
       "      <td>33.1250</td>\n",
       "      <td>301500</td>\n",
       "      <td>7.78</td>\n",
       "      <td>NaN</td>\n",
       "      <td>NaN</td>\n",
       "      <td>33.529353</td>\n",
       "      <td>NaN</td>\n",
       "      <td>NaN</td>\n",
       "      <td>NaN</td>\n",
       "      <td>33.581520</td>\n",
       "      <td>NaN</td>\n",
       "      <td>NaN</td>\n",
       "    </tr>\n",
       "    <tr>\n",
       "      <th>4</th>\n",
       "      <td>1985-01-08</td>\n",
       "      <td>33.7500</td>\n",
       "      <td>337800</td>\n",
       "      <td>7.79</td>\n",
       "      <td>NaN</td>\n",
       "      <td>NaN</td>\n",
       "      <td>33.584515</td>\n",
       "      <td>NaN</td>\n",
       "      <td>NaN</td>\n",
       "      <td>NaN</td>\n",
       "      <td>33.603984</td>\n",
       "      <td>NaN</td>\n",
       "      <td>NaN</td>\n",
       "    </tr>\n",
       "  </tbody>\n",
       "</table>\n",
       "</div>"
      ],
      "text/plain": [
       "         date    close  volume  3 Month Treasury Yield  WTI Crude Oil Prices  \\\n",
       "0  1985-01-02  33.6251  162900                    7.83                   NaN   \n",
       "1  1985-01-03  34.0001   87300                    7.80                   NaN   \n",
       "2  1985-01-04  33.5000  495300                    7.82                   NaN   \n",
       "3  1985-01-07  33.1250  301500                    7.78                   NaN   \n",
       "4  1985-01-08  33.7500  337800                    7.79                   NaN   \n",
       "\n",
       "   7-day volatility  7-day EWM  7-rsi  7-day slope  14-day volatility  \\\n",
       "0               NaN  33.625100    NaN          NaN                NaN   \n",
       "1               NaN  33.718850    NaN          NaN                NaN   \n",
       "2               NaN  33.664138    NaN          NaN                NaN   \n",
       "3               NaN  33.529353    NaN          NaN                NaN   \n",
       "4               NaN  33.584515    NaN          NaN                NaN   \n",
       "\n",
       "   14-day EWM  14-rsi  14-day slope  \n",
       "0   33.625100     NaN           NaN  \n",
       "1   33.675100     NaN           NaN  \n",
       "2   33.651753     NaN           NaN  \n",
       "3   33.581520     NaN           NaN  \n",
       "4   33.603984     NaN           NaN  "
      ]
     },
     "execution_count": 3,
     "metadata": {},
     "output_type": "execute_result"
    }
   ],
   "source": [
    "jpm.retrieve_data().head(5)"
   ]
  },
  {
   "cell_type": "code",
   "execution_count": 4,
   "metadata": {},
   "outputs": [
    {
     "data": {
      "text/html": [
       "<div>\n",
       "<style scoped>\n",
       "    .dataframe tbody tr th:only-of-type {\n",
       "        vertical-align: middle;\n",
       "    }\n",
       "\n",
       "    .dataframe tbody tr th {\n",
       "        vertical-align: top;\n",
       "    }\n",
       "\n",
       "    .dataframe thead th {\n",
       "        text-align: right;\n",
       "    }\n",
       "</style>\n",
       "<table border=\"1\" class=\"dataframe\">\n",
       "  <thead>\n",
       "    <tr style=\"text-align: right;\">\n",
       "      <th></th>\n",
       "      <th>date</th>\n",
       "      <th>close</th>\n",
       "      <th>volume</th>\n",
       "      <th>3 Month Treasury Yield</th>\n",
       "      <th>WTI Crude Oil Prices</th>\n",
       "      <th>7-day volatility</th>\n",
       "      <th>7-day EWM</th>\n",
       "      <th>7-rsi</th>\n",
       "      <th>7-day slope</th>\n",
       "      <th>14-day volatility</th>\n",
       "      <th>14-day EWM</th>\n",
       "      <th>14-rsi</th>\n",
       "      <th>14-day slope</th>\n",
       "    </tr>\n",
       "  </thead>\n",
       "  <tbody>\n",
       "    <tr>\n",
       "      <th>0</th>\n",
       "      <td>1985-01-02</td>\n",
       "      <td>22.2500</td>\n",
       "      <td>5212800</td>\n",
       "      <td>7.83</td>\n",
       "      <td>NaN</td>\n",
       "      <td>NaN</td>\n",
       "      <td>22.250000</td>\n",
       "      <td>NaN</td>\n",
       "      <td>NaN</td>\n",
       "      <td>NaN</td>\n",
       "      <td>22.250000</td>\n",
       "      <td>NaN</td>\n",
       "      <td>NaN</td>\n",
       "    </tr>\n",
       "    <tr>\n",
       "      <th>1</th>\n",
       "      <td>1985-01-03</td>\n",
       "      <td>22.2500</td>\n",
       "      <td>6864000</td>\n",
       "      <td>7.80</td>\n",
       "      <td>NaN</td>\n",
       "      <td>NaN</td>\n",
       "      <td>22.250000</td>\n",
       "      <td>NaN</td>\n",
       "      <td>NaN</td>\n",
       "      <td>NaN</td>\n",
       "      <td>22.250000</td>\n",
       "      <td>NaN</td>\n",
       "      <td>NaN</td>\n",
       "    </tr>\n",
       "    <tr>\n",
       "      <th>2</th>\n",
       "      <td>1985-01-04</td>\n",
       "      <td>22.1250</td>\n",
       "      <td>4941600</td>\n",
       "      <td>7.82</td>\n",
       "      <td>NaN</td>\n",
       "      <td>NaN</td>\n",
       "      <td>22.218750</td>\n",
       "      <td>NaN</td>\n",
       "      <td>NaN</td>\n",
       "      <td>NaN</td>\n",
       "      <td>22.233333</td>\n",
       "      <td>NaN</td>\n",
       "      <td>NaN</td>\n",
       "    </tr>\n",
       "    <tr>\n",
       "      <th>3</th>\n",
       "      <td>1985-01-07</td>\n",
       "      <td>22.3126</td>\n",
       "      <td>8364800</td>\n",
       "      <td>7.78</td>\n",
       "      <td>NaN</td>\n",
       "      <td>NaN</td>\n",
       "      <td>22.242213</td>\n",
       "      <td>NaN</td>\n",
       "      <td>NaN</td>\n",
       "      <td>NaN</td>\n",
       "      <td>22.243902</td>\n",
       "      <td>NaN</td>\n",
       "      <td>NaN</td>\n",
       "    </tr>\n",
       "    <tr>\n",
       "      <th>4</th>\n",
       "      <td>1985-01-08</td>\n",
       "      <td>22.3126</td>\n",
       "      <td>5036800</td>\n",
       "      <td>7.79</td>\n",
       "      <td>NaN</td>\n",
       "      <td>NaN</td>\n",
       "      <td>22.259809</td>\n",
       "      <td>NaN</td>\n",
       "      <td>NaN</td>\n",
       "      <td>NaN</td>\n",
       "      <td>22.253062</td>\n",
       "      <td>NaN</td>\n",
       "      <td>NaN</td>\n",
       "    </tr>\n",
       "  </tbody>\n",
       "</table>\n",
       "</div>"
      ],
      "text/plain": [
       "         date    close   volume  3 Month Treasury Yield  WTI Crude Oil Prices  \\\n",
       "0  1985-01-02  22.2500  5212800                    7.83                   NaN   \n",
       "1  1985-01-03  22.2500  6864000                    7.80                   NaN   \n",
       "2  1985-01-04  22.1250  4941600                    7.82                   NaN   \n",
       "3  1985-01-07  22.3126  8364800                    7.78                   NaN   \n",
       "4  1985-01-08  22.3126  5036800                    7.79                   NaN   \n",
       "\n",
       "   7-day volatility  7-day EWM  7-rsi  7-day slope  14-day volatility  \\\n",
       "0               NaN  22.250000    NaN          NaN                NaN   \n",
       "1               NaN  22.250000    NaN          NaN                NaN   \n",
       "2               NaN  22.218750    NaN          NaN                NaN   \n",
       "3               NaN  22.242213    NaN          NaN                NaN   \n",
       "4               NaN  22.259809    NaN          NaN                NaN   \n",
       "\n",
       "   14-day EWM  14-rsi  14-day slope  \n",
       "0   22.250000     NaN           NaN  \n",
       "1   22.250000     NaN           NaN  \n",
       "2   22.233333     NaN           NaN  \n",
       "3   22.243902     NaN           NaN  \n",
       "4   22.253062     NaN           NaN  "
      ]
     },
     "execution_count": 4,
     "metadata": {},
     "output_type": "execute_result"
    }
   ],
   "source": [
    "xom.retrieve_data().head(5)"
   ]
  },
  {
   "cell_type": "code",
   "execution_count": 5,
   "metadata": {},
   "outputs": [
    {
     "data": {
      "text/html": [
       "<div>\n",
       "<style scoped>\n",
       "    .dataframe tbody tr th:only-of-type {\n",
       "        vertical-align: middle;\n",
       "    }\n",
       "\n",
       "    .dataframe tbody tr th {\n",
       "        vertical-align: top;\n",
       "    }\n",
       "\n",
       "    .dataframe thead th {\n",
       "        text-align: right;\n",
       "    }\n",
       "</style>\n",
       "<table border=\"1\" class=\"dataframe\">\n",
       "  <thead>\n",
       "    <tr style=\"text-align: right;\">\n",
       "      <th></th>\n",
       "      <th>date</th>\n",
       "      <th>close</th>\n",
       "      <th>volume</th>\n",
       "      <th>3 Month Treasury Yield</th>\n",
       "      <th>WTI Crude Oil Prices</th>\n",
       "      <th>7-day volatility</th>\n",
       "      <th>7-day EWM</th>\n",
       "      <th>7-rsi</th>\n",
       "      <th>7-day slope</th>\n",
       "      <th>14-day volatility</th>\n",
       "      <th>14-day EWM</th>\n",
       "      <th>14-rsi</th>\n",
       "      <th>14-day slope</th>\n",
       "    </tr>\n",
       "  </thead>\n",
       "  <tbody>\n",
       "    <tr>\n",
       "      <th>0</th>\n",
       "      <td>1985-01-02</td>\n",
       "      <td>38.3744</td>\n",
       "      <td>7184000</td>\n",
       "      <td>7.83</td>\n",
       "      <td>NaN</td>\n",
       "      <td>NaN</td>\n",
       "      <td>38.37440</td>\n",
       "      <td>NaN</td>\n",
       "      <td>NaN</td>\n",
       "      <td>NaN</td>\n",
       "      <td>38.374400</td>\n",
       "      <td>NaN</td>\n",
       "      <td>NaN</td>\n",
       "    </tr>\n",
       "    <tr>\n",
       "      <th>1</th>\n",
       "      <td>1985-01-03</td>\n",
       "      <td>38.3744</td>\n",
       "      <td>7033600</td>\n",
       "      <td>7.80</td>\n",
       "      <td>NaN</td>\n",
       "      <td>NaN</td>\n",
       "      <td>38.37440</td>\n",
       "      <td>NaN</td>\n",
       "      <td>NaN</td>\n",
       "      <td>NaN</td>\n",
       "      <td>38.374400</td>\n",
       "      <td>NaN</td>\n",
       "      <td>NaN</td>\n",
       "    </tr>\n",
       "    <tr>\n",
       "      <th>2</th>\n",
       "      <td>1985-01-04</td>\n",
       "      <td>38.4992</td>\n",
       "      <td>5913600</td>\n",
       "      <td>7.82</td>\n",
       "      <td>NaN</td>\n",
       "      <td>NaN</td>\n",
       "      <td>38.40560</td>\n",
       "      <td>NaN</td>\n",
       "      <td>NaN</td>\n",
       "      <td>NaN</td>\n",
       "      <td>38.391040</td>\n",
       "      <td>NaN</td>\n",
       "      <td>NaN</td>\n",
       "    </tr>\n",
       "    <tr>\n",
       "      <th>3</th>\n",
       "      <td>1985-01-07</td>\n",
       "      <td>39.3760</td>\n",
       "      <td>4416000</td>\n",
       "      <td>7.78</td>\n",
       "      <td>NaN</td>\n",
       "      <td>NaN</td>\n",
       "      <td>38.64820</td>\n",
       "      <td>NaN</td>\n",
       "      <td>NaN</td>\n",
       "      <td>NaN</td>\n",
       "      <td>38.522368</td>\n",
       "      <td>NaN</td>\n",
       "      <td>NaN</td>\n",
       "    </tr>\n",
       "    <tr>\n",
       "      <th>4</th>\n",
       "      <td>1985-01-08</td>\n",
       "      <td>39.5008</td>\n",
       "      <td>6060800</td>\n",
       "      <td>7.79</td>\n",
       "      <td>NaN</td>\n",
       "      <td>NaN</td>\n",
       "      <td>38.86135</td>\n",
       "      <td>NaN</td>\n",
       "      <td>NaN</td>\n",
       "      <td>NaN</td>\n",
       "      <td>38.652826</td>\n",
       "      <td>NaN</td>\n",
       "      <td>NaN</td>\n",
       "    </tr>\n",
       "  </tbody>\n",
       "</table>\n",
       "</div>"
      ],
      "text/plain": [
       "         date    close   volume  3 Month Treasury Yield  WTI Crude Oil Prices  \\\n",
       "0  1985-01-02  38.3744  7184000                    7.83                   NaN   \n",
       "1  1985-01-03  38.3744  7033600                    7.80                   NaN   \n",
       "2  1985-01-04  38.4992  5913600                    7.82                   NaN   \n",
       "3  1985-01-07  39.3760  4416000                    7.78                   NaN   \n",
       "4  1985-01-08  39.5008  6060800                    7.79                   NaN   \n",
       "\n",
       "   7-day volatility  7-day EWM  7-rsi  7-day slope  14-day volatility  \\\n",
       "0               NaN   38.37440    NaN          NaN                NaN   \n",
       "1               NaN   38.37440    NaN          NaN                NaN   \n",
       "2               NaN   38.40560    NaN          NaN                NaN   \n",
       "3               NaN   38.64820    NaN          NaN                NaN   \n",
       "4               NaN   38.86135    NaN          NaN                NaN   \n",
       "\n",
       "   14-day EWM  14-rsi  14-day slope  \n",
       "0   38.374400     NaN           NaN  \n",
       "1   38.374400     NaN           NaN  \n",
       "2   38.391040     NaN           NaN  \n",
       "3   38.522368     NaN           NaN  \n",
       "4   38.652826     NaN           NaN  "
      ]
     },
     "execution_count": 5,
     "metadata": {},
     "output_type": "execute_result"
    }
   ],
   "source": [
    "walmart.retrieve_data().head(5)"
   ]
  },
  {
   "cell_type": "code",
   "execution_count": 69,
   "metadata": {},
   "outputs": [],
   "source": [
    "def split(dataframe, window, columns = None, test_split = False):\n",
    "  X = []\n",
    "  y_raw = []\n",
    "  y_label = []\n",
    "  if columns is not None:\n",
    "    dataframe = dataframe[columns]\n",
    "  dataframe = dataframe.dropna()\n",
    "  # retaining the date is important for later on\n",
    "  dataframe = dataframe.set_index('date')\n",
    "  L = len(dataframe)\n",
    "  \n",
    "  for i in range(0, L):\n",
    "    if i > (L - window - 1):\n",
    "      break\n",
    "    X.append(dataframe[i:(i + window)])\n",
    "    label = dataframe['close'][i + window]\n",
    "    last = dataframe['close'][i + window - 1]\n",
    "    y_raw.append(label)\n",
    "    if label <= last:\n",
    "      y_label.append(0)\n",
    "    else:\n",
    "      y_label.append(1)\n",
    "  return X, y_raw, y_label"
   ]
  },
  {
   "cell_type": "code",
   "execution_count": 70,
   "metadata": {},
   "outputs": [],
   "source": [
    "from keras.models import Sequential\n",
    "from keras.layers import Dense, LSTM, Dropout\n",
    "import keras\n",
    "import lstm_utils\n",
    "import numpy as np\n",
    "import matplotlib.pyplot as plt\n",
    "from matplotlib.pyplot import figure"
   ]
  },
  {
   "cell_type": "code",
   "execution_count": 71,
   "metadata": {},
   "outputs": [],
   "source": [
    "columns = ['date', 'close', '3 Month Treasury Yield', 'WTI Crude Oil Prices', '7-day volatility']\n",
    "timesteps = 7"
   ]
  },
  {
   "cell_type": "code",
   "execution_count": 84,
   "metadata": {},
   "outputs": [],
   "source": [
    "raw_apple_X, raw_apple_y, _ = split(apple.data[columns], timesteps)\n",
    "raw_jpm_X, raw_jpm_y, _ = split(jpm.data[columns], timesteps)\n",
    "raw_xom_X, raw_xom_y, _ = split(xom.data[columns], timesteps)\n",
    "raw_walmart_X, raw_walmart_y, _ = split(walmart.data[columns], timesteps)"
   ]
  },
  {
   "cell_type": "code",
   "execution_count": 85,
   "metadata": {},
   "outputs": [],
   "source": [
    "apple_X = np.array(raw_apple_X)\n",
    "apple_X = apple_X.astype('float32')\n",
    "apple_y = np.array(raw_apple_y)\n",
    "\n",
    "jpm_X = np.array(raw_jpm_X)\n",
    "jpm_X = jpm_X.astype('float32')\n",
    "jpm_y = np.array(raw_jpm_y)\n",
    "\n",
    "xom_X = np.array(raw_xom_X)\n",
    "xom_X = xom_X.astype('float32')\n",
    "xom_y = np.array(raw_xom_y)\n",
    "\n",
    "walmart_X = np.array(raw_walmart_X)\n",
    "walmart_X = walmart_X.astype('float32')\n",
    "walmart_y = np.array(raw_walmart_y)"
   ]
  },
  {
   "cell_type": "code",
   "execution_count": 74,
   "metadata": {},
   "outputs": [
    {
     "name": "stdout",
     "output_type": "stream",
     "text": [
      "(9207, 7, 4)\n",
      "(9227, 7, 4)\n",
      "(9227, 7, 4)\n",
      "(9227, 7, 4)\n"
     ]
    }
   ],
   "source": [
    "print(apple_X.shape)\n",
    "print(jpm_X.shape)\n",
    "print(xom_X.shape)\n",
    "print(walmart_X.shape)"
   ]
  },
  {
   "cell_type": "code",
   "execution_count": 12,
   "metadata": {},
   "outputs": [],
   "source": [
    "def summarize_results(model, data, y = None):\n",
    "  predicted = model.predict(data)\n",
    "  if y is not None:\n",
    "    actual = y.reshape(-1, 1)\n",
    "    plt.plot(actual, label = 'actual', color='red')\n",
    "  plt.plot(predicted, label = 'predicted', color = 'green')\n",
    "  plt.show()\n",
    "  return predicted"
   ]
  },
  {
   "cell_type": "code",
   "execution_count": 30,
   "metadata": {},
   "outputs": [],
   "source": [
    "def create_model(no_timesteps, no_features):\n",
    "  model = keras.Sequential()\n",
    "  model.add(LSTM(20, return_sequences=True, input_shape=(no_timesteps, no_features)))\n",
    "  model.add(Dropout(0.2))\n",
    "  model.add(LSTM(10, return_sequences=False, input_shape=(no_timesteps, no_features)))\n",
    "  model.add(Dense(25))\n",
    "  model.add(Dense(1))\n",
    "  return model"
   ]
  },
  {
   "cell_type": "code",
   "execution_count": 51,
   "metadata": {},
   "outputs": [],
   "source": [
    "apple_model = create_model(7, apple_X.shape[2])\n",
    "jpm_model = create_model(7, jpm_X.shape[2])\n",
    "xom_model = create_model(7, xom_X.shape[2])\n",
    "walmart_model = create_model(7, walmart_X.shape[2])"
   ]
  },
  {
   "cell_type": "code",
   "execution_count": 52,
   "metadata": {},
   "outputs": [],
   "source": [
    "learning_rate = 0.001\n",
    "\n",
    "apple_model.compile(optimizer=keras.optimizers.Adam(learning_rate=learning_rate), loss='mean_squared_error')\n",
    "jpm_model.compile(optimizer=keras.optimizers.Adam(learning_rate=learning_rate), loss='mean_squared_error')\n",
    "xom_model.compile(optimizer=keras.optimizers.Adam(learning_rate=learning_rate), loss='mean_squared_error')\n",
    "walmart_model.compile(optimizer=keras.optimizers.Adam(learning_rate=learning_rate), loss='mean_squared_error')"
   ]
  },
  {
   "cell_type": "code",
   "execution_count": 53,
   "metadata": {},
   "outputs": [
    {
     "name": "stdout",
     "output_type": "stream",
     "text": [
      "Epoch 1/20\n",
      "216/216 [==============================] - 7s 16ms/step - loss: 25799.4590 - val_loss: 35526.6133\n",
      "Epoch 2/20\n",
      "216/216 [==============================] - 3s 12ms/step - loss: 18434.4688 - val_loss: 19603.3770\n",
      "Epoch 3/20\n",
      "216/216 [==============================] - 3s 12ms/step - loss: 11088.5527 - val_loss: 11708.1475\n",
      "Epoch 4/20\n",
      "216/216 [==============================] - 3s 12ms/step - loss: 5804.2554 - val_loss: 5388.4517\n",
      "Epoch 5/20\n",
      "216/216 [==============================] - 3s 12ms/step - loss: 2905.3057 - val_loss: 3845.5151\n",
      "Epoch 6/20\n",
      "216/216 [==============================] - 2s 11ms/step - loss: 1517.0814 - val_loss: 2604.6033\n",
      "Epoch 7/20\n",
      "216/216 [==============================] - 2s 11ms/step - loss: 888.3575 - val_loss: 2742.9695\n",
      "Epoch 8/20\n",
      "216/216 [==============================] - 2s 12ms/step - loss: 645.0309 - val_loss: 3144.7417\n",
      "Epoch 9/20\n",
      "216/216 [==============================] - 2s 11ms/step - loss: 436.0950 - val_loss: 3017.4971\n",
      "Epoch 10/20\n",
      "216/216 [==============================] - 2s 11ms/step - loss: 268.6017 - val_loss: 3632.7605\n",
      "Epoch 11/20\n",
      "216/216 [==============================] - 2s 11ms/step - loss: 212.4277 - val_loss: 3926.6182\n"
     ]
    }
   ],
   "source": [
    "apple_es_callback = keras.callbacks.EarlyStopping(monitor=\"val_loss\", min_delta=0, patience=5)\n",
    "apple_model_history = apple_model.fit(apple_X, apple_y, epochs=20, batch_size=32, validation_split=0.25, callbacks=[apple_es_callback])"
   ]
  },
  {
   "cell_type": "code",
   "execution_count": 54,
   "metadata": {},
   "outputs": [
    {
     "name": "stdout",
     "output_type": "stream",
     "text": [
      "288/288 [==============================] - 2s 4ms/step\n"
     ]
    },
    {
     "data": {
      "image/png": "[encoded data removed]",
      "text/plain": [
       "<Figure size 432x288 with 1 Axes>"
      ]
     },
     "metadata": {
      "needs_background": "light"
     },
     "output_type": "display_data"
    },
    {
     "data": {
      "text/plain": [
       "array([[ 22.262281],\n",
       "       [ 22.44681 ],\n",
       "       [ 22.617638],\n",
       "       ...,\n",
       "       [136.9039  ],\n",
       "       [135.9059  ],\n",
       "       [136.83426 ]], dtype=float32)"
      ]
     },
     "execution_count": 54,
     "metadata": {},
     "output_type": "execute_result"
    }
   ],
   "source": [
    "summarize_results(apple_model, apple_X, apple_y)"
   ]
  },
  {
   "cell_type": "code",
   "execution_count": 55,
   "metadata": {},
   "outputs": [
    {
     "name": "stdout",
     "output_type": "stream",
     "text": [
      "Epoch 1/20\n",
      "217/217 [==============================] - 7s 15ms/step - loss: 1383.3042 - val_loss: 4739.5088\n",
      "Epoch 2/20\n",
      "217/217 [==============================] - 2s 11ms/step - loss: 439.6914 - val_loss: 3373.3745\n",
      "Epoch 3/20\n",
      "217/217 [==============================] - 2s 11ms/step - loss: 155.1188 - val_loss: 1628.6985\n",
      "Epoch 4/20\n",
      "217/217 [==============================] - 2s 11ms/step - loss: 58.4968 - val_loss: 1074.6302\n",
      "Epoch 5/20\n",
      "217/217 [==============================] - 2s 11ms/step - loss: 31.4770 - val_loss: 802.8717\n",
      "Epoch 6/20\n",
      "217/217 [==============================] - 2s 11ms/step - loss: 21.2062 - val_loss: 778.7168\n",
      "Epoch 7/20\n",
      "217/217 [==============================] - 2s 11ms/step - loss: 15.6857 - val_loss: 735.9053\n",
      "Epoch 8/20\n",
      "217/217 [==============================] - 2s 11ms/step - loss: 12.6703 - val_loss: 857.6627\n",
      "Epoch 9/20\n",
      "217/217 [==============================] - 2s 11ms/step - loss: 11.6439 - val_loss: 836.5571\n",
      "Epoch 10/20\n",
      "217/217 [==============================] - 3s 12ms/step - loss: 10.4569 - val_loss: 787.8206\n",
      "Epoch 11/20\n",
      "217/217 [==============================] - 2s 11ms/step - loss: 9.6111 - val_loss: 647.1534\n",
      "Epoch 12/20\n",
      "217/217 [==============================] - 3s 12ms/step - loss: 8.7734 - val_loss: 590.1326\n",
      "Epoch 13/20\n",
      "217/217 [==============================] - 3s 12ms/step - loss: 8.1196 - val_loss: 611.4540\n",
      "Epoch 14/20\n",
      "217/217 [==============================] - 2s 11ms/step - loss: 8.0940 - val_loss: 638.6747\n",
      "Epoch 15/20\n",
      "217/217 [==============================] - 3s 12ms/step - loss: 7.1311 - val_loss: 635.5865\n",
      "Epoch 16/20\n",
      "217/217 [==============================] - 2s 11ms/step - loss: 8.0916 - val_loss: 602.6830\n",
      "Epoch 17/20\n",
      "217/217 [==============================] - 2s 12ms/step - loss: 7.1773 - val_loss: 536.8712\n",
      "Epoch 18/20\n",
      "217/217 [==============================] - 3s 12ms/step - loss: 6.9739 - val_loss: 543.9144\n",
      "Epoch 19/20\n",
      "217/217 [==============================] - 2s 11ms/step - loss: 6.8796 - val_loss: 608.3340\n",
      "Epoch 20/20\n",
      "217/217 [==============================] - 2s 11ms/step - loss: 6.3652 - val_loss: 565.8950\n"
     ]
    }
   ],
   "source": [
    "jpm_es_callback = keras.callbacks.EarlyStopping(monitor=\"val_loss\", min_delta=0, patience=5)\n",
    "jpm_model_history = jpm_model.fit(jpm_X, jpm_y, epochs=20, batch_size=32, validation_split=0.25, callbacks=[jpm_es_callback])"
   ]
  },
  {
   "cell_type": "code",
   "execution_count": 56,
   "metadata": {},
   "outputs": [
    {
     "name": "stdout",
     "output_type": "stream",
     "text": [
      "289/289 [==============================] - 2s 4ms/step\n"
     ]
    },
    {
     "data": {
      "image/png": "[encoded data removed]",
      "text/plain": [
       "<Figure size 432x288 with 1 Axes>"
      ]
     },
     "metadata": {
      "needs_background": "light"
     },
     "output_type": "display_data"
    },
    {
     "data": {
      "text/plain": [
       "array([[46.334   ],\n",
       "       [46.16511 ],\n",
       "       [46.242104],\n",
       "       ...,\n",
       "       [83.156265],\n",
       "       [82.24794 ],\n",
       "       [82.47412 ]], dtype=float32)"
      ]
     },
     "execution_count": 56,
     "metadata": {},
     "output_type": "execute_result"
    }
   ],
   "source": [
    "summarize_results(jpm_model, jpm_X, jpm_y)\n"
   ]
  },
  {
   "cell_type": "code",
   "execution_count": 57,
   "metadata": {},
   "outputs": [
    {
     "name": "stdout",
     "output_type": "stream",
     "text": [
      "Epoch 1/20\n",
      "217/217 [==============================] - 8s 15ms/step - loss: 2530.7310 - val_loss: 1561.4819\n",
      "Epoch 2/20\n",
      "217/217 [==============================] - 2s 11ms/step - loss: 405.7635 - val_loss: 529.7936\n",
      "Epoch 3/20\n",
      "217/217 [==============================] - 2s 11ms/step - loss: 258.3872 - val_loss: 284.7937\n",
      "Epoch 4/20\n",
      "217/217 [==============================] - 2s 11ms/step - loss: 50.7249 - val_loss: 86.5307\n",
      "Epoch 5/20\n",
      "217/217 [==============================] - 2s 11ms/step - loss: 18.5355 - val_loss: 49.9285\n",
      "Epoch 6/20\n",
      "217/217 [==============================] - 2s 11ms/step - loss: 14.2148 - val_loss: 32.6878\n",
      "Epoch 7/20\n",
      "217/217 [==============================] - 2s 11ms/step - loss: 10.9897 - val_loss: 30.3878\n",
      "Epoch 8/20\n",
      "217/217 [==============================] - 2s 11ms/step - loss: 10.0853 - val_loss: 22.8160\n",
      "Epoch 9/20\n",
      "217/217 [==============================] - 3s 12ms/step - loss: 8.7970 - val_loss: 19.4412\n",
      "Epoch 10/20\n",
      "217/217 [==============================] - 3s 12ms/step - loss: 8.1906 - val_loss: 16.9862\n",
      "Epoch 11/20\n",
      "217/217 [==============================] - 2s 11ms/step - loss: 7.2326 - val_loss: 16.5783\n",
      "Epoch 12/20\n",
      "217/217 [==============================] - 2s 11ms/step - loss: 6.7921 - val_loss: 13.7978\n",
      "Epoch 13/20\n",
      "217/217 [==============================] - 2s 11ms/step - loss: 6.4629 - val_loss: 12.7085\n",
      "Epoch 14/20\n",
      "217/217 [==============================] - 2s 11ms/step - loss: 6.1306 - val_loss: 10.5579\n",
      "Epoch 15/20\n",
      "217/217 [==============================] - 2s 11ms/step - loss: 5.4594 - val_loss: 9.2228\n",
      "Epoch 16/20\n",
      "217/217 [==============================] - 2s 11ms/step - loss: 5.1010 - val_loss: 9.7214\n",
      "Epoch 17/20\n",
      "217/217 [==============================] - 2s 11ms/step - loss: 5.4486 - val_loss: 8.9626\n",
      "Epoch 18/20\n",
      "217/217 [==============================] - 2s 11ms/step - loss: 5.0218 - val_loss: 7.6202\n",
      "Epoch 19/20\n",
      "217/217 [==============================] - 2s 11ms/step - loss: 4.6688 - val_loss: 9.3045\n",
      "Epoch 20/20\n",
      "217/217 [==============================] - 2s 11ms/step - loss: 4.6959 - val_loss: 11.0497\n"
     ]
    }
   ],
   "source": [
    "xom_es_callback = keras.callbacks.EarlyStopping(monitor=\"val_loss\", min_delta=0, patience=5)\n",
    "xom_model_history = xom_model.fit(xom_X, xom_y, epochs=20, batch_size=32, validation_split=0.25, callbacks=[xom_es_callback])"
   ]
  },
  {
   "cell_type": "code",
   "execution_count": 58,
   "metadata": {},
   "outputs": [
    {
     "name": "stdout",
     "output_type": "stream",
     "text": [
      "289/289 [==============================] - 2s 4ms/step\n"
     ]
    },
    {
     "data": {
      "image/png": "[encoded data removed]",
      "text/plain": [
       "<Figure size 432x288 with 1 Axes>"
      ]
     },
     "metadata": {
      "needs_background": "light"
     },
     "output_type": "display_data"
    },
    {
     "data": {
      "text/plain": [
       "array([[ 28.915403],\n",
       "       [ 28.906174],\n",
       "       [ 28.91502 ],\n",
       "       ...,\n",
       "       [100.085526],\n",
       "       [100.0884  ],\n",
       "       [ 99.99981 ]], dtype=float32)"
      ]
     },
     "execution_count": 58,
     "metadata": {},
     "output_type": "execute_result"
    }
   ],
   "source": [
    "summarize_results(xom_model, xom_X, xom_y)"
   ]
  },
  {
   "cell_type": "code",
   "execution_count": 61,
   "metadata": {},
   "outputs": [
    {
     "name": "stdout",
     "output_type": "stream",
     "text": [
      "Epoch 1/20\n",
      "217/217 [==============================] - 3s 12ms/step - loss: 3.9845 - val_loss: 924.7165\n",
      "Epoch 2/20\n",
      "217/217 [==============================] - 2s 11ms/step - loss: 3.9899 - val_loss: 903.3375\n",
      "Epoch 3/20\n",
      "217/217 [==============================] - 2s 11ms/step - loss: 3.7821 - val_loss: 831.8083\n",
      "Epoch 4/20\n",
      "217/217 [==============================] - 2s 11ms/step - loss: 3.7584 - val_loss: 861.6869\n",
      "Epoch 5/20\n",
      "217/217 [==============================] - 3s 12ms/step - loss: 3.4844 - val_loss: 941.1629\n",
      "Epoch 6/20\n",
      "217/217 [==============================] - 2s 11ms/step - loss: 3.5981 - val_loss: 944.5809\n",
      "Epoch 7/20\n",
      "217/217 [==============================] - 2s 11ms/step - loss: 3.4318 - val_loss: 780.0649\n",
      "Epoch 8/20\n",
      "217/217 [==============================] - 2s 11ms/step - loss: 3.6455 - val_loss: 853.4057\n",
      "Epoch 9/20\n",
      "217/217 [==============================] - 2s 11ms/step - loss: 3.5072 - val_loss: 832.7245\n",
      "Epoch 10/20\n",
      "217/217 [==============================] - 2s 11ms/step - loss: 3.4272 - val_loss: 924.4297\n",
      "Epoch 11/20\n",
      "217/217 [==============================] - 3s 12ms/step - loss: 3.3449 - val_loss: 793.5895\n",
      "Epoch 12/20\n",
      "217/217 [==============================] - 2s 11ms/step - loss: 3.2392 - val_loss: 790.1613\n"
     ]
    }
   ],
   "source": [
    "walmart_es_callback = keras.callbacks.EarlyStopping(monitor=\"val_loss\", min_delta=0, patience=5)\n",
    "walmart_model_history = walmart_model.fit(walmart_X, walmart_y, epochs=20, batch_size=32, validation_split=0.25, callbacks=[walmart_es_callback])"
   ]
  },
  {
   "cell_type": "code",
   "execution_count": 62,
   "metadata": {},
   "outputs": [
    {
     "name": "stdout",
     "output_type": "stream",
     "text": [
      "289/289 [==============================] - 1s 4ms/step\n"
     ]
    },
    {
     "data": {
      "image/png": "[encoded data removed]",
      "text/plain": [
       "<Figure size 432x288 with 1 Axes>"
      ]
     },
     "metadata": {
      "needs_background": "light"
     },
     "output_type": "display_data"
    },
    {
     "data": {
      "text/plain": [
       "array([[30.81239 ],\n",
       "       [30.928473],\n",
       "       [30.85776 ],\n",
       "       ...,\n",
       "       [90.04938 ],\n",
       "       [90.264565],\n",
       "       [90.62898 ]], dtype=float32)"
      ]
     },
     "execution_count": 62,
     "metadata": {},
     "output_type": "execute_result"
    }
   ],
   "source": [
    "summarize_results(walmart_model, walmart_X, walmart_y)"
   ]
  },
  {
   "attachments": {},
   "cell_type": "markdown",
   "metadata": {},
   "source": [
    "<h1> Testing the Explainer </h1>"
   ]
  },
  {
   "cell_type": "code",
   "execution_count": 138,
   "metadata": {},
   "outputs": [],
   "source": [
    "from XAI.explainer import Explainer, flatten\n",
    "from sklearn.tree import DecisionTreeRegressor\n",
    "import pandas as pd"
   ]
  },
  {
   "cell_type": "code",
   "execution_count": 108,
   "metadata": {},
   "outputs": [],
   "source": [
    "def search(lst, labels, target_date):\n",
    "  for index, item in enumerate(lst):\n",
    "    if target_date == str(item.index[-1]):\n",
    "      return item, labels[index]\n",
    "  return None, None"
   ]
  },
  {
   "attachments": {},
   "cell_type": "markdown",
   "metadata": {},
   "source": [
    "<h2>Scenario 1</h2>\n",
    "Date: 11 September 2001\n",
    "\n",
    "Event: September 11 Attacks\n",
    "\n",
    "What happened: \n",
    "- Before the attack, oil was at low. The price of oil suddenly peaked to a high on the day of the attack. \n",
    "- The stock market suffered a huge loss in value. \n",
    "\n",
    "What we expect to observe:\n",
    "- The explainer should be able to point out the sudden rise in price as an explaination. "
   ]
  },
  {
   "cell_type": "code",
   "execution_count": 134,
   "metadata": {},
   "outputs": [],
   "source": [
    "apple_explainer_1 = Explainer(apple_model, np.array(a), surrogate_model=DecisionTreeRegressor(max_depth=5))"
   ]
  },
  {
   "cell_type": "code",
   "execution_count": 135,
   "metadata": {},
   "outputs": [],
   "source": [
    "apple_explainer_1.generate_neigbouring_datapoints()"
   ]
  },
  {
   "cell_type": "code",
   "execution_count": 136,
   "metadata": {},
   "outputs": [
    {
     "name": "stdout",
     "output_type": "stream",
     "text": [
      "2/2 [==============================] - 0s 7ms/step\n"
     ]
    }
   ],
   "source": [
    "apple_explainer_1.explain(pipeline=[flatten])"
   ]
  },
  {
   "cell_type": "code",
   "execution_count": 140,
   "metadata": {},
   "outputs": [],
   "source": [
    "feature_importance = pd.DataFrame(apple_explainer_1.surrogate_model.feature_importances_)"
   ]
  },
  {
   "cell_type": "code",
   "execution_count": 144,
   "metadata": {},
   "outputs": [
    {
     "data": {
      "text/html": [
       "<div>\n",
       "<style scoped>\n",
       "    .dataframe tbody tr th:only-of-type {\n",
       "        vertical-align: middle;\n",
       "    }\n",
       "\n",
       "    .dataframe tbody tr th {\n",
       "        vertical-align: top;\n",
       "    }\n",
       "\n",
       "    .dataframe thead th {\n",
       "        text-align: right;\n",
       "    }\n",
       "</style>\n",
       "<table border=\"1\" class=\"dataframe\">\n",
       "  <thead>\n",
       "    <tr style=\"text-align: right;\">\n",
       "      <th></th>\n",
       "      <th>0</th>\n",
       "    </tr>\n",
       "  </thead>\n",
       "  <tbody>\n",
       "    <tr>\n",
       "      <th>WTI Crude Oil Prices_2</th>\n",
       "      <td>0.457819</td>\n",
       "    </tr>\n",
       "    <tr>\n",
       "      <th>WTI Crude Oil Prices_4</th>\n",
       "      <td>0.251828</td>\n",
       "    </tr>\n",
       "    <tr>\n",
       "      <th>close_6</th>\n",
       "      <td>0.179296</td>\n",
       "    </tr>\n",
       "    <tr>\n",
       "      <th>close_3</th>\n",
       "      <td>0.060732</td>\n",
       "    </tr>\n",
       "    <tr>\n",
       "      <th>WTI Crude Oil Prices_3</th>\n",
       "      <td>0.028388</td>\n",
       "    </tr>\n",
       "    <tr>\n",
       "      <th>close_2</th>\n",
       "      <td>0.018170</td>\n",
       "    </tr>\n",
       "    <tr>\n",
       "      <th>WTI Crude Oil Prices_6</th>\n",
       "      <td>0.001572</td>\n",
       "    </tr>\n",
       "    <tr>\n",
       "      <th>WTI Crude Oil Prices_1</th>\n",
       "      <td>0.001271</td>\n",
       "    </tr>\n",
       "    <tr>\n",
       "      <th>close_4</th>\n",
       "      <td>0.000924</td>\n",
       "    </tr>\n",
       "    <tr>\n",
       "      <th>3 Month Treasury Yield_6</th>\n",
       "      <td>0.000000</td>\n",
       "    </tr>\n",
       "  </tbody>\n",
       "</table>\n",
       "</div>"
      ],
      "text/plain": [
       "                                 0\n",
       "WTI Crude Oil Prices_2    0.457819\n",
       "WTI Crude Oil Prices_4    0.251828\n",
       "close_6                   0.179296\n",
       "close_3                   0.060732\n",
       "WTI Crude Oil Prices_3    0.028388\n",
       "close_2                   0.018170\n",
       "WTI Crude Oil Prices_6    0.001572\n",
       "WTI Crude Oil Prices_1    0.001271\n",
       "close_4                   0.000924\n",
       "3 Month Treasury Yield_6  0.000000"
      ]
     },
     "execution_count": 144,
     "metadata": {},
     "output_type": "execute_result"
    }
   ],
   "source": [
    "def assign_feature_names(feature_importance, features):\n",
    "  cols = []\n",
    "  for i in range(0, 7):\n",
    "    for j in features:\n",
    "      cols.append(j + \"_\" + str(i))\n",
    "  feature_importance.index = cols\n",
    "  \n",
    "assign_feature_names(feature_importance, columns[1:])\n",
    "\n",
    "feature_importance.sort_values(by=0, ascending=False).head(10)"
   ]
  },
  {
   "cell_type": "code",
   "execution_count": 128,
   "metadata": {},
   "outputs": [
    {
     "name": "stdout",
     "output_type": "stream",
     "text": [
      "               close  3 Month Treasury Yield  WTI Crude Oil Prices  \\\n",
      "date                                                                 \n",
      "2008-02-29  125.0200                    1.81                101.78   \n",
      "2008-03-03  121.7300                    1.67                102.42   \n",
      "2008-03-04  124.6196                    1.63                 99.72   \n",
      "2008-03-05  124.4908                    1.50                104.45   \n",
      "2008-03-06  120.9292                    1.37                105.51   \n",
      "2008-03-07  122.2508                    1.42                105.12   \n",
      "2008-03-10  119.6888                    1.33                107.90   \n",
      "\n",
      "            7-day volatility  \n",
      "date                          \n",
      "2008-02-29         61.633826  \n",
      "2008-03-03         61.514551  \n",
      "2008-03-04         58.272185  \n",
      "2008-03-05         52.778884  \n",
      "2008-03-06         46.666987  \n",
      "2008-03-07         47.664431  \n",
      "2008-03-10         32.800360  \n"
     ]
    }
   ],
   "source": [
    "a, b = search(raw_apple_X, raw_apple_y, '2008-03-10')\n",
    "print(a)"
   ]
  },
  {
   "cell_type": "code",
   "execution_count": 114,
   "metadata": {},
   "outputs": [],
   "source": [
    "a"
   ]
  },
  {
   "cell_type": "code",
   "execution_count": null,
   "metadata": {},
   "outputs": [],
   "source": []
  }
 ],
 "metadata": {
  "kernelspec": {
   "display_name": "base",
   "language": "python",
   "name": "python3"
  },
  "language_info": {
   "codemirror_mode": {
    "name": "ipython",
    "version": 3
   },
   "file_extension": ".py",
   "mimetype": "text/x-python",
   "name": "python",
   "nbconvert_exporter": "python",
   "pygments_lexer": "ipython3",
   "version": "3.9.7"
  },
  "orig_nbformat": 4
 },
 "nbformat": 4,
 "nbformat_minor": 2
}
