{
 "cells": [
  {
   "cell_type": "code",
   "execution_count": 1,
   "metadata": {},
   "outputs": [],
   "source": [
    "import sys\n",
    "sys.path.insert(0, '/Users/waihengsoh/Desktop/Simply Solution/vehicle_dis/Equities_Price_Prediction_XAI')"
   ]
  },
  {
   "cell_type": "code",
   "execution_count": 2,
   "metadata": {},
   "outputs": [
    {
     "name": "stdout",
     "output_type": "stream",
     "text": [
      "Requirement already satisfied: yfinance in /Users/waihengsoh/opt/miniconda3/lib/python3.9/site-packages (from -r ../requirements.txt (line 1)) (0.1.74)\n",
      "Requirement already satisfied: requests in /Users/waihengsoh/opt/miniconda3/lib/python3.9/site-packages (from -r ../requirements.txt (line 2)) (2.28.1)\n",
      "Requirement already satisfied: eod in /Users/waihengsoh/opt/miniconda3/lib/python3.9/site-packages (from -r ../requirements.txt (line 3)) (0.2.1)\n",
      "Requirement already satisfied: pandas in /Users/waihengsoh/opt/miniconda3/lib/python3.9/site-packages (from -r ../requirements.txt (line 4)) (1.3.5)\n",
      "Requirement already satisfied: scikit-learn in /Users/waihengsoh/opt/miniconda3/lib/python3.9/site-packages (from -r ../requirements.txt (line 5)) (1.0.2)\n",
      "Requirement already satisfied: eodhd in /Users/waihengsoh/opt/miniconda3/lib/python3.9/site-packages (from -r ../requirements.txt (line 6)) (1.0.7)\n",
      "Requirement already satisfied: transformers in /Users/waihengsoh/opt/miniconda3/lib/python3.9/site-packages (from -r ../requirements.txt (line 7)) (4.24.0)\n",
      "Requirement already satisfied: keras in /Users/waihengsoh/opt/miniconda3/lib/python3.9/site-packages (from -r ../requirements.txt (line 8)) (2.9.0)\n",
      "Requirement already satisfied: seaborn in /Users/waihengsoh/opt/miniconda3/lib/python3.9/site-packages (from -r ../requirements.txt (line 9)) (0.11.2)\n",
      "Requirement already satisfied: tensorflow in /Users/waihengsoh/opt/miniconda3/lib/python3.9/site-packages (from -r ../requirements.txt (line 10)) (2.9.1)\n",
      "Requirement already satisfied: lxml>=4.5.1 in /Users/waihengsoh/opt/miniconda3/lib/python3.9/site-packages (from yfinance->-r ../requirements.txt (line 1)) (4.8.0)\n",
      "Requirement already satisfied: multitasking>=0.0.7 in /Users/waihengsoh/opt/miniconda3/lib/python3.9/site-packages (from yfinance->-r ../requirements.txt (line 1)) (0.0.11)\n",
      "Requirement already satisfied: numpy>=1.15 in /Users/waihengsoh/opt/miniconda3/lib/python3.9/site-packages (from yfinance->-r ../requirements.txt (line 1)) (1.21.6)\n",
      "Requirement already satisfied: charset-normalizer<3,>=2 in /Users/waihengsoh/opt/miniconda3/lib/python3.9/site-packages (from requests->-r ../requirements.txt (line 2)) (2.0.4)\n",
      "Requirement already satisfied: idna<4,>=2.5 in /Users/waihengsoh/opt/miniconda3/lib/python3.9/site-packages (from requests->-r ../requirements.txt (line 2)) (2.8)\n",
      "Requirement already satisfied: urllib3<1.27,>=1.21.1 in /Users/waihengsoh/opt/miniconda3/lib/python3.9/site-packages (from requests->-r ../requirements.txt (line 2)) (1.25.11)\n",
      "Requirement already satisfied: certifi>=2017.4.17 in /Users/waihengsoh/opt/miniconda3/lib/python3.9/site-packages (from requests->-r ../requirements.txt (line 2)) (2022.12.7)\n",
      "Requirement already satisfied: pytz>=2017.3 in /Users/waihengsoh/opt/miniconda3/lib/python3.9/site-packages (from pandas->-r ../requirements.txt (line 4)) (2021.3)\n",
      "Requirement already satisfied: python-dateutil>=2.7.3 in /Users/waihengsoh/opt/miniconda3/lib/python3.9/site-packages (from pandas->-r ../requirements.txt (line 4)) (2.8.2)\n",
      "Requirement already satisfied: scipy>=1.1.0 in /Users/waihengsoh/opt/miniconda3/lib/python3.9/site-packages (from scikit-learn->-r ../requirements.txt (line 5)) (1.8.0)\n",
      "Requirement already satisfied: threadpoolctl>=2.0.0 in /Users/waihengsoh/opt/miniconda3/lib/python3.9/site-packages (from scikit-learn->-r ../requirements.txt (line 5)) (3.1.0)\n",
      "Requirement already satisfied: joblib>=0.11 in /Users/waihengsoh/opt/miniconda3/lib/python3.9/site-packages (from scikit-learn->-r ../requirements.txt (line 5)) (1.1.0)\n",
      "Requirement already satisfied: rich==12.5.1 in /Users/waihengsoh/opt/miniconda3/lib/python3.9/site-packages (from eodhd->-r ../requirements.txt (line 6)) (12.5.1)\n",
      "Requirement already satisfied: websocket-client==1.3.3 in /Users/waihengsoh/opt/miniconda3/lib/python3.9/site-packages (from eodhd->-r ../requirements.txt (line 6)) (1.3.3)\n",
      "Requirement already satisfied: websockets==10.3 in /Users/waihengsoh/opt/miniconda3/lib/python3.9/site-packages (from eodhd->-r ../requirements.txt (line 6)) (10.3)\n",
      "Requirement already satisfied: commonmark<0.10.0,>=0.9.0 in /Users/waihengsoh/opt/miniconda3/lib/python3.9/site-packages (from rich==12.5.1->eodhd->-r ../requirements.txt (line 6)) (0.9.1)\n",
      "Requirement already satisfied: pygments<3.0.0,>=2.6.0 in /Users/waihengsoh/opt/miniconda3/lib/python3.9/site-packages (from rich==12.5.1->eodhd->-r ../requirements.txt (line 6)) (2.11.2)\n",
      "Requirement already satisfied: pyyaml>=5.1 in /Users/waihengsoh/opt/miniconda3/lib/python3.9/site-packages (from transformers->-r ../requirements.txt (line 7)) (6.0)\n",
      "Requirement already satisfied: tqdm>=4.27 in /Users/waihengsoh/opt/miniconda3/lib/python3.9/site-packages (from transformers->-r ../requirements.txt (line 7)) (4.62.3)\n",
      "Requirement already satisfied: huggingface-hub<1.0,>=0.10.0 in /Users/waihengsoh/opt/miniconda3/lib/python3.9/site-packages (from transformers->-r ../requirements.txt (line 7)) (0.10.1)\n",
      "Requirement already satisfied: regex!=2019.12.17 in /Users/waihengsoh/opt/miniconda3/lib/python3.9/site-packages (from transformers->-r ../requirements.txt (line 7)) (2022.7.9)\n",
      "Requirement already satisfied: tokenizers!=0.11.3,<0.14,>=0.11.1 in /Users/waihengsoh/opt/miniconda3/lib/python3.9/site-packages (from transformers->-r ../requirements.txt (line 7)) (0.11.4)\n",
      "Requirement already satisfied: packaging>=20.0 in /Users/waihengsoh/opt/miniconda3/lib/python3.9/site-packages (from transformers->-r ../requirements.txt (line 7)) (22.0)\n",
      "Requirement already satisfied: filelock in /Users/waihengsoh/opt/miniconda3/lib/python3.9/site-packages (from transformers->-r ../requirements.txt (line 7)) (3.6.0)\n",
      "Requirement already satisfied: matplotlib>=2.2 in /Users/waihengsoh/opt/miniconda3/lib/python3.9/site-packages (from seaborn->-r ../requirements.txt (line 9)) (3.5.2)\n",
      "Requirement already satisfied: grpcio<2.0,>=1.24.3 in /Users/waihengsoh/opt/miniconda3/lib/python3.9/site-packages (from tensorflow->-r ../requirements.txt (line 10)) (1.37.1)\n",
      "Requirement already satisfied: wrapt>=1.11.0 in /Users/waihengsoh/opt/miniconda3/lib/python3.9/site-packages (from tensorflow->-r ../requirements.txt (line 10)) (1.13.3)\n",
      "Requirement already satisfied: astunparse>=1.6.0 in /Users/waihengsoh/opt/miniconda3/lib/python3.9/site-packages (from tensorflow->-r ../requirements.txt (line 10)) (1.6.3)\n",
      "Requirement already satisfied: libclang>=13.0.0 in /Users/waihengsoh/opt/miniconda3/lib/python3.9/site-packages (from tensorflow->-r ../requirements.txt (line 10)) (14.0.1)\n",
      "Requirement already satisfied: termcolor>=1.1.0 in /Users/waihengsoh/opt/miniconda3/lib/python3.9/site-packages (from tensorflow->-r ../requirements.txt (line 10)) (1.1.0)\n",
      "Requirement already satisfied: keras-preprocessing>=1.1.1 in /Users/waihengsoh/opt/miniconda3/lib/python3.9/site-packages (from tensorflow->-r ../requirements.txt (line 10)) (1.1.2)\n",
      "Requirement already satisfied: h5py>=2.9.0 in /Users/waihengsoh/opt/miniconda3/lib/python3.9/site-packages (from tensorflow->-r ../requirements.txt (line 10)) (3.6.0)\n",
      "Requirement already satisfied: protobuf<3.20,>=3.9.2 in /Users/waihengsoh/opt/miniconda3/lib/python3.9/site-packages (from tensorflow->-r ../requirements.txt (line 10)) (3.19.4)\n",
      "Requirement already satisfied: tensorflow-estimator<2.10.0,>=2.9.0rc0 in /Users/waihengsoh/opt/miniconda3/lib/python3.9/site-packages (from tensorflow->-r ../requirements.txt (line 10)) (2.9.0)\n",
      "Requirement already satisfied: absl-py>=1.0.0 in /Users/waihengsoh/opt/miniconda3/lib/python3.9/site-packages (from tensorflow->-r ../requirements.txt (line 10)) (1.1.0)\n",
      "Requirement already satisfied: six>=1.12.0 in /Users/waihengsoh/opt/miniconda3/lib/python3.9/site-packages (from tensorflow->-r ../requirements.txt (line 10)) (1.16.0)\n",
      "Requirement already satisfied: tensorflow-io-gcs-filesystem>=0.23.1 in /Users/waihengsoh/opt/miniconda3/lib/python3.9/site-packages (from tensorflow->-r ../requirements.txt (line 10)) (0.26.0)\n",
      "Requirement already satisfied: opt-einsum>=2.3.2 in /Users/waihengsoh/opt/miniconda3/lib/python3.9/site-packages (from tensorflow->-r ../requirements.txt (line 10)) (3.3.0)\n",
      "Requirement already satisfied: tensorboard<2.10,>=2.9 in /Users/waihengsoh/opt/miniconda3/lib/python3.9/site-packages (from tensorflow->-r ../requirements.txt (line 10)) (2.9.1)\n",
      "Requirement already satisfied: google-pasta>=0.1.1 in /Users/waihengsoh/opt/miniconda3/lib/python3.9/site-packages (from tensorflow->-r ../requirements.txt (line 10)) (0.2.0)\n",
      "Requirement already satisfied: gast<=0.4.0,>=0.2.1 in /Users/waihengsoh/opt/miniconda3/lib/python3.9/site-packages (from tensorflow->-r ../requirements.txt (line 10)) (0.4.0)\n",
      "Requirement already satisfied: typing-extensions>=3.6.6 in /Users/waihengsoh/opt/miniconda3/lib/python3.9/site-packages (from tensorflow->-r ../requirements.txt (line 10)) (4.4.0)\n",
      "Requirement already satisfied: flatbuffers<2,>=1.12 in /Users/waihengsoh/opt/miniconda3/lib/python3.9/site-packages (from tensorflow->-r ../requirements.txt (line 10)) (1.12)\n",
      "Requirement already satisfied: setuptools in /Users/waihengsoh/opt/miniconda3/lib/python3.9/site-packages (from tensorflow->-r ../requirements.txt (line 10)) (58.0.4)\n",
      "Requirement already satisfied: wheel<1.0,>=0.23.0 in /Users/waihengsoh/opt/miniconda3/lib/python3.9/site-packages (from astunparse>=1.6.0->tensorflow->-r ../requirements.txt (line 10)) (0.37.1)\n"
     ]
    },
    {
     "name": "stdout",
     "output_type": "stream",
     "text": [
      "Requirement already satisfied: pillow>=6.2.0 in /Users/waihengsoh/opt/miniconda3/lib/python3.9/site-packages (from matplotlib>=2.2->seaborn->-r ../requirements.txt (line 9)) (9.3.0)\n",
      "Requirement already satisfied: cycler>=0.10 in /Users/waihengsoh/opt/miniconda3/lib/python3.9/site-packages (from matplotlib>=2.2->seaborn->-r ../requirements.txt (line 9)) (0.11.0)\n",
      "Requirement already satisfied: pyparsing>=2.2.1 in /Users/waihengsoh/opt/miniconda3/lib/python3.9/site-packages (from matplotlib>=2.2->seaborn->-r ../requirements.txt (line 9)) (3.0.7)\n",
      "Requirement already satisfied: kiwisolver>=1.0.1 in /Users/waihengsoh/opt/miniconda3/lib/python3.9/site-packages (from matplotlib>=2.2->seaborn->-r ../requirements.txt (line 9)) (1.4.2)\n",
      "Requirement already satisfied: fonttools>=4.22.0 in /Users/waihengsoh/opt/miniconda3/lib/python3.9/site-packages (from matplotlib>=2.2->seaborn->-r ../requirements.txt (line 9)) (4.33.3)\n",
      "Requirement already satisfied: tensorboard-plugin-wit>=1.6.0 in /Users/waihengsoh/opt/miniconda3/lib/python3.9/site-packages (from tensorboard<2.10,>=2.9->tensorflow->-r ../requirements.txt (line 10)) (1.8.1)\n",
      "Requirement already satisfied: tensorboard-data-server<0.7.0,>=0.6.0 in /Users/waihengsoh/opt/miniconda3/lib/python3.9/site-packages (from tensorboard<2.10,>=2.9->tensorflow->-r ../requirements.txt (line 10)) (0.6.1)\n",
      "Requirement already satisfied: werkzeug>=1.0.1 in /Users/waihengsoh/opt/miniconda3/lib/python3.9/site-packages (from tensorboard<2.10,>=2.9->tensorflow->-r ../requirements.txt (line 10)) (2.0.3)\n",
      "Requirement already satisfied: markdown>=2.6.8 in /Users/waihengsoh/opt/miniconda3/lib/python3.9/site-packages (from tensorboard<2.10,>=2.9->tensorflow->-r ../requirements.txt (line 10)) (3.3.6)\n",
      "Requirement already satisfied: google-auth-oauthlib<0.5,>=0.4.1 in /Users/waihengsoh/opt/miniconda3/lib/python3.9/site-packages (from tensorboard<2.10,>=2.9->tensorflow->-r ../requirements.txt (line 10)) (0.4.6)\n",
      "Requirement already satisfied: google-auth<3,>=1.6.3 in /Users/waihengsoh/opt/miniconda3/lib/python3.9/site-packages (from tensorboard<2.10,>=2.9->tensorflow->-r ../requirements.txt (line 10)) (2.6.2)\n",
      "Requirement already satisfied: rsa<5,>=3.1.4 in /Users/waihengsoh/opt/miniconda3/lib/python3.9/site-packages (from google-auth<3,>=1.6.3->tensorboard<2.10,>=2.9->tensorflow->-r ../requirements.txt (line 10)) (4.8)\n",
      "Requirement already satisfied: cachetools<6.0,>=2.0.0 in /Users/waihengsoh/opt/miniconda3/lib/python3.9/site-packages (from google-auth<3,>=1.6.3->tensorboard<2.10,>=2.9->tensorflow->-r ../requirements.txt (line 10)) (5.0.0)\n",
      "Requirement already satisfied: pyasn1-modules>=0.2.1 in /Users/waihengsoh/opt/miniconda3/lib/python3.9/site-packages (from google-auth<3,>=1.6.3->tensorboard<2.10,>=2.9->tensorflow->-r ../requirements.txt (line 10)) (0.2.8)\n",
      "Requirement already satisfied: requests-oauthlib>=0.7.0 in /Users/waihengsoh/opt/miniconda3/lib/python3.9/site-packages (from google-auth-oauthlib<0.5,>=0.4.1->tensorboard<2.10,>=2.9->tensorflow->-r ../requirements.txt (line 10)) (1.3.1)\n",
      "Requirement already satisfied: importlib-metadata>=4.4 in /Users/waihengsoh/opt/miniconda3/lib/python3.9/site-packages (from markdown>=2.6.8->tensorboard<2.10,>=2.9->tensorflow->-r ../requirements.txt (line 10)) (4.11.3)\n",
      "Requirement already satisfied: zipp>=0.5 in /Users/waihengsoh/opt/miniconda3/lib/python3.9/site-packages (from importlib-metadata>=4.4->markdown>=2.6.8->tensorboard<2.10,>=2.9->tensorflow->-r ../requirements.txt (line 10)) (3.7.0)\n",
      "Requirement already satisfied: pyasn1<0.5.0,>=0.4.6 in /Users/waihengsoh/opt/miniconda3/lib/python3.9/site-packages (from pyasn1-modules>=0.2.1->google-auth<3,>=1.6.3->tensorboard<2.10,>=2.9->tensorflow->-r ../requirements.txt (line 10)) (0.4.8)\n",
      "Requirement already satisfied: oauthlib>=3.0.0 in /Users/waihengsoh/opt/miniconda3/lib/python3.9/site-packages (from requests-oauthlib>=0.7.0->google-auth-oauthlib<0.5,>=0.4.1->tensorboard<2.10,>=2.9->tensorflow->-r ../requirements.txt (line 10)) (3.2.0)\n",
      "\n",
      "\u001b[1m[\u001b[0m\u001b[34;49mnotice\u001b[0m\u001b[1;39;49m]\u001b[0m\u001b[39;49m A new release of pip available: \u001b[0m\u001b[31;49m22.1.2\u001b[0m\u001b[39;49m -> \u001b[0m\u001b[32;49m22.3.1\u001b[0m\n",
      "\u001b[1m[\u001b[0m\u001b[34;49mnotice\u001b[0m\u001b[1;39;49m]\u001b[0m\u001b[39;49m To update, run: \u001b[0m\u001b[32;49mpip install --upgrade pip\u001b[0m\n"
     ]
    }
   ],
   "source": [
    "!pip install -r ../requirements.txt"
   ]
  },
  {
   "cell_type": "code",
   "execution_count": null,
   "metadata": {},
   "outputs": [],
   "source": [
    "from transformers import BertTokenizer, TFBertForSequenceClassification, InputExample, InputFeatures\n",
    "\n",
    "model = TFBertForSequenceClassification.from_pretrained(\"bert-base-uncased\")\n",
    "tokenizer = BertTokenizer.from_pretrained(\"bert-base-uncased\")"
   ]
  },
  {
   "cell_type": "code",
   "execution_count": null,
   "metadata": {},
   "outputs": [],
   "source": [
    "model.summary()"
   ]
  },
  {
   "cell_type": "code",
   "execution_count": null,
   "metadata": {},
   "outputs": [],
   "source": [
    "import tensorflow as tf\n",
    "import pandas as pd\n",
    "from sklearn.model_selection import train_test_split"
   ]
  },
  {
   "cell_type": "code",
   "execution_count": null,
   "metadata": {},
   "outputs": [],
   "source": [
    "# news = historical_news.get_all_news(date(2021, 8, 1), date(2021, 10, 31))\n",
    "train = pd.read_csv('/Users/waihengsoh/Desktop/Simply Solution/vehicle_dis/Equities_Price_Prediction_XAI/Functions/Historical_News/news/train.csv')\n",
    "train = train.loc[:, ['content', 'price_change']]\n",
    "X_train = train['content'].tolist()\n",
    "y_train = train['price_change'].tolist()\n",
    "\n",
    "X_train, X_val, y_train, y_val = train_test_split(X_train, y_train, test_size=0.1, random_state=42)\n",
    "\n",
    "test = pd.read_csv('/Users/waihengsoh/Desktop/Simply Solution/vehicle_dis/Equities_Price_Prediction_XAI/Functions/Historical_News/news/test.csv')\n",
    "test = test.loc[:, ['content', 'price_change']]\n",
    "X_test = test['content'].tolist()\n",
    "y_test = test['price_change'].tolist()\n",
    "\n",
    "print(len(X_train), len(y_train), len(X_val), len(y_val), len(X_test), len(y_test))\n"
   ]
  },
  {
   "cell_type": "code",
   "execution_count": null,
   "metadata": {},
   "outputs": [
    {
     "name": "stdout",
     "output_type": "stream",
     "text": [
      "extracting news for AAPL.US ...\n",
      "extracting news for MSFT.US ...\n",
      "extracting news for AMZN.US ...\n",
      "extracting news for TSLA.US ...\n",
      "extracting news for GOOGL.US ...\n",
      "extracting news for GOOG.US ...\n"
     ]
    }
   ],
   "source": [
    "from Functions.Historical_News import historical_news\n",
    "from datetime import date, timedelta\n",
    "news = historical_news.get_all_news(date(2021, 8, 1), date(2021, 10, 31))\n",
    "news = news.loc[:, ['content', 'price_change']]\n"
   ]
  },
  {
   "cell_type": "code",
   "execution_count": null,
   "metadata": {},
   "outputs": [],
   "source": [
    "news"
   ]
  },
  {
   "cell_type": "code",
   "execution_count": null,
   "metadata": {},
   "outputs": [],
   "source": [
    "train.head()"
   ]
  },
  {
   "cell_type": "code",
   "execution_count": null,
   "metadata": {},
   "outputs": [],
   "source": [
    "def convert_data_to_examples(train, test, DATA_COLUMN, LABEL_COLUMN): \n",
    "  train_InputExamples = train.apply(lambda x: InputExample(guid=None,\n",
    "                                                          text_a = x[DATA_COLUMN], \n",
    "                                                          text_b = None,\n",
    "                                                          label = x[LABEL_COLUMN]), axis = 1)\n",
    "\n",
    "  validation_InputExamples = test.apply(lambda x: InputExample(guid=None,\n",
    "                                                          text_a = x[DATA_COLUMN], \n",
    "                                                          text_b = None,\n",
    "                                                          label = x[LABEL_COLUMN]), axis = 1)\n",
    "  \n",
    "  return train_InputExamples, validation_InputExamples\n",
    "\n",
    "  train_InputExamples, validation_InputExamples = convert_data_to_examples(train, \n",
    "                                                                           test, \n",
    "                                                                           'DATA_COLUMN', \n",
    "                                                                           'LABEL_COLUMN')\n",
    "  \n",
    "def convert_examples_to_tf_dataset(examples, tokenizer, max_length=128):\n",
    "    features = [] # -> will hold InputFeatures to be converted later\n",
    "\n",
    "    for e in examples:\n",
    "        input_dict = tokenizer.encode_plus(\n",
    "            e.text_a,\n",
    "            add_special_tokens=True,\n",
    "            max_length=max_length,\n",
    "            return_token_type_ids=True,\n",
    "            return_attention_mask=True,\n",
    "            pad_to_max_length=True,\n",
    "            truncation=True\n",
    "        )\n",
    "\n",
    "        input_ids, token_type_ids, attention_mask = (input_dict[\"input_ids\"],\n",
    "            input_dict[\"token_type_ids\"], input_dict['attention_mask'])\n",
    "\n",
    "        features.append(\n",
    "            InputFeatures(\n",
    "                input_ids=input_ids, attention_mask=attention_mask, token_type_ids=token_type_ids, label=e.label\n",
    "            )\n",
    "        )\n",
    "\n",
    "    def gen():\n",
    "        for f in features:\n",
    "            yield (\n",
    "                {\n",
    "                    \"input_ids\": f.input_ids,\n",
    "                    \"attention_mask\": f.attention_mask,\n",
    "                    \"token_type_ids\": f.token_type_ids,\n",
    "                },\n",
    "                f.label,\n",
    "            )\n",
    "\n",
    "    return tf.data.Dataset.from_generator(\n",
    "        gen,\n",
    "        ({\"input_ids\": tf.int32, \"attention_mask\": tf.int32, \"token_type_ids\": tf.int32}, tf.int64),\n",
    "        (\n",
    "            {\n",
    "                \"input_ids\": tf.TensorShape([None]),\n",
    "                \"attention_mask\": tf.TensorShape([None]),\n",
    "                \"token_type_ids\": tf.TensorShape([None]),\n",
    "            },\n",
    "            tf.TensorShape([]),\n",
    "        ),\n",
    "    )\n"
   ]
  },
  {
   "cell_type": "code",
   "execution_count": null,
   "metadata": {},
   "outputs": [],
   "source": [
    "train_InputExamples, validation_InputExamples = convert_data_to_examples(train[:47000], train[47000:], 'content', 'price_change')\n",
    "\n",
    "train_data = convert_examples_to_tf_dataset(list(train_InputExamples), tokenizer)\n",
    "train_data = train_data.shuffle(100).batch(32).repeat(2)\n",
    "\n",
    "validation_data = convert_examples_to_tf_dataset(list(validation_InputExamples), tokenizer)\n",
    "validation_data = validation_data.batch(32)"
   ]
  },
  {
   "cell_type": "code",
   "execution_count": null,
   "metadata": {},
   "outputs": [],
   "source": [
    "model = TFBertForSequenceClassification.from_pretrained(\"bert-base-uncased\")\n",
    "model.compile(optimizer=tf.keras.optimizers.Adam(learning_rate=1e-4, epsilon=1e-07, clipnorm=1.0), \n",
    "              loss=tf.keras.losses.SparseCategoricalCrossentropy(from_logits=True), \n",
    "              metrics=[tf.keras.metrics.SparseCategoricalAccuracy('accuracy')])\n",
    "\n",
    "model.fit(train_data, epochs=3, steps_per_epoch=100, validation_data=validation_data)"
   ]
  },
  {
   "cell_type": "code",
   "execution_count": null,
   "metadata": {},
   "outputs": [],
   "source": [
    "tf_batch = tokenizer(X_test[:100], padding=True, truncation=True, return_tensors='tf')\n",
    "tf_outputs = model(tf_batch)\n",
    "tf_predictions = tf.nn.softmax(tf_outputs[0], axis=-1)\n",
    "labels = ['Negative','Positive']\n",
    "label = tf.argmax(tf_predictions, axis=1)\n",
    "label = label.numpy()\n",
    "correct, wrong = 0, 0\n",
    "for i in range(len(X_test[:100])):\n",
    "  print(\"predicted:\", labels[label[i]], \"actual:\", labels[int(y_test[i])])\n",
    "  if labels[label[i]] == labels[int(y_test[i])]:\n",
    "    correct += 1\n",
    "  else:\n",
    "    wrong += 1\n",
    "print(correct / (correct + wrong))"
   ]
  },
  {
   "cell_type": "markdown",
   "metadata": {},
   "source": [
    "references from : https://towardsdatascience.com/sentiment-analysis-in-10-minutes-with-bert-and-hugging-face-294e8a04b671"
   ]
  }
 ],
 "metadata": {
  "interpreter": {
   "hash": "31123794a318c38813355d29e032308f1989c1650d27ec22783ecd4e025c111f"
  },
  "kernelspec": {
   "display_name": "Python 3 (ipykernel)",
   "language": "python",
   "name": "python3"
  },
  "language_info": {
   "codemirror_mode": {
    "name": "ipython",
    "version": 3
   },
   "file_extension": ".py",
   "mimetype": "text/x-python",
   "name": "python",
   "nbconvert_exporter": "python",
   "pygments_lexer": "ipython3",
   "version": "3.9.7"
  }
 },
 "nbformat": 4,
 "nbformat_minor": 2
}
