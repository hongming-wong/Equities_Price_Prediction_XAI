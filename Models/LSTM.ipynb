{
 "cells": [
  {
   "cell_type": "markdown",
   "metadata": {},
   "source": [
    "Here, we would like to implement a multivariate time series LSTM model that utilizes historical prices along with technical indicators to predict prices."
   ]
  },
  {
   "cell_type": "markdown",
   "metadata": {},
   "source": [
    "<img src=\"https://api.wandb.ai/files/ayush-thakur/images/projects/103390/4fc355be.png\" width=500 height=300>"
   ]
  },
  {
   "cell_type": "code",
   "execution_count": 1,
   "metadata": {
    "pycharm": {
     "name": "#%%\n"
    }
   },
   "outputs": [],
   "source": [
    "import os\n",
    "import numpy as np\n",
    "from Functions.sp500.sp500 import get_sp500_tickers\n",
    "import matplotlib.pyplot as plt"
   ]
  },
  {
   "cell_type": "code",
   "execution_count": 2,
   "metadata": {
    "pycharm": {
     "name": "#%%\n"
    }
   },
   "outputs": [],
   "source": [
    "def load_data(tickers):\n",
    "    final_X, final_y = None, None\n",
    "    for ticker in tickers:\n",
    "        print(f\"Loading {ticker}\")\n",
    "        a = f\"../Functions/csv_files/sampling_data/{ticker}/X.npy\"\n",
    "        b = f\"../Functions/csv_files/sampling_data/{ticker}/y.npy\"\n",
    "        if not os.path.exists(a) or not os.path.exists(b):\n",
    "            print(f\"No {ticker} data\")\n",
    "            continue\n",
    "        data_X = np.load(a, allow_pickle=True)\n",
    "        data_y = np.load(b, allow_pickle=True)\n",
    "        if len(data_X.shape) != 3 or data_X.shape[1] != 14 or data_X.shape[2] != 7:\n",
    "            print(f\"{ticker} is corrupted: Training Data is incorrect\")\n",
    "            continue\n",
    "        if len(data_y.shape) != 1 or data_y.shape[0] != data_X.shape[0]:\n",
    "            print(f\"{ticker} is corrupted: Label is incorrect\")\n",
    "            continue\n",
    "        if final_X is None and final_y is None:\n",
    "            final_X = data_X\n",
    "            final_y = data_y\n",
    "        else:\n",
    "            final_X = np.append(final_X, data_X, axis=0)\n",
    "            final_y = np.append(final_y, data_y, axis=0)\n",
    "    return final_X, final_y"
   ]
  },
  {
   "cell_type": "code",
   "execution_count": 3,
   "metadata": {
    "pycharm": {
     "name": "#%%\n"
    }
   },
   "outputs": [
    {
     "name": "stdout",
     "output_type": "stream",
     "text": [
      "['AAPL.US', 'MSFT.US', 'AMZN.US', 'TSLA.US', 'GOOGL.US', 'GOOG.US', 'BRKB.US', 'UNH.US', 'JNJ.US', 'XOM.US', 'META.US', 'JPM.US', 'NVDA.US', 'PG.US', 'V.US', 'HD.US', 'CVX.US', 'LLY.US', 'PFE.US', 'MA.US', 'ABBV.US', 'PEP.US', 'MRK.US', 'KO.US', 'BAC.US', 'COST.US', 'TMO.US', 'WMT.US', 'AVGO.US', 'DIS.US', 'MCD.US', 'ABT.US', 'DHR.US', 'CSCO.US', 'ACN.US', 'VZ.US', 'NEE.US', 'WFC.US', 'BMY.US', 'CRM.US', 'TXN.US', 'LIN.US', 'COP.US', 'CMCSA.US', 'ADBE.US', 'PM.US', 'QCOM.US', 'CVS.US', 'UNP.US', 'RTX.US', 'AMGN.US', 'LOW.US', 'UPS.US', 'HON.US', 'SCHW.US', 'T.US', 'ELV.US', 'INTU.US', 'IBM.US', 'MDT.US', 'INTC.US', 'MS.US', 'NKE.US', 'NFLX.US', 'SPGI.US', 'AMD.US', 'GS.US', 'AMT.US', 'PYPL.US', 'SBUX.US', 'ADP.US', 'DE.US', 'ORCL.US', 'LMT.US', 'CAT.US', 'CI.US', 'BLK.US', 'AXP.US', 'TMUS.US', 'C.US', 'GILD.US', 'NOW.US', 'CB.US', 'PLD.US', 'MDLZ.US', 'MMC.US', 'VRTX.US', 'REGN.US', 'ADI.US', 'TJX.US', 'MO.US', 'SO.US', 'DUK.US', 'AMAT.US', 'ZTS.US', 'TGT.US', 'NOC.US', 'SYK.US', 'PGR.US', 'GE.US', 'BA.US', 'ISRG.US', 'EOG.US', 'BKNG.US', 'BDX.US', 'CME.US', 'CCI.US', 'PNC.US', 'HUM.US', 'MMM.US', 'WM.US', 'FISV.US', 'CL.US', 'TFC.US', 'D.US', 'CSX.US', 'AON.US', 'MU.US', 'BSX.US', 'DG.US', 'USB.US', 'ETN.US', 'ATVI.US', 'PXD.US', 'EQIX.US', 'APD.US', 'EW.US', 'ITW.US', 'SLB.US', 'ICE.US', 'LRCX.US', 'EL.US', 'MPC.US', 'NSC.US', 'MCK.US', 'SHW.US', 'GD.US', 'SRE.US', 'GM.US', 'SNPS.US', 'PSA.US', 'FIS.US', 'GIS.US', 'OXY.US', 'ADM.US', 'ORLY.US', 'CDNS.US', 'CNC.US', 'AEP.US', 'F.US', 'EMR.US', 'KLAC.US', 'VLO.US', 'AZO.US', 'CMG.US', 'CTVA.US', 'MET.US', 'ADSK.US', 'LHX.US', 'MRNA.US', 'APH.US', 'HCA.US', 'DVN.US', 'FCX.US', 'NXPI.US', 'BIIB.US', 'PSX.US', 'MAR.US', 'MCO.US', 'KMB.US', 'ROP.US', 'ENPH.US', 'MSI.US', 'EXC.US', 'TRV.US', 'STZ.US', 'A.US', 'AIG.US', 'SYY.US', 'AJG.US', 'O.US', 'ECL.US', 'PAYX.US', 'COF.US', 'TEL.US', 'FDX.US', 'WMB.US', 'XEL.US', 'MSCI.US', 'JCI.US', 'IQV.US', 'ALL.US', 'CHTR.US', 'TT.US', 'MCHP.US', 'MNST.US', 'CTAS.US', 'HLT.US', 'NEM.US', 'KMI.US', 'HSY.US', 'AFL.US', 'PRU.US', 'FTNT.US', 'RMD.US', 'DOW.US', 'DXCM.US', 'MTB.US', 'PH.US', 'SBAC.US', 'ALB.US', 'EA.US', 'YUM.US', 'KDP.US', 'CARR.US', 'ED.US', 'HES.US', 'GPN.US', 'CTSH.US', 'WELL.US', 'ROST.US', 'ILMN.US', 'TWTR.US', 'SPG.US', 'CMI.US', 'PCAR.US', 'DLTR.US', 'VICI.US', 'KR.US', 'DLR.US', 'NUE.US', 'BK.US', 'KEYS.US', 'RSG.US', 'PEG.US', 'WEC.US', 'ANET.US', 'CSGP.US', 'IDXX.US', 'AMP.US', 'TDG.US', 'BAX.US', 'ES.US', 'ON.US', 'OTIS.US', 'CEG.US', 'VRSK.US', 'KHC.US', 'FAST.US', 'PPG.US', 'AME.US', 'AVB.US', 'DD.US', 'WBD.US', 'DFS.US', 'ROK.US', 'MTD.US', 'TROW.US', 'FRC.US', 'AWK.US', 'ODFL.US', 'IFF.US', 'EXR.US', 'EQR.US', 'HPQ.US', 'OKE.US', 'CPRT.US', 'WBA.US']\n"
     ]
    }
   ],
   "source": [
    "tickers = get_sp500_tickers(False)\n",
    "end = tickers.index(\"WTW.US\")\n",
    "tickers = tickers[:end]\n",
    "print(tickers)"
   ]
  },
  {
   "cell_type": "code",
   "execution_count": 4,
   "metadata": {
    "pycharm": {
     "name": "#%%\n"
    }
   },
   "outputs": [
    {
     "name": "stdout",
     "output_type": "stream",
     "text": [
      "Loading AAPL.US\n",
      "Loading MSFT.US\n",
      "Loading AMZN.US\n",
      "Loading TSLA.US\n",
      "Loading GOOGL.US\n",
      "Loading GOOG.US\n",
      "Loading BRKB.US\n",
      "Loading UNH.US\n",
      "Loading JNJ.US\n",
      "Loading XOM.US\n",
      "Loading META.US\n",
      "Loading JPM.US\n",
      "Loading NVDA.US\n",
      "Loading PG.US\n",
      "Loading V.US\n",
      "Loading HD.US\n",
      "Loading CVX.US\n",
      "Loading LLY.US\n",
      "Loading PFE.US\n",
      "Loading MA.US\n",
      "Loading ABBV.US\n",
      "Loading PEP.US\n",
      "Loading MRK.US\n",
      "Loading KO.US\n",
      "Loading BAC.US\n",
      "Loading COST.US\n",
      "Loading TMO.US\n",
      "Loading WMT.US\n",
      "Loading AVGO.US\n",
      "Loading DIS.US\n",
      "Loading MCD.US\n",
      "Loading ABT.US\n",
      "Loading DHR.US\n",
      "Loading CSCO.US\n",
      "Loading ACN.US\n",
      "Loading VZ.US\n",
      "Loading NEE.US\n",
      "Loading WFC.US\n",
      "Loading BMY.US\n",
      "Loading CRM.US\n",
      "Loading TXN.US\n",
      "Loading LIN.US\n",
      "Loading COP.US\n",
      "Loading CMCSA.US\n",
      "Loading ADBE.US\n",
      "Loading PM.US\n",
      "Loading QCOM.US\n",
      "Loading CVS.US\n",
      "Loading UNP.US\n",
      "Loading RTX.US\n",
      "Loading AMGN.US\n",
      "Loading LOW.US\n",
      "Loading UPS.US\n",
      "Loading HON.US\n",
      "Loading SCHW.US\n",
      "Loading T.US\n",
      "Loading ELV.US\n",
      "Loading INTU.US\n",
      "Loading IBM.US\n",
      "Loading MDT.US\n",
      "Loading INTC.US\n",
      "Loading MS.US\n",
      "Loading NKE.US\n",
      "Loading NFLX.US\n",
      "Loading SPGI.US\n",
      "Loading AMD.US\n",
      "Loading GS.US\n",
      "Loading AMT.US\n",
      "Loading PYPL.US\n",
      "Loading SBUX.US\n",
      "Loading ADP.US\n",
      "Loading DE.US\n",
      "Loading ORCL.US\n",
      "Loading LMT.US\n",
      "Loading CAT.US\n",
      "Loading CI.US\n",
      "Loading BLK.US\n",
      "Loading AXP.US\n",
      "Loading TMUS.US\n",
      "Loading C.US\n",
      "Loading GILD.US\n",
      "Loading NOW.US\n",
      "Loading CB.US\n",
      "Loading PLD.US\n",
      "Loading MDLZ.US\n",
      "Loading MMC.US\n",
      "Loading VRTX.US\n",
      "Loading REGN.US\n",
      "Loading ADI.US\n",
      "Loading TJX.US\n",
      "Loading MO.US\n",
      "Loading SO.US\n",
      "Loading DUK.US\n",
      "Loading AMAT.US\n",
      "Loading ZTS.US\n",
      "Loading TGT.US\n",
      "Loading NOC.US\n",
      "Loading SYK.US\n",
      "Loading PGR.US\n",
      "Loading GE.US\n",
      "Loading BA.US\n",
      "Loading ISRG.US\n",
      "Loading EOG.US\n",
      "Loading BKNG.US\n",
      "Loading BDX.US\n",
      "Loading CME.US\n",
      "Loading CCI.US\n",
      "Loading PNC.US\n",
      "Loading HUM.US\n",
      "Loading MMM.US\n",
      "Loading WM.US\n",
      "Loading FISV.US\n",
      "Loading CL.US\n",
      "Loading TFC.US\n",
      "Loading D.US\n",
      "Loading CSX.US\n",
      "Loading AON.US\n",
      "Loading MU.US\n",
      "Loading BSX.US\n",
      "Loading DG.US\n",
      "Loading USB.US\n",
      "Loading ETN.US\n",
      "Loading ATVI.US\n",
      "Loading PXD.US\n",
      "Loading EQIX.US\n",
      "Loading APD.US\n",
      "Loading EW.US\n",
      "Loading ITW.US\n",
      "Loading SLB.US\n",
      "Loading ICE.US\n",
      "Loading LRCX.US\n",
      "Loading EL.US\n",
      "Loading MPC.US\n",
      "Loading NSC.US\n",
      "Loading MCK.US\n",
      "Loading SHW.US\n",
      "Loading GD.US\n",
      "Loading SRE.US\n",
      "Loading GM.US\n",
      "Loading SNPS.US\n",
      "Loading PSA.US\n",
      "Loading FIS.US\n",
      "Loading GIS.US\n",
      "Loading OXY.US\n",
      "Loading ADM.US\n",
      "Loading ORLY.US\n",
      "Loading CDNS.US\n",
      "Loading CNC.US\n",
      "Loading AEP.US\n",
      "Loading F.US\n",
      "Loading EMR.US\n",
      "Loading KLAC.US\n",
      "Loading VLO.US\n",
      "Loading AZO.US\n",
      "Loading CMG.US\n",
      "Loading CTVA.US\n",
      "Loading MET.US\n",
      "Loading ADSK.US\n",
      "Loading LHX.US\n",
      "Loading MRNA.US\n",
      "Loading APH.US\n",
      "Loading HCA.US\n",
      "Loading DVN.US\n",
      "Loading FCX.US\n",
      "Loading NXPI.US\n",
      "Loading BIIB.US\n",
      "Loading PSX.US\n",
      "Loading MAR.US\n",
      "Loading MCO.US\n",
      "Loading KMB.US\n",
      "Loading ROP.US\n",
      "Loading ENPH.US\n",
      "Loading MSI.US\n",
      "Loading EXC.US\n",
      "Loading TRV.US\n",
      "Loading STZ.US\n",
      "Loading A.US\n",
      "Loading AIG.US\n",
      "Loading SYY.US\n",
      "Loading AJG.US\n",
      "Loading O.US\n",
      "Loading ECL.US\n",
      "Loading PAYX.US\n",
      "Loading COF.US\n",
      "Loading TEL.US\n",
      "Loading FDX.US\n",
      "Loading WMB.US\n",
      "Loading XEL.US\n",
      "Loading MSCI.US\n",
      "Loading JCI.US\n",
      "Loading IQV.US\n",
      "Loading ALL.US\n",
      "Loading CHTR.US\n",
      "Loading TT.US\n",
      "Loading MCHP.US\n",
      "Loading MNST.US\n",
      "Loading CTAS.US\n",
      "Loading HLT.US\n",
      "Loading NEM.US\n",
      "Loading KMI.US\n",
      "Loading HSY.US\n",
      "Loading AFL.US\n",
      "Loading PRU.US\n",
      "Loading FTNT.US\n",
      "Loading RMD.US\n",
      "Loading DOW.US\n",
      "Loading DXCM.US\n",
      "Loading MTB.US\n",
      "Loading PH.US\n",
      "Loading SBAC.US\n",
      "Loading ALB.US\n",
      "Loading EA.US\n",
      "Loading YUM.US\n",
      "Loading KDP.US\n",
      "Loading CARR.US\n",
      "Loading ED.US\n",
      "Loading HES.US\n",
      "Loading GPN.US\n",
      "Loading CTSH.US\n",
      "Loading WELL.US\n",
      "Loading ROST.US\n",
      "Loading ILMN.US\n",
      "Loading TWTR.US\n",
      "TWTR.US is corrupted: Training Data is incorrect\n",
      "Loading SPG.US\n",
      "Loading CMI.US\n",
      "Loading PCAR.US\n",
      "Loading DLTR.US\n",
      "Loading VICI.US\n",
      "Loading KR.US\n",
      "Loading DLR.US\n",
      "Loading NUE.US\n",
      "Loading BK.US\n",
      "Loading KEYS.US\n",
      "Loading RSG.US\n",
      "Loading PEG.US\n",
      "Loading WEC.US\n",
      "Loading ANET.US\n",
      "Loading CSGP.US\n",
      "Loading IDXX.US\n",
      "Loading AMP.US\n",
      "Loading TDG.US\n",
      "Loading BAX.US\n",
      "Loading ES.US\n",
      "Loading ON.US\n",
      "Loading OTIS.US\n",
      "Loading CEG.US\n",
      "Loading VRSK.US\n",
      "Loading KHC.US\n",
      "Loading FAST.US\n",
      "Loading PPG.US\n",
      "Loading AME.US\n",
      "Loading AVB.US\n",
      "Loading DD.US\n",
      "Loading WBD.US\n",
      "Loading DFS.US\n",
      "Loading ROK.US\n",
      "Loading MTD.US\n",
      "Loading TROW.US\n",
      "Loading FRC.US\n",
      "Loading AWK.US\n",
      "Loading ODFL.US\n",
      "Loading IFF.US\n",
      "Loading EXR.US\n",
      "Loading EQR.US\n",
      "Loading HPQ.US\n",
      "Loading OKE.US\n",
      "Loading CPRT.US\n",
      "Loading WBA.US\n"
     ]
    }
   ],
   "source": [
    "X, y = load_data(tickers)"
   ]
  },
  {
   "cell_type": "code",
   "execution_count": 5,
   "metadata": {},
   "outputs": [],
   "source": [
    "def remove_date(X):\n",
    "    X_train = np.delete(X, 0, 2)\n",
    "    X_train = np.asarray(X_train).astype(np.float32)\n",
    "    return X_train\n",
    "X_train = remove_date(X)"
   ]
  },
  {
   "cell_type": "code",
   "execution_count": 6,
   "metadata": {},
   "outputs": [],
   "source": [
    "def plot_history(history):\n",
    "# summarize history for accuracy\n",
    "          \n",
    "    legend = ['train']\n",
    "    plt.plot(history.history['loss'])\n",
    "    plt.title('model loss')\n",
    "    plt.ylabel('loss')\n",
    "    plt.xlabel('epoch')\n",
    "    if \"val_loss\" in history.history.keys():\n",
    "        plt.plot(history.history['val_loss'])\n",
    "        legend.append('val')\n",
    "          \n",
    "    # summarize history for loss\n",
    "\n",
    "    plt.legend(legend, loc='upper left')\n",
    "    plt.show()    "
   ]
  },
  {
   "cell_type": "code",
   "execution_count": 21,
   "metadata": {
    "pycharm": {
     "name": "#%%\n"
    }
   },
   "outputs": [],
   "source": [
    "from keras.models import Sequential\n",
    "from keras.layers import Dense, LSTM"
   ]
  },
  {
   "cell_type": "markdown",
   "metadata": {},
   "source": [
    "<h1>Control Model</h1>\n",
    "\n",
    "This control model accepts historical prices as the only feature only. It will be used to create a benchmark for future models."
   ]
  },
  {
   "cell_type": "code",
   "execution_count": 22,
   "metadata": {},
   "outputs": [
    {
     "data": {
      "text/plain": [
       "(6675, 14)"
      ]
     },
     "execution_count": 22,
     "metadata": {},
     "output_type": "execute_result"
    }
   ],
   "source": [
    "X_train_control = X_train[:,:,0]\n",
    "X_train_control.shape"
   ]
  },
  {
   "cell_type": "code",
   "execution_count": 24,
   "metadata": {
    "pycharm": {
     "name": "#%%\n"
    }
   },
   "outputs": [
    {
     "name": "stdout",
     "output_type": "stream",
     "text": [
      "Epoch 1/30\n",
      "167/167 [==============================] - 3s 10ms/step - loss: 7065.1499 - val_loss: 115.0388\n",
      "Epoch 2/30\n",
      "167/167 [==============================] - 2s 9ms/step - loss: 148.4204 - val_loss: 45.1453\n",
      "Epoch 3/30\n",
      "167/167 [==============================] - 1s 9ms/step - loss: 265.3380 - val_loss: 33.0410\n",
      "Epoch 4/30\n",
      "167/167 [==============================] - 1s 9ms/step - loss: 471.6122 - val_loss: 55.5360\n",
      "Epoch 5/30\n",
      "167/167 [==============================] - 1s 8ms/step - loss: 1571.0179 - val_loss: 41.2476\n",
      "Epoch 6/30\n",
      "167/167 [==============================] - 1s 8ms/step - loss: 105.9424 - val_loss: 35.5950\n",
      "Epoch 7/30\n",
      "167/167 [==============================] - 1s 9ms/step - loss: 218.2288 - val_loss: 79.8542\n",
      "Epoch 8/30\n",
      "167/167 [==============================] - 1s 9ms/step - loss: 260.7164 - val_loss: 52.9260\n",
      "Epoch 9/30\n",
      "167/167 [==============================] - 1s 9ms/step - loss: 188.9857 - val_loss: 48.4082\n",
      "Epoch 10/30\n",
      "167/167 [==============================] - 1s 9ms/step - loss: 135.2619 - val_loss: 47.1255\n",
      "Epoch 11/30\n",
      "167/167 [==============================] - 1s 8ms/step - loss: 142.1585 - val_loss: 45.6891\n",
      "Epoch 12/30\n",
      "167/167 [==============================] - 1s 8ms/step - loss: 128.6766 - val_loss: 47.3954\n",
      "Epoch 13/30\n",
      "167/167 [==============================] - 1s 9ms/step - loss: 133.2711 - val_loss: 47.5906\n",
      "Epoch 14/30\n",
      "167/167 [==============================] - 1s 9ms/step - loss: 130.8669 - val_loss: 44.0536\n",
      "Epoch 15/30\n",
      "167/167 [==============================] - 1s 9ms/step - loss: 110.6257 - val_loss: 43.2220\n",
      "Epoch 16/30\n",
      "167/167 [==============================] - 1s 9ms/step - loss: 136.4961 - val_loss: 48.2250\n",
      "Epoch 17/30\n",
      "167/167 [==============================] - 2s 9ms/step - loss: 126.5349 - val_loss: 43.7362\n",
      "Epoch 18/30\n",
      "167/167 [==============================] - 1s 8ms/step - loss: 138.8292 - val_loss: 42.5918\n",
      "Epoch 19/30\n",
      "167/167 [==============================] - 1s 9ms/step - loss: 131.9629 - val_loss: 57.0651\n",
      "Epoch 20/30\n",
      "167/167 [==============================] - 1s 8ms/step - loss: 142.0982 - val_loss: 42.8210\n",
      "Epoch 21/30\n",
      "167/167 [==============================] - 1s 9ms/step - loss: 119.7066 - val_loss: 48.0827\n",
      "Epoch 22/30\n",
      "167/167 [==============================] - 1s 8ms/step - loss: 112.4774 - val_loss: 45.1200\n",
      "Epoch 23/30\n",
      "167/167 [==============================] - 1s 8ms/step - loss: 125.6454 - val_loss: 39.7484\n",
      "Epoch 24/30\n",
      "167/167 [==============================] - 1s 9ms/step - loss: 134.8284 - val_loss: 42.8893\n",
      "Epoch 25/30\n",
      "167/167 [==============================] - 2s 9ms/step - loss: 123.2850 - val_loss: 41.4469\n",
      "Epoch 26/30\n",
      "167/167 [==============================] - 1s 8ms/step - loss: 123.3857 - val_loss: 64.1212\n",
      "Epoch 27/30\n",
      "167/167 [==============================] - 1s 8ms/step - loss: 132.0156 - val_loss: 42.5581\n",
      "Epoch 28/30\n",
      "167/167 [==============================] - 1s 9ms/step - loss: 111.1480 - val_loss: 37.6630\n",
      "Epoch 29/30\n",
      "167/167 [==============================] - 1s 8ms/step - loss: 115.2417 - val_loss: 49.5075\n",
      "Epoch 30/30\n",
      "167/167 [==============================] - 1s 8ms/step - loss: 105.0366 - val_loss: 65.2211\n"
     ]
    }
   ],
   "source": [
    "control_model = Sequential()\n",
    "control_model.add(LSTM(32, activation='relu', input_shape=(14, 1)))\n",
    "control_model.add(Dense(1))\n",
    "control_model.compile(optimizer='adam', loss='mse')\n",
    "\n",
    "control_history = control_model.fit(X_train_control, y, epochs=30, validation_split=0.2, verbose=1)"
   ]
  },
  {
   "cell_type": "code",
   "execution_count": 40,
   "metadata": {},
   "outputs": [
    {
     "data": {
      "image/png": "[encoded data removed]",
      "text/plain": [
       "<Figure size 640x480 with 1 Axes>"
      ]
     },
     "metadata": {},
     "output_type": "display_data"
    }
   ],
   "source": [
    "plot_history(control_history)"
   ]
  },
  {
   "cell_type": "markdown",
   "metadata": {},
   "source": [
    "<h1>Data Exploration</h1>"
   ]
  },
  {
   "cell_type": "code",
   "execution_count": 75,
   "metadata": {},
   "outputs": [],
   "source": [
    "import datetime as dt\n",
    "dates = [dt.datetime.strptime(i[0], \"%Y-%m-%d\").date() for i in X[:,0,:]]"
   ]
  },
  {
   "cell_type": "code",
   "execution_count": 87,
   "metadata": {},
   "outputs": [],
   "source": [
    "from collections import Counter\n",
    "count_date = dict(Counter(dates))"
   ]
  },
  {
   "cell_type": "code",
   "execution_count": 89,
   "metadata": {},
   "outputs": [
    {
     "data": {
      "image/png": "[encoded data removed]",
      "text/plain": [
       "<Figure size 640x480 with 1 Axes>"
      ]
     },
     "metadata": {},
     "output_type": "display_data"
    }
   ],
   "source": [
    "import seaborn as sns\n",
    "ax = sns.scatterplot(x=count_date.keys(), y=count_date.values())\n",
    "ax.set(xlabel='Dates', ylabel='Count')\n",
    "plt.show()"
   ]
  },
  {
   "cell_type": "markdown",
   "metadata": {},
   "source": [
    "The distribution of data is relatively even, Although it's skewed towards more recent dates."
   ]
  },
  {
   "cell_type": "markdown",
   "metadata": {},
   "source": [
    "<h1>Data Transformation</h1>"
   ]
  },
  {
   "cell_type": "code",
   "execution_count": 100,
   "outputs": [],
   "source": [
    "sample = X_train[0]"
   ],
   "metadata": {
    "collapsed": false,
    "pycharm": {
     "name": "#%%\n"
    }
   }
  },
  {
   "cell_type": "code",
   "execution_count": 102,
   "outputs": [
    {
     "data": {
      "text/plain": "array([[3.590850e+01, 1.950096e+08, 3.445640e+01, 1.639000e-01,\n        7.583090e+01, 5.258000e-01],\n       [3.613850e+01, 1.565216e+08, 3.472800e+01, 1.863000e-01,\n        7.728230e+01, 6.881000e-01],\n       [3.596720e+01, 1.032228e+08, 3.494700e+01, 2.037000e-01,\n        7.373100e+01, 7.906000e-01],\n       [3.627820e+01, 1.090204e+08, 3.518340e+01, 2.175000e-01,\n        7.589660e+01, 8.831000e-01],\n       [3.678490e+01, 1.301080e+08, 3.545970e+01, 2.436000e-01,\n        7.894240e+01, 1.069900e+00],\n       [3.669060e+01, 1.040388e+08, 3.569420e+01, 2.605000e-01,\n        7.699250e+01, 1.178300e+00],\n       [3.663640e+01, 8.019400e+07, 3.589510e+01, 2.570000e-01,\n        7.583300e+01, 1.154800e+00],\n       [3.540630e+01, 2.030708e+08, 3.590420e+01, 2.064000e-01,\n        5.543100e+01, 9.596000e-01],\n       [3.594600e+01, 1.342728e+08, 3.596940e+01, 1.628000e-01,\n        6.045760e+01, 7.337000e-01],\n       [3.606850e+01, 1.078432e+08, 3.602960e+01, 1.356000e-01,\n        6.151850e+01, 6.283000e-01],\n       [3.628760e+01, 9.186560e+07, 3.610320e+01, 1.145000e-01,\n        6.340940e+01, 5.465000e-01],\n       [3.624290e+01, 7.967560e+07, 3.615490e+01, 8.130000e-02,\n        6.273210e+01, 4.132000e-01],\n       [3.613450e+01, 7.671200e+07, 3.617570e+01, 3.330000e-02,\n        6.102980e+01, 2.186000e-01],\n       [3.625940e+01, 7.694240e+07, 3.619650e+01, 0.000000e+00,\n        6.229930e+01, 1.179000e-01]], dtype=float32)"
     },
     "execution_count": 102,
     "metadata": {},
     "output_type": "execute_result"
    }
   ],
   "source": [
    "sample"
   ],
   "metadata": {
    "collapsed": false,
    "pycharm": {
     "name": "#%%\n"
    }
   }
  },
  {
   "cell_type": "code",
   "execution_count": 105,
   "metadata": {},
   "outputs": [],
   "source": [
    "from sklearn.preprocessing import MinMaxScaler\n",
    "\n",
    "def scale_column(x, column = 1):\n",
    "    \"\"\"\n",
    "    Doesn't mutate the original array\n",
    "    \"\"\"\n",
    "    mms = MinMaxScaler()\n",
    "    x2 = x.copy()\n",
    "    # The volume column has index 1\n",
    "    x2[:, 1] = mms.fit_transform(x2[:, column].reshape(14, 1)).reshape(14,)\n",
    "    return x2"
   ]
  },
  {
   "cell_type": "code",
   "execution_count": 106,
   "outputs": [
    {
     "data": {
      "text/plain": "array([[3.5908501e+01, 9.3620390e-01, 3.4456402e+01, 1.6390000e-01,\n        7.5830902e+01, 5.2579999e-01],\n       [3.6138500e+01, 6.3161093e-01, 3.4728001e+01, 1.8629999e-01,\n        7.7282303e+01, 6.8809998e-01],\n       [3.5967201e+01, 2.0980573e-01, 3.4946999e+01, 2.0370001e-01,\n        7.3731003e+01, 7.9060000e-01],\n       [3.6278198e+01, 2.5568777e-01, 3.5183399e+01, 2.1750000e-01,\n        7.5896599e+01, 8.8309997e-01],\n       [3.6784901e+01, 4.2257446e-01, 3.5459702e+01, 2.4360000e-01,\n        7.8942398e+01, 1.0699000e+00],\n       [3.6690601e+01, 2.1626353e-01, 3.5694199e+01, 2.6050001e-01,\n        7.6992500e+01, 1.1783000e+00],\n       [3.6636398e+01, 2.7556419e-02, 3.5895100e+01, 2.5700000e-01,\n        7.5833000e+01, 1.1548001e+00],\n       [3.5406300e+01, 9.9999994e-01, 3.5904202e+01, 2.0640001e-01,\n        5.5431000e+01, 9.5959997e-01],\n       [3.5945999e+01, 4.5553452e-01, 3.5969398e+01, 1.6280000e-01,\n        6.0457600e+01, 7.3369998e-01],\n       [3.6068501e+01, 2.4637145e-01, 3.6029598e+01, 1.3560000e-01,\n        6.1518501e+01, 6.2830001e-01],\n       [3.6287601e+01, 1.1992514e-01, 3.6103199e+01, 1.1450000e-01,\n        6.3409401e+01, 5.4650003e-01],\n       [3.6242901e+01, 2.3453832e-02, 3.6154900e+01, 8.1299998e-02,\n        6.2732101e+01, 4.1319999e-01],\n       [3.6134499e+01, 0.0000000e+00, 3.6175701e+01, 3.3300001e-02,\n        6.1029800e+01, 2.1860000e-01],\n       [3.6259399e+01, 1.8233657e-03, 3.6196499e+01, 0.0000000e+00,\n        6.2299301e+01, 1.1790000e-01]], dtype=float32)"
     },
     "execution_count": 106,
     "metadata": {},
     "output_type": "execute_result"
    }
   ],
   "source": [
    "scale_column(sample)"
   ],
   "metadata": {
    "collapsed": false,
    "pycharm": {
     "name": "#%%\n"
    }
   }
  },
  {
   "cell_type": "code",
   "execution_count": 107,
   "outputs": [],
   "source": [
    "check_rsi = lambda rsi: 1 if rsi > 70 else (-1 if rsi < 30 else 0)\n",
    "\"\"\"\n",
    "Traditionally, RSI > 70 = Overbought, RSI < 30 Oversold\n",
    "We transform the column to -1, 0, 1,\n",
    "\"\"\"\n",
    "vectorized_check_rsi = np.vectorize(check_rsi)\n",
    "\n",
    "def rsi_transformer(x):\n",
    "    x2 = x.copy()\n",
    "    rsi_column = x2[:, 4]\n",
    "    x2[:, 4] = vectorized_check_rsi(rsi_column)\n",
    "    return x2"
   ],
   "metadata": {
    "collapsed": false,
    "pycharm": {
     "name": "#%%\n"
    }
   }
  },
  {
   "cell_type": "code",
   "execution_count": 98,
   "outputs": [
    {
     "data": {
      "text/plain": "array([[3.590850e+01, 1.950096e+08, 3.445640e+01, 1.639000e-01,\n        1.000000e+00, 5.258000e-01],\n       [3.613850e+01, 1.565216e+08, 3.472800e+01, 1.863000e-01,\n        1.000000e+00, 6.881000e-01],\n       [3.596720e+01, 1.032228e+08, 3.494700e+01, 2.037000e-01,\n        1.000000e+00, 7.906000e-01],\n       [3.627820e+01, 1.090204e+08, 3.518340e+01, 2.175000e-01,\n        1.000000e+00, 8.831000e-01],\n       [3.678490e+01, 1.301080e+08, 3.545970e+01, 2.436000e-01,\n        1.000000e+00, 1.069900e+00],\n       [3.669060e+01, 1.040388e+08, 3.569420e+01, 2.605000e-01,\n        1.000000e+00, 1.178300e+00],\n       [3.663640e+01, 8.019400e+07, 3.589510e+01, 2.570000e-01,\n        1.000000e+00, 1.154800e+00],\n       [3.540630e+01, 2.030708e+08, 3.590420e+01, 2.064000e-01,\n        0.000000e+00, 9.596000e-01],\n       [3.594600e+01, 1.342728e+08, 3.596940e+01, 1.628000e-01,\n        0.000000e+00, 7.337000e-01],\n       [3.606850e+01, 1.078432e+08, 3.602960e+01, 1.356000e-01,\n        0.000000e+00, 6.283000e-01],\n       [3.628760e+01, 9.186560e+07, 3.610320e+01, 1.145000e-01,\n        0.000000e+00, 5.465000e-01],\n       [3.624290e+01, 7.967560e+07, 3.615490e+01, 8.130000e-02,\n        0.000000e+00, 4.132000e-01],\n       [3.613450e+01, 7.671200e+07, 3.617570e+01, 3.330000e-02,\n        0.000000e+00, 2.186000e-01],\n       [3.625940e+01, 7.694240e+07, 3.619650e+01, 0.000000e+00,\n        0.000000e+00, 1.179000e-01]], dtype=float32)"
     },
     "execution_count": 98,
     "metadata": {},
     "output_type": "execute_result"
    }
   ],
   "source": [
    "rsi_transformer(sample)"
   ],
   "metadata": {
    "collapsed": false,
    "pycharm": {
     "name": "#%%\n"
    }
   }
  },
  {
   "cell_type": "code",
   "execution_count": 47,
   "metadata": {
    "pycharm": {
     "name": "#%%\n"
    }
   },
   "outputs": [
    {
     "name": "stdout",
     "output_type": "stream",
     "text": [
      "Model: \"sequential_6\"\n",
      "_________________________________________________________________\n",
      " Layer (type)                Output Shape              Param #   \n",
      "=================================================================\n",
      " lstm_6 (LSTM)               (None, 32)                4992      \n",
      "                                                                 \n",
      " dense_6 (Dense)             (None, 1)                 33        \n",
      "                                                                 \n",
      "=================================================================\n",
      "Total params: 5,025\n",
      "Trainable params: 5,025\n",
      "Non-trainable params: 0\n",
      "_________________________________________________________________\n"
     ]
    }
   ],
   "source": [
    "NUM_OF_TIMESTEPS = 14\n",
    "NUM_OF_FEATURES = 6\n",
    "\n",
    "model = Sequential()\n",
    "model.add(LSTM(32, activation='relu', input_shape=(NUM_OF_TIMESTEPS, NUM_OF_FEATURES)))\n",
    "model.add(Dense(1))\n",
    "model.summary()"
   ]
  },
  {
   "cell_type": "code",
   "execution_count": 48,
   "metadata": {
    "pycharm": {
     "name": "#%%\n"
    }
   },
   "outputs": [],
   "source": [
    "model.compile(optimizer='adam', loss='mse')"
   ]
  },
  {
   "cell_type": "code",
   "execution_count": 49,
   "metadata": {},
   "outputs": [
    {
     "name": "stdout",
     "output_type": "stream",
     "text": [
      "Epoch 1/30\n",
      "167/167 [==============================] - 3s 9ms/step - loss: nan - val_loss: nan\n",
      "Epoch 2/30\n",
      "167/167 [==============================] - 1s 8ms/step - loss: nan - val_loss: nan\n",
      "Epoch 3/30\n",
      "167/167 [==============================] - 1s 8ms/step - loss: nan - val_loss: nan\n",
      "Epoch 4/30\n",
      "167/167 [==============================] - 1s 8ms/step - loss: nan - val_loss: nan\n",
      "Epoch 5/30\n",
      "167/167 [==============================] - 1s 9ms/step - loss: nan - val_loss: nan\n",
      "Epoch 6/30\n",
      "167/167 [==============================] - 1s 8ms/step - loss: nan - val_loss: nan\n",
      "Epoch 7/30\n",
      "167/167 [==============================] - 1s 8ms/step - loss: nan - val_loss: nan\n",
      "Epoch 8/30\n",
      "167/167 [==============================] - 1s 9ms/step - loss: nan - val_loss: nan\n",
      "Epoch 9/30\n",
      "167/167 [==============================] - 1s 8ms/step - loss: nan - val_loss: nan\n",
      "Epoch 10/30\n",
      "167/167 [==============================] - 1s 8ms/step - loss: nan - val_loss: nan\n",
      "Epoch 11/30\n",
      "167/167 [==============================] - 1s 9ms/step - loss: nan - val_loss: nan\n",
      "Epoch 12/30\n",
      "167/167 [==============================] - 1s 8ms/step - loss: nan - val_loss: nan\n",
      "Epoch 13/30\n",
      "167/167 [==============================] - 1s 9ms/step - loss: nan - val_loss: nan\n",
      "Epoch 14/30\n",
      "167/167 [==============================] - 1s 8ms/step - loss: nan - val_loss: nan\n",
      "Epoch 15/30\n",
      "167/167 [==============================] - 1s 8ms/step - loss: nan - val_loss: nan\n",
      "Epoch 16/30\n",
      "167/167 [==============================] - 1s 8ms/step - loss: nan - val_loss: nan\n",
      "Epoch 17/30\n",
      "167/167 [==============================] - 1s 8ms/step - loss: nan - val_loss: nan\n",
      "Epoch 18/30\n",
      "167/167 [==============================] - 1s 8ms/step - loss: nan - val_loss: nan\n",
      "Epoch 19/30\n",
      "167/167 [==============================] - 1s 8ms/step - loss: nan - val_loss: nan\n",
      "Epoch 20/30\n",
      "167/167 [==============================] - 1s 8ms/step - loss: nan - val_loss: nan\n",
      "Epoch 21/30\n",
      "167/167 [==============================] - 1s 8ms/step - loss: nan - val_loss: nan\n",
      "Epoch 22/30\n",
      "167/167 [==============================] - 1s 8ms/step - loss: nan - val_loss: nan\n",
      "Epoch 23/30\n",
      "167/167 [==============================] - 1s 8ms/step - loss: nan - val_loss: nan\n",
      "Epoch 24/30\n",
      "167/167 [==============================] - 1s 8ms/step - loss: nan - val_loss: nan\n",
      "Epoch 25/30\n",
      "167/167 [==============================] - 1s 8ms/step - loss: nan - val_loss: nan\n",
      "Epoch 26/30\n",
      "167/167 [==============================] - 1s 8ms/step - loss: nan - val_loss: nan\n",
      "Epoch 27/30\n",
      "167/167 [==============================] - 1s 8ms/step - loss: nan - val_loss: nan\n",
      "Epoch 28/30\n",
      "167/167 [==============================] - 1s 8ms/step - loss: nan - val_loss: nan\n",
      "Epoch 29/30\n",
      "167/167 [==============================] - 1s 9ms/step - loss: nan - val_loss: nan\n",
      "Epoch 30/30\n",
      "167/167 [==============================] - 1s 9ms/step - loss: nan - val_loss: nan\n"
     ]
    }
   ],
   "source": [
    "history = model.fit(X_train, y, epochs=30, validation_split=0.2, verbose=1)"
   ]
  },
  {
   "cell_type": "code",
   "execution_count": 51,
   "metadata": {},
   "outputs": [
    {
     "data": {
      "image/png": "[encoded data removed]",
      "text/plain": [
       "<Figure size 640x480 with 1 Axes>"
      ]
     },
     "metadata": {},
     "output_type": "display_data"
    }
   ],
   "source": [
    "plot_history(history)"
   ]
  },
  {
   "cell_type": "code",
   "execution_count": 41,
   "metadata": {},
   "outputs": [
    {
     "ename": "ValueError",
     "evalue": "in user code:\n\n    File \"C:\\Users\\Admin\\Desktop\\Equities_Price_Prediction_XAI\\venv\\lib\\site-packages\\keras\\engine\\training.py\", line 2041, in predict_function  *\n        return step_function(self, iterator)\n    File \"C:\\Users\\Admin\\Desktop\\Equities_Price_Prediction_XAI\\venv\\lib\\site-packages\\keras\\engine\\training.py\", line 2027, in step_function  **\n        outputs = model.distribute_strategy.run(run_step, args=(data,))\n    File \"C:\\Users\\Admin\\Desktop\\Equities_Price_Prediction_XAI\\venv\\lib\\site-packages\\keras\\engine\\training.py\", line 2015, in run_step  **\n        outputs = model.predict_step(data)\n    File \"C:\\Users\\Admin\\Desktop\\Equities_Price_Prediction_XAI\\venv\\lib\\site-packages\\keras\\engine\\training.py\", line 1983, in predict_step\n        return self(x, training=False)\n    File \"C:\\Users\\Admin\\Desktop\\Equities_Price_Prediction_XAI\\venv\\lib\\site-packages\\keras\\utils\\traceback_utils.py\", line 70, in error_handler\n        raise e.with_traceback(filtered_tb) from None\n    File \"C:\\Users\\Admin\\Desktop\\Equities_Price_Prediction_XAI\\venv\\lib\\site-packages\\keras\\engine\\input_spec.py\", line 295, in assert_input_compatibility\n        raise ValueError(\n\n    ValueError: Input 0 of layer \"sequential_2\" is incompatible with the layer: expected shape=(None, 14, 5), found shape=(None, 5)\n",
     "output_type": "error",
     "traceback": [
      "\u001B[1;31m---------------------------------------------------------------------------\u001B[0m",
      "\u001B[1;31mValueError\u001B[0m                                Traceback (most recent call last)",
      "Cell \u001B[1;32mIn [41], line 1\u001B[0m\n\u001B[1;32m----> 1\u001B[0m \u001B[43mmodel\u001B[49m\u001B[38;5;241;43m.\u001B[39;49m\u001B[43mpredict\u001B[49m\u001B[43m(\u001B[49m\u001B[43m[\u001B[49m\u001B[43mX_train\u001B[49m\u001B[43m[\u001B[49m\u001B[38;5;241;43m0\u001B[39;49m\u001B[43m]\u001B[49m\u001B[43m]\u001B[49m\u001B[43m)\u001B[49m\n",
      "File \u001B[1;32m~\\Desktop\\Equities_Price_Prediction_XAI\\venv\\lib\\site-packages\\keras\\utils\\traceback_utils.py:70\u001B[0m, in \u001B[0;36mfilter_traceback.<locals>.error_handler\u001B[1;34m(*args, **kwargs)\u001B[0m\n\u001B[0;32m     67\u001B[0m     filtered_tb \u001B[38;5;241m=\u001B[39m _process_traceback_frames(e\u001B[38;5;241m.\u001B[39m__traceback__)\n\u001B[0;32m     68\u001B[0m     \u001B[38;5;66;03m# To get the full stack trace, call:\u001B[39;00m\n\u001B[0;32m     69\u001B[0m     \u001B[38;5;66;03m# `tf.debugging.disable_traceback_filtering()`\u001B[39;00m\n\u001B[1;32m---> 70\u001B[0m     \u001B[38;5;28;01mraise\u001B[39;00m e\u001B[38;5;241m.\u001B[39mwith_traceback(filtered_tb) \u001B[38;5;28;01mfrom\u001B[39;00m \u001B[38;5;28mNone\u001B[39m\n\u001B[0;32m     71\u001B[0m \u001B[38;5;28;01mfinally\u001B[39;00m:\n\u001B[0;32m     72\u001B[0m     \u001B[38;5;28;01mdel\u001B[39;00m filtered_tb\n",
      "File \u001B[1;32m~\\AppData\\Local\\Temp\\__autograph_generated_file6tx9pyce.py:15\u001B[0m, in \u001B[0;36mouter_factory.<locals>.inner_factory.<locals>.tf__predict_function\u001B[1;34m(iterator)\u001B[0m\n\u001B[0;32m     13\u001B[0m \u001B[38;5;28;01mtry\u001B[39;00m:\n\u001B[0;32m     14\u001B[0m     do_return \u001B[38;5;241m=\u001B[39m \u001B[38;5;28;01mTrue\u001B[39;00m\n\u001B[1;32m---> 15\u001B[0m     retval_ \u001B[38;5;241m=\u001B[39m ag__\u001B[38;5;241m.\u001B[39mconverted_call(ag__\u001B[38;5;241m.\u001B[39mld(step_function), (ag__\u001B[38;5;241m.\u001B[39mld(\u001B[38;5;28mself\u001B[39m), ag__\u001B[38;5;241m.\u001B[39mld(iterator)), \u001B[38;5;28;01mNone\u001B[39;00m, fscope)\n\u001B[0;32m     16\u001B[0m \u001B[38;5;28;01mexcept\u001B[39;00m:\n\u001B[0;32m     17\u001B[0m     do_return \u001B[38;5;241m=\u001B[39m \u001B[38;5;28;01mFalse\u001B[39;00m\n",
      "\u001B[1;31mValueError\u001B[0m: in user code:\n\n    File \"C:\\Users\\Admin\\Desktop\\Equities_Price_Prediction_XAI\\venv\\lib\\site-packages\\keras\\engine\\training.py\", line 2041, in predict_function  *\n        return step_function(self, iterator)\n    File \"C:\\Users\\Admin\\Desktop\\Equities_Price_Prediction_XAI\\venv\\lib\\site-packages\\keras\\engine\\training.py\", line 2027, in step_function  **\n        outputs = model.distribute_strategy.run(run_step, args=(data,))\n    File \"C:\\Users\\Admin\\Desktop\\Equities_Price_Prediction_XAI\\venv\\lib\\site-packages\\keras\\engine\\training.py\", line 2015, in run_step  **\n        outputs = model.predict_step(data)\n    File \"C:\\Users\\Admin\\Desktop\\Equities_Price_Prediction_XAI\\venv\\lib\\site-packages\\keras\\engine\\training.py\", line 1983, in predict_step\n        return self(x, training=False)\n    File \"C:\\Users\\Admin\\Desktop\\Equities_Price_Prediction_XAI\\venv\\lib\\site-packages\\keras\\utils\\traceback_utils.py\", line 70, in error_handler\n        raise e.with_traceback(filtered_tb) from None\n    File \"C:\\Users\\Admin\\Desktop\\Equities_Price_Prediction_XAI\\venv\\lib\\site-packages\\keras\\engine\\input_spec.py\", line 295, in assert_input_compatibility\n        raise ValueError(\n\n    ValueError: Input 0 of layer \"sequential_2\" is incompatible with the layer: expected shape=(None, 14, 5), found shape=(None, 5)\n"
     ]
    }
   ],
   "source": [
    "model.predict([X_train[0]])"
   ]
  },
  {
   "cell_type": "code",
   "execution_count": null,
   "metadata": {},
   "outputs": [],
   "source": []
  }
 ],
 "metadata": {
  "kernelspec": {
   "display_name": "Python 3 (ipykernel)",
   "language": "python",
   "name": "python3"
  },
  "language_info": {
   "codemirror_mode": {
    "name": "ipython",
    "version": 3
   },
   "file_extension": ".py",
   "mimetype": "text/x-python",
   "name": "python",
   "nbconvert_exporter": "python",
   "pygments_lexer": "ipython3",
   "version": "3.9.7"
  }
 },
 "nbformat": 4,
 "nbformat_minor": 1
}