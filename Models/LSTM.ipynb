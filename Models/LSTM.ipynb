{
 "cells": [
  {
   "cell_type": "markdown",
   "metadata": {},
   "source": [
    "Here, we would like to implement a multivariate time series LSTM model that utilizes historical prices along with technical indicators to predict prices."
   ]
  },
  {
   "cell_type": "markdown",
   "metadata": {},
   "source": [
    "<img src=\"https://api.wandb.ai/files/ayush-thakur/images/projects/103390/4fc355be.png\" width=500 height=300>"
   ]
  },
  {
   "cell_type": "code",
   "execution_count": 1,
   "metadata": {
    "pycharm": {
     "name": "#%%\n"
    }
   },
   "outputs": [],
   "source": [
    "import os\n",
    "import numpy as np\n",
    "from Functions.sp500.sp500 import get_sp500_tickers\n",
    "import matplotlib.pyplot as plt"
   ]
  },
  {
   "cell_type": "code",
   "execution_count": 2,
   "metadata": {
    "pycharm": {
     "name": "#%%\n"
    }
   },
   "outputs": [],
   "source": [
    "def load_data(tickers, dev_split = False):\n",
    "    final_X, final_y = None, None\n",
    "    for ticker in tickers:\n",
    "        print(f\"Loading {ticker}\")\n",
    "        a = f\"../Functions/csv_files/sampling_data/{ticker}/X.npy\"\n",
    "        b = f\"../Functions/csv_files/sampling_data/{ticker}/y.npy\"\n",
    "        if not os.path.exists(a) or not os.path.exists(b):\n",
    "            print(f\"No {ticker} data\")\n",
    "            continue\n",
    "        data_X = np.load(a, allow_pickle=True)\n",
    "        data_y = np.load(b, allow_pickle=True)\n",
    "        if len(data_X.shape) != 3 or data_X.shape[1] != 14 or data_X.shape[2] != 7:\n",
    "            print(f\"{ticker} is corrupted: Training Data is incorrect\")\n",
    "            continue\n",
    "        if len(data_y.shape) != 1 or data_y.shape[0] != data_X.shape[0]:\n",
    "            print(f\"{ticker} is corrupted: Label is incorrect\")\n",
    "            continue\n",
    "        if final_X is None and final_y is None:\n",
    "            final_X = data_X\n",
    "            final_y = data_y\n",
    "        else:\n",
    "            final_X = np.append(final_X, data_X, axis=0)\n",
    "            final_y = np.append(final_y, data_y, axis=0)\n",
    "    if dev_split:\n",
    "        n = len(final_X)\n",
    "        train = int(n * 0.9)\n",
    "        dev = n - train\n",
    "        return final_X[:train], final_y[:train], final_X[-dev:], final_y[-dev:]\n",
    "    return final_X, final_y, None, None"
   ]
  },
  {
   "cell_type": "code",
   "execution_count": 3,
   "metadata": {
    "pycharm": {
     "name": "#%%\n"
    }
   },
   "outputs": [
    {
     "name": "stdout",
     "output_type": "stream",
     "text": [
      "['AAPL.US', 'MSFT.US', 'AMZN.US', 'TSLA.US', 'GOOGL.US', 'GOOG.US', 'BRKB.US', 'UNH.US', 'JNJ.US', 'XOM.US', 'META.US', 'JPM.US', 'NVDA.US', 'PG.US', 'V.US', 'HD.US', 'CVX.US', 'LLY.US', 'PFE.US', 'MA.US', 'ABBV.US', 'PEP.US', 'MRK.US', 'KO.US', 'BAC.US', 'COST.US', 'TMO.US', 'WMT.US', 'AVGO.US', 'DIS.US', 'MCD.US', 'ABT.US', 'DHR.US', 'CSCO.US', 'ACN.US', 'VZ.US', 'NEE.US', 'WFC.US', 'BMY.US', 'CRM.US', 'TXN.US', 'LIN.US', 'COP.US', 'CMCSA.US', 'ADBE.US', 'PM.US', 'QCOM.US', 'CVS.US', 'UNP.US', 'RTX.US', 'AMGN.US', 'LOW.US', 'UPS.US', 'HON.US', 'SCHW.US', 'T.US', 'ELV.US', 'INTU.US', 'IBM.US', 'MDT.US', 'INTC.US', 'MS.US', 'NKE.US', 'NFLX.US', 'SPGI.US', 'AMD.US', 'GS.US', 'AMT.US', 'PYPL.US', 'SBUX.US', 'ADP.US', 'DE.US', 'ORCL.US', 'LMT.US', 'CAT.US', 'CI.US', 'BLK.US', 'AXP.US', 'TMUS.US', 'C.US', 'GILD.US', 'NOW.US', 'CB.US', 'PLD.US', 'MDLZ.US', 'MMC.US', 'VRTX.US', 'REGN.US', 'ADI.US', 'TJX.US', 'MO.US', 'SO.US', 'DUK.US', 'AMAT.US', 'ZTS.US', 'TGT.US', 'NOC.US', 'SYK.US', 'PGR.US', 'GE.US', 'BA.US', 'ISRG.US', 'EOG.US', 'BKNG.US', 'BDX.US', 'CME.US', 'CCI.US', 'PNC.US', 'HUM.US', 'MMM.US', 'WM.US', 'FISV.US', 'CL.US', 'TFC.US', 'D.US', 'CSX.US', 'AON.US', 'MU.US', 'BSX.US', 'DG.US', 'USB.US', 'ETN.US', 'ATVI.US', 'PXD.US', 'EQIX.US', 'APD.US', 'EW.US', 'ITW.US', 'SLB.US', 'ICE.US', 'LRCX.US', 'EL.US', 'MPC.US', 'NSC.US', 'MCK.US', 'SHW.US', 'GD.US', 'SRE.US', 'GM.US', 'SNPS.US', 'PSA.US', 'FIS.US', 'GIS.US', 'OXY.US', 'ADM.US', 'ORLY.US', 'CDNS.US', 'CNC.US', 'AEP.US', 'F.US', 'EMR.US', 'KLAC.US', 'VLO.US', 'AZO.US', 'CMG.US', 'CTVA.US', 'MET.US', 'ADSK.US', 'LHX.US', 'MRNA.US', 'APH.US', 'HCA.US', 'DVN.US', 'FCX.US', 'NXPI.US', 'BIIB.US', 'PSX.US', 'MAR.US', 'MCO.US', 'KMB.US', 'ROP.US', 'ENPH.US', 'MSI.US', 'EXC.US', 'TRV.US', 'STZ.US', 'A.US', 'AIG.US', 'SYY.US', 'AJG.US', 'O.US', 'ECL.US', 'PAYX.US', 'COF.US', 'TEL.US', 'FDX.US', 'WMB.US', 'XEL.US', 'MSCI.US', 'JCI.US', 'IQV.US', 'ALL.US', 'CHTR.US', 'TT.US', 'MCHP.US', 'MNST.US', 'CTAS.US', 'HLT.US', 'NEM.US', 'KMI.US', 'HSY.US', 'AFL.US', 'PRU.US', 'FTNT.US', 'RMD.US', 'DOW.US', 'DXCM.US', 'MTB.US', 'PH.US', 'SBAC.US', 'ALB.US', 'EA.US', 'YUM.US', 'KDP.US', 'CARR.US', 'ED.US', 'HES.US', 'GPN.US', 'CTSH.US', 'WELL.US', 'ROST.US', 'ILMN.US', 'TWTR.US', 'SPG.US', 'CMI.US', 'PCAR.US', 'DLTR.US', 'VICI.US', 'KR.US', 'DLR.US', 'NUE.US', 'BK.US', 'KEYS.US', 'RSG.US', 'PEG.US', 'WEC.US', 'ANET.US', 'CSGP.US', 'IDXX.US', 'AMP.US', 'TDG.US', 'BAX.US', 'ES.US', 'ON.US', 'OTIS.US', 'CEG.US', 'VRSK.US', 'KHC.US', 'FAST.US', 'PPG.US', 'AME.US', 'AVB.US', 'DD.US', 'WBD.US', 'DFS.US', 'ROK.US', 'MTD.US', 'TROW.US', 'FRC.US', 'AWK.US', 'ODFL.US', 'IFF.US', 'EXR.US', 'EQR.US', 'HPQ.US', 'OKE.US', 'CPRT.US', 'WBA.US']\n"
     ]
    }
   ],
   "source": [
    "tickers = get_sp500_tickers(False)\n",
    "end = tickers.index(\"WTW.US\")\n",
    "tickers = tickers[:end]\n",
    "print(tickers)"
   ]
  },
  {
   "cell_type": "code",
   "execution_count": 5,
   "metadata": {
    "pycharm": {
     "name": "#%%\n"
    }
   },
   "outputs": [
    {
     "name": "stdout",
     "output_type": "stream",
     "text": [
      "Loading AAPL.US\n",
      "Loading MSFT.US\n",
      "Loading AMZN.US\n",
      "Loading TSLA.US\n",
      "Loading GOOGL.US\n",
      "Loading GOOG.US\n",
      "Loading BRKB.US\n",
      "Loading UNH.US\n",
      "Loading JNJ.US\n",
      "Loading XOM.US\n",
      "Loading META.US\n",
      "Loading JPM.US\n",
      "Loading NVDA.US\n",
      "Loading PG.US\n",
      "Loading V.US\n",
      "Loading HD.US\n",
      "Loading CVX.US\n",
      "Loading LLY.US\n",
      "Loading PFE.US\n",
      "Loading MA.US\n",
      "Loading ABBV.US\n",
      "Loading PEP.US\n",
      "Loading MRK.US\n",
      "Loading KO.US\n",
      "Loading BAC.US\n",
      "Loading COST.US\n",
      "Loading TMO.US\n",
      "Loading WMT.US\n",
      "Loading AVGO.US\n",
      "Loading DIS.US\n",
      "Loading MCD.US\n",
      "Loading ABT.US\n",
      "Loading DHR.US\n",
      "Loading CSCO.US\n",
      "Loading ACN.US\n",
      "Loading VZ.US\n",
      "Loading NEE.US\n",
      "Loading WFC.US\n",
      "Loading BMY.US\n",
      "Loading CRM.US\n",
      "Loading TXN.US\n",
      "Loading LIN.US\n",
      "Loading COP.US\n",
      "Loading CMCSA.US\n",
      "Loading ADBE.US\n",
      "Loading PM.US\n",
      "Loading QCOM.US\n",
      "Loading CVS.US\n",
      "Loading UNP.US\n",
      "Loading RTX.US\n",
      "Loading AMGN.US\n",
      "Loading LOW.US\n",
      "Loading UPS.US\n",
      "Loading HON.US\n",
      "Loading SCHW.US\n",
      "Loading T.US\n",
      "Loading ELV.US\n",
      "Loading INTU.US\n",
      "Loading IBM.US\n",
      "Loading MDT.US\n",
      "Loading INTC.US\n",
      "Loading MS.US\n",
      "Loading NKE.US\n",
      "Loading NFLX.US\n",
      "Loading SPGI.US\n",
      "Loading AMD.US\n",
      "Loading GS.US\n",
      "Loading AMT.US\n",
      "Loading PYPL.US\n",
      "Loading SBUX.US\n",
      "Loading ADP.US\n",
      "Loading DE.US\n",
      "Loading ORCL.US\n",
      "Loading LMT.US\n",
      "Loading CAT.US\n",
      "Loading CI.US\n",
      "Loading BLK.US\n",
      "Loading AXP.US\n",
      "Loading TMUS.US\n",
      "Loading C.US\n",
      "Loading GILD.US\n",
      "Loading NOW.US\n",
      "Loading CB.US\n",
      "Loading PLD.US\n",
      "Loading MDLZ.US\n",
      "Loading MMC.US\n",
      "Loading VRTX.US\n",
      "Loading REGN.US\n",
      "Loading ADI.US\n",
      "Loading TJX.US\n",
      "Loading MO.US\n",
      "Loading SO.US\n",
      "Loading DUK.US\n",
      "Loading AMAT.US\n",
      "Loading ZTS.US\n",
      "Loading TGT.US\n",
      "Loading NOC.US\n",
      "Loading SYK.US\n",
      "Loading PGR.US\n",
      "Loading GE.US\n",
      "Loading BA.US\n",
      "Loading ISRG.US\n",
      "Loading EOG.US\n",
      "Loading BKNG.US\n",
      "Loading BDX.US\n",
      "Loading CME.US\n",
      "Loading CCI.US\n",
      "Loading PNC.US\n",
      "Loading HUM.US\n",
      "Loading MMM.US\n",
      "Loading WM.US\n",
      "Loading FISV.US\n",
      "Loading CL.US\n",
      "Loading TFC.US\n",
      "Loading D.US\n",
      "Loading CSX.US\n",
      "Loading AON.US\n",
      "Loading MU.US\n",
      "Loading BSX.US\n",
      "Loading DG.US\n",
      "Loading USB.US\n",
      "Loading ETN.US\n",
      "Loading ATVI.US\n",
      "Loading PXD.US\n",
      "Loading EQIX.US\n",
      "Loading APD.US\n",
      "Loading EW.US\n",
      "Loading ITW.US\n",
      "Loading SLB.US\n",
      "Loading ICE.US\n",
      "Loading LRCX.US\n",
      "Loading EL.US\n",
      "Loading MPC.US\n",
      "Loading NSC.US\n",
      "Loading MCK.US\n",
      "Loading SHW.US\n",
      "Loading GD.US\n",
      "Loading SRE.US\n",
      "Loading GM.US\n",
      "Loading SNPS.US\n",
      "Loading PSA.US\n",
      "Loading FIS.US\n",
      "Loading GIS.US\n",
      "Loading OXY.US\n",
      "Loading ADM.US\n",
      "Loading ORLY.US\n",
      "Loading CDNS.US\n",
      "Loading CNC.US\n",
      "Loading AEP.US\n",
      "Loading F.US\n",
      "Loading EMR.US\n",
      "Loading KLAC.US\n",
      "Loading VLO.US\n",
      "Loading AZO.US\n",
      "Loading CMG.US\n",
      "Loading CTVA.US\n",
      "Loading MET.US\n",
      "Loading ADSK.US\n",
      "Loading LHX.US\n",
      "Loading MRNA.US\n",
      "Loading APH.US\n",
      "Loading HCA.US\n",
      "Loading DVN.US\n",
      "Loading FCX.US\n",
      "Loading NXPI.US\n",
      "Loading BIIB.US\n",
      "Loading PSX.US\n",
      "Loading MAR.US\n",
      "Loading MCO.US\n",
      "Loading KMB.US\n",
      "Loading ROP.US\n",
      "Loading ENPH.US\n",
      "Loading MSI.US\n",
      "Loading EXC.US\n",
      "Loading TRV.US\n",
      "Loading STZ.US\n",
      "Loading A.US\n",
      "Loading AIG.US\n",
      "Loading SYY.US\n",
      "Loading AJG.US\n",
      "Loading O.US\n",
      "Loading ECL.US\n",
      "Loading PAYX.US\n",
      "Loading COF.US\n",
      "Loading TEL.US\n",
      "Loading FDX.US\n",
      "Loading WMB.US\n",
      "Loading XEL.US\n",
      "Loading MSCI.US\n",
      "Loading JCI.US\n",
      "Loading IQV.US\n",
      "Loading ALL.US\n",
      "Loading CHTR.US\n",
      "Loading TT.US\n",
      "Loading MCHP.US\n",
      "Loading MNST.US\n",
      "Loading CTAS.US\n",
      "Loading HLT.US\n",
      "Loading NEM.US\n",
      "Loading KMI.US\n",
      "Loading HSY.US\n",
      "Loading AFL.US\n",
      "Loading PRU.US\n",
      "Loading FTNT.US\n",
      "Loading RMD.US\n",
      "Loading DOW.US\n",
      "Loading DXCM.US\n",
      "Loading MTB.US\n",
      "Loading PH.US\n",
      "Loading SBAC.US\n",
      "Loading ALB.US\n",
      "Loading EA.US\n",
      "Loading YUM.US\n",
      "Loading KDP.US\n",
      "Loading CARR.US\n",
      "Loading ED.US\n",
      "Loading HES.US\n",
      "Loading GPN.US\n",
      "Loading CTSH.US\n",
      "Loading WELL.US\n",
      "Loading ROST.US\n",
      "Loading ILMN.US\n",
      "Loading TWTR.US\n",
      "TWTR.US is corrupted: Training Data is incorrect\n",
      "Loading SPG.US\n",
      "Loading CMI.US\n",
      "Loading PCAR.US\n",
      "Loading DLTR.US\n",
      "Loading VICI.US\n",
      "Loading KR.US\n",
      "Loading DLR.US\n",
      "Loading NUE.US\n",
      "Loading BK.US\n",
      "Loading KEYS.US\n",
      "Loading RSG.US\n",
      "Loading PEG.US\n",
      "Loading WEC.US\n",
      "Loading ANET.US\n",
      "Loading CSGP.US\n",
      "Loading IDXX.US\n",
      "Loading AMP.US\n",
      "Loading TDG.US\n",
      "Loading BAX.US\n",
      "Loading ES.US\n",
      "Loading ON.US\n",
      "Loading OTIS.US\n",
      "Loading CEG.US\n",
      "Loading VRSK.US\n",
      "Loading KHC.US\n",
      "Loading FAST.US\n",
      "Loading PPG.US\n",
      "Loading AME.US\n",
      "Loading AVB.US\n",
      "Loading DD.US\n",
      "Loading WBD.US\n",
      "Loading DFS.US\n",
      "Loading ROK.US\n",
      "Loading MTD.US\n",
      "Loading TROW.US\n",
      "Loading FRC.US\n",
      "Loading AWK.US\n",
      "Loading ODFL.US\n",
      "Loading IFF.US\n",
      "Loading EXR.US\n",
      "Loading EQR.US\n",
      "Loading HPQ.US\n",
      "Loading OKE.US\n",
      "Loading CPRT.US\n",
      "Loading WBA.US\n"
     ]
    }
   ],
   "source": [
    "X, y, X_dev, y_dev = load_data(tickers, True)"
   ]
  },
  {
   "cell_type": "markdown",
   "metadata": {
    "collapsed": false,
    "pycharm": {
     "name": "#%% md\n"
    }
   },
   "source": [
    "<h1>Data Cleaning</h1>"
   ]
  },
  {
   "cell_type": "code",
   "execution_count": 9,
   "metadata": {},
   "outputs": [],
   "source": [
    "def remove_date(X):\n",
    "    X2 = np.delete(X, 0, 2)\n",
    "    X2 = np.asarray(X2).astype(np.float32)\n",
    "    return X2"
   ]
  },
  {
   "cell_type": "code",
   "execution_count": 10,
   "metadata": {
    "collapsed": false,
    "pycharm": {
     "name": "#%%\n"
    }
   },
   "outputs": [],
   "source": [
    "X_train = remove_date(X)\n",
    "if X_dev is not None:\n",
    "    X_dev = remove_date(X_dev)"
   ]
  },
  {
   "cell_type": "code",
   "execution_count": 11,
   "metadata": {
    "collapsed": false,
    "pycharm": {
     "name": "#%%\n"
    }
   },
   "outputs": [],
   "source": [
    "def check_nan(X):\n",
    "    array = []\n",
    "    for index, x in enumerate(X):\n",
    "        if np.isnan(x).any():\n",
    "            print(index)\n",
    "            array.append(index)\n",
    "    return array"
   ]
  },
  {
   "cell_type": "code",
   "execution_count": 12,
   "metadata": {
    "collapsed": false,
    "pycharm": {
     "name": "#%%\n"
    }
   },
   "outputs": [],
   "source": [
    "def fill_missing_rsi_values(X_train, null_lst):\n",
    "    train = X_train.copy()\n",
    "    for i in null_lst:\n",
    "        train[i][:, 4][0] = X_train[i][:, 4][1]\n",
    "    return train"
   ]
  },
  {
   "cell_type": "code",
   "execution_count": 13,
   "metadata": {
    "collapsed": false,
    "pycharm": {
     "name": "#%%\n"
    }
   },
   "outputs": [
    {
     "name": "stdout",
     "output_type": "stream",
     "text": [
      "3071\n",
      "3862\n",
      "4044\n",
      "4172\n",
      "4390\n",
      "5369\n",
      "85\n",
      "93\n",
      "116\n",
      "544\n"
     ]
    }
   ],
   "source": [
    "null_list = check_nan(X_train)\n",
    "X_train = fill_missing_rsi_values(X_train, null_list)\n",
    "\n",
    "if X_dev is not None:\n",
    "    X_dev = fill_missing_rsi_values(X_dev, check_nan(X_dev))"
   ]
  },
  {
   "cell_type": "code",
   "execution_count": 14,
   "outputs": [
    {
     "name": "stdout",
     "output_type": "stream",
     "text": [
      "[]\n",
      "[]\n"
     ]
    }
   ],
   "source": [
    "print(check_nan(X_train))\n",
    "print(check_nan(X_dev))"
   ],
   "metadata": {
    "collapsed": false,
    "pycharm": {
     "name": "#%%\n"
    }
   }
  },
  {
   "cell_type": "code",
   "execution_count": 15,
   "metadata": {},
   "outputs": [],
   "source": [
    "def plot_history(history):\n",
    "    # summarize history for accuracy\n",
    "\n",
    "    legend = ['train']\n",
    "    plt.plot(history.history['loss'])\n",
    "    plt.title('model loss')\n",
    "    plt.ylabel('loss')\n",
    "    plt.xlabel('epoch')\n",
    "    if \"val_loss\" in history.history.keys():\n",
    "        plt.plot(history.history['val_loss'])\n",
    "        legend.append('val')\n",
    "          \n",
    "    # summarize history for loss\n",
    "\n",
    "    plt.legend(legend, loc='upper left')\n",
    "    plt.show()    "
   ]
  },
  {
   "cell_type": "code",
   "execution_count": 16,
   "metadata": {
    "pycharm": {
     "name": "#%%\n"
    }
   },
   "outputs": [],
   "source": [
    "from keras.models import Sequential\n",
    "from keras.layers import Dense, LSTM"
   ]
  },
  {
   "cell_type": "markdown",
   "metadata": {},
   "source": [
    "<h1>Control Model</h1>\n",
    "\n",
    "This control model accepts historical prices as the only feature only. It will be used to create a benchmark for future models."
   ]
  },
  {
   "cell_type": "code",
   "execution_count": 18,
   "metadata": {},
   "outputs": [
    {
     "name": "stdout",
     "output_type": "stream",
     "text": [
      "(6007, 14)\n",
      "(668, 14)\n"
     ]
    }
   ],
   "source": [
    "X_train_control = X_train[:,:,0]\n",
    "print(X_train_control.shape)\n",
    "X_dev_control = X_dev[:, :, 0]\n",
    "print(X_dev_control.shape)"
   ]
  },
  {
   "cell_type": "code",
   "execution_count": 19,
   "metadata": {
    "pycharm": {
     "name": "#%%\n"
    }
   },
   "outputs": [
    {
     "name": "stdout",
     "output_type": "stream",
     "text": [
      "Epoch 1/30\n",
      "151/151 [==============================] - 3s 10ms/step - loss: 9547.5371 - val_loss: 61.7260\n",
      "Epoch 2/30\n",
      "151/151 [==============================] - 1s 8ms/step - loss: 7460.3672 - val_loss: 32.4348\n",
      "Epoch 3/30\n",
      "151/151 [==============================] - 1s 8ms/step - loss: 412.7776 - val_loss: 24.8129\n",
      "Epoch 4/30\n",
      "151/151 [==============================] - 1s 8ms/step - loss: 160.3427 - val_loss: 36.2750\n",
      "Epoch 5/30\n",
      "151/151 [==============================] - 1s 8ms/step - loss: 169.7748 - val_loss: 37.3995\n",
      "Epoch 6/30\n",
      "151/151 [==============================] - 1s 8ms/step - loss: 172.9731 - val_loss: 26.6116\n",
      "Epoch 7/30\n",
      "151/151 [==============================] - 1s 8ms/step - loss: 96.7669 - val_loss: 24.4150\n",
      "Epoch 8/30\n",
      "151/151 [==============================] - 1s 8ms/step - loss: 111.9210 - val_loss: 31.9280\n",
      "Epoch 9/30\n",
      "151/151 [==============================] - 1s 8ms/step - loss: 108.0672 - val_loss: 37.8868\n",
      "Epoch 10/30\n",
      "151/151 [==============================] - 1s 8ms/step - loss: 144.1999 - val_loss: 26.5439\n",
      "Epoch 11/30\n",
      "151/151 [==============================] - 1s 8ms/step - loss: 112.1167 - val_loss: 24.3045\n",
      "Epoch 12/30\n",
      "151/151 [==============================] - 1s 8ms/step - loss: 96.6023 - val_loss: 24.3334\n",
      "Epoch 13/30\n",
      "151/151 [==============================] - 1s 8ms/step - loss: 102.4651 - val_loss: 28.6999\n",
      "Epoch 14/30\n",
      "151/151 [==============================] - 1s 8ms/step - loss: 126.6959 - val_loss: 25.0617\n",
      "Epoch 15/30\n",
      "151/151 [==============================] - 1s 8ms/step - loss: 131.7281 - val_loss: 55.0762\n",
      "Epoch 16/30\n",
      "151/151 [==============================] - 1s 8ms/step - loss: 125.2084 - val_loss: 38.2224\n",
      "Epoch 17/30\n",
      "151/151 [==============================] - 1s 8ms/step - loss: 116.9838 - val_loss: 24.4901\n",
      "Epoch 18/30\n",
      "151/151 [==============================] - 1s 8ms/step - loss: 128.1167 - val_loss: 42.1648\n",
      "Epoch 19/30\n",
      "151/151 [==============================] - 1s 8ms/step - loss: 1391.6901 - val_loss: 47.7550\n",
      "Epoch 20/30\n",
      "151/151 [==============================] - 1s 9ms/step - loss: 647.2327 - val_loss: 21.5316\n",
      "Epoch 21/30\n",
      "151/151 [==============================] - 1s 8ms/step - loss: 102.1151 - val_loss: 21.4876\n",
      "Epoch 22/30\n",
      "151/151 [==============================] - 1s 8ms/step - loss: 84.7529 - val_loss: 35.5365\n",
      "Epoch 23/30\n",
      "151/151 [==============================] - 1s 8ms/step - loss: 124.8992 - val_loss: 19.3230\n",
      "Epoch 24/30\n",
      "151/151 [==============================] - 1s 7ms/step - loss: 89.0005 - val_loss: 16.8354\n",
      "Epoch 25/30\n",
      "151/151 [==============================] - 1s 8ms/step - loss: 81.7561 - val_loss: 16.3226\n",
      "Epoch 26/30\n",
      "151/151 [==============================] - 1s 8ms/step - loss: 87.0309 - val_loss: 110.3609\n",
      "Epoch 27/30\n",
      "151/151 [==============================] - 1s 8ms/step - loss: 133.9294 - val_loss: 20.2399\n",
      "Epoch 28/30\n",
      "151/151 [==============================] - 1s 8ms/step - loss: 84.2001 - val_loss: 26.8337\n",
      "Epoch 29/30\n",
      "151/151 [==============================] - 1s 9ms/step - loss: 90.4275 - val_loss: 16.2804\n",
      "Epoch 30/30\n",
      "151/151 [==============================] - 1s 8ms/step - loss: 70.5694 - val_loss: 15.9206\n"
     ]
    }
   ],
   "source": [
    "control_model = Sequential()\n",
    "control_model.add(LSTM(32, activation='relu', input_shape=(14, 1)))\n",
    "control_model.add(Dense(1))\n",
    "control_model.compile(optimizer='adam', loss='mse')\n",
    "\n",
    "control_history = control_model.fit(X_train_control, y, epochs=30, validation_split=0.2, verbose=1)"
   ]
  },
  {
   "cell_type": "code",
   "execution_count": 20,
   "metadata": {},
   "outputs": [
    {
     "data": {
      "text/plain": "<Figure size 640x480 with 1 Axes>",
      "image/png": "[encoded data removed]"
     },
     "metadata": {},
     "output_type": "display_data"
    }
   ],
   "source": [
    "plot_history(control_history)"
   ]
  },
  {
   "cell_type": "markdown",
   "metadata": {},
   "source": [
    "<h1>Data Exploration</h1>"
   ]
  },
  {
   "cell_type": "code",
   "execution_count": 21,
   "metadata": {},
   "outputs": [],
   "source": [
    "import datetime as dt\n",
    "dates = [dt.datetime.strptime(i[0], \"%Y-%m-%d\").date() for i in X[:,0,:]]"
   ]
  },
  {
   "cell_type": "code",
   "execution_count": 22,
   "metadata": {},
   "outputs": [],
   "source": [
    "from collections import Counter\n",
    "count_date = dict(Counter(dates))"
   ]
  },
  {
   "cell_type": "code",
   "execution_count": 23,
   "metadata": {},
   "outputs": [
    {
     "data": {
      "text/plain": "<Figure size 640x480 with 1 Axes>",
      "image/png": "[encoded data removed]"
     },
     "metadata": {},
     "output_type": "display_data"
    }
   ],
   "source": [
    "import seaborn as sns\n",
    "ax = sns.scatterplot(x=count_date.keys(), y=count_date.values())\n",
    "ax.set(xlabel='Dates', ylabel='Count')\n",
    "plt.show()"
   ]
  },
  {
   "cell_type": "markdown",
   "metadata": {},
   "source": [
    "The distribution of data is relatively even, Although it's skewed towards more recent dates."
   ]
  },
  {
   "cell_type": "markdown",
   "metadata": {},
   "source": [
    "<h1>Data Transformation</h1>"
   ]
  },
  {
   "cell_type": "code",
   "execution_count": 24,
   "metadata": {
    "collapsed": false,
    "pycharm": {
     "name": "#%%\n"
    }
   },
   "outputs": [],
   "source": [
    "sample = X_train[0]"
   ]
  },
  {
   "cell_type": "code",
   "execution_count": 25,
   "metadata": {
    "collapsed": false,
    "pycharm": {
     "name": "#%%\n"
    }
   },
   "outputs": [
    {
     "data": {
      "text/plain": "array([[3.590850e+01, 1.950096e+08, 3.445640e+01, 1.639000e-01,\n        7.583090e+01, 5.258000e-01],\n       [3.613850e+01, 1.565216e+08, 3.472800e+01, 1.863000e-01,\n        7.728230e+01, 6.881000e-01],\n       [3.596720e+01, 1.032228e+08, 3.494700e+01, 2.037000e-01,\n        7.373100e+01, 7.906000e-01],\n       [3.627820e+01, 1.090204e+08, 3.518340e+01, 2.175000e-01,\n        7.589660e+01, 8.831000e-01],\n       [3.678490e+01, 1.301080e+08, 3.545970e+01, 2.436000e-01,\n        7.894240e+01, 1.069900e+00],\n       [3.669060e+01, 1.040388e+08, 3.569420e+01, 2.605000e-01,\n        7.699250e+01, 1.178300e+00],\n       [3.663640e+01, 8.019400e+07, 3.589510e+01, 2.570000e-01,\n        7.583300e+01, 1.154800e+00],\n       [3.540630e+01, 2.030708e+08, 3.590420e+01, 2.064000e-01,\n        5.543100e+01, 9.596000e-01],\n       [3.594600e+01, 1.342728e+08, 3.596940e+01, 1.628000e-01,\n        6.045760e+01, 7.337000e-01],\n       [3.606850e+01, 1.078432e+08, 3.602960e+01, 1.356000e-01,\n        6.151850e+01, 6.283000e-01],\n       [3.628760e+01, 9.186560e+07, 3.610320e+01, 1.145000e-01,\n        6.340940e+01, 5.465000e-01],\n       [3.624290e+01, 7.967560e+07, 3.615490e+01, 8.130000e-02,\n        6.273210e+01, 4.132000e-01],\n       [3.613450e+01, 7.671200e+07, 3.617570e+01, 3.330000e-02,\n        6.102980e+01, 2.186000e-01],\n       [3.625940e+01, 7.694240e+07, 3.619650e+01, 0.000000e+00,\n        6.229930e+01, 1.179000e-01]], dtype=float32)"
     },
     "execution_count": 25,
     "metadata": {},
     "output_type": "execute_result"
    }
   ],
   "source": [
    "sample"
   ]
  },
  {
   "cell_type": "code",
   "execution_count": 26,
   "metadata": {},
   "outputs": [],
   "source": [
    "from sklearn.preprocessing import MinMaxScaler\n",
    "\n",
    "def scale_column(x, column = 1):\n",
    "    \"\"\"\n",
    "    Doesn't mutate the original array\n",
    "    \"\"\"\n",
    "    mms = MinMaxScaler()\n",
    "    x2 = x.copy()\n",
    "    # The volume column has index 1\n",
    "    x2[:, 1] = mms.fit_transform(x2[:, column].reshape(14, 1)).reshape(14,)\n",
    "    return x2"
   ]
  },
  {
   "cell_type": "code",
   "execution_count": 27,
   "metadata": {
    "collapsed": false,
    "pycharm": {
     "name": "#%%\n"
    }
   },
   "outputs": [
    {
     "data": {
      "text/plain": "array([[3.5908501e+01, 9.3620390e-01, 3.4456402e+01, 1.6390000e-01,\n        7.5830902e+01, 5.2579999e-01],\n       [3.6138500e+01, 6.3161093e-01, 3.4728001e+01, 1.8629999e-01,\n        7.7282303e+01, 6.8809998e-01],\n       [3.5967201e+01, 2.0980573e-01, 3.4946999e+01, 2.0370001e-01,\n        7.3731003e+01, 7.9060000e-01],\n       [3.6278198e+01, 2.5568777e-01, 3.5183399e+01, 2.1750000e-01,\n        7.5896599e+01, 8.8309997e-01],\n       [3.6784901e+01, 4.2257446e-01, 3.5459702e+01, 2.4360000e-01,\n        7.8942398e+01, 1.0699000e+00],\n       [3.6690601e+01, 2.1626353e-01, 3.5694199e+01, 2.6050001e-01,\n        7.6992500e+01, 1.1783000e+00],\n       [3.6636398e+01, 2.7556419e-02, 3.5895100e+01, 2.5700000e-01,\n        7.5833000e+01, 1.1548001e+00],\n       [3.5406300e+01, 9.9999994e-01, 3.5904202e+01, 2.0640001e-01,\n        5.5431000e+01, 9.5959997e-01],\n       [3.5945999e+01, 4.5553452e-01, 3.5969398e+01, 1.6280000e-01,\n        6.0457600e+01, 7.3369998e-01],\n       [3.6068501e+01, 2.4637145e-01, 3.6029598e+01, 1.3560000e-01,\n        6.1518501e+01, 6.2830001e-01],\n       [3.6287601e+01, 1.1992514e-01, 3.6103199e+01, 1.1450000e-01,\n        6.3409401e+01, 5.4650003e-01],\n       [3.6242901e+01, 2.3453832e-02, 3.6154900e+01, 8.1299998e-02,\n        6.2732101e+01, 4.1319999e-01],\n       [3.6134499e+01, 0.0000000e+00, 3.6175701e+01, 3.3300001e-02,\n        6.1029800e+01, 2.1860000e-01],\n       [3.6259399e+01, 1.8233657e-03, 3.6196499e+01, 0.0000000e+00,\n        6.2299301e+01, 1.1790000e-01]], dtype=float32)"
     },
     "execution_count": 27,
     "metadata": {},
     "output_type": "execute_result"
    }
   ],
   "source": [
    "scale_column(sample)"
   ]
  },
  {
   "cell_type": "code",
   "execution_count": 28,
   "metadata": {
    "collapsed": false,
    "pycharm": {
     "name": "#%%\n"
    }
   },
   "outputs": [],
   "source": [
    "check_rsi = lambda rsi: 0 if rsi is np.nan or (70 > rsi > 30) else (-1 if rsi < 30 else 1)\n",
    "\"\"\"\n",
    "Traditionally, RSI > 70 = Overbought, RSI < 30 Oversold\n",
    "We transform the column to -1, 0, 1,\n",
    "\"\"\"\n",
    "vectorized_check_rsi = np.vectorize(check_rsi)\n",
    "\n",
    "def rsi_transformer(x):\n",
    "    x2 = x.copy()\n",
    "    rsi_column = x2[:, 4]\n",
    "    x2[:, 4] = vectorized_check_rsi(rsi_column)\n",
    "    return x2"
   ]
  },
  {
   "cell_type": "code",
   "execution_count": 29,
   "metadata": {
    "collapsed": false,
    "pycharm": {
     "name": "#%%\n"
    }
   },
   "outputs": [
    {
     "data": {
      "text/plain": "array([[3.590850e+01, 1.950096e+08, 3.445640e+01, 1.639000e-01,\n        1.000000e+00, 5.258000e-01],\n       [3.613850e+01, 1.565216e+08, 3.472800e+01, 1.863000e-01,\n        1.000000e+00, 6.881000e-01],\n       [3.596720e+01, 1.032228e+08, 3.494700e+01, 2.037000e-01,\n        1.000000e+00, 7.906000e-01],\n       [3.627820e+01, 1.090204e+08, 3.518340e+01, 2.175000e-01,\n        1.000000e+00, 8.831000e-01],\n       [3.678490e+01, 1.301080e+08, 3.545970e+01, 2.436000e-01,\n        1.000000e+00, 1.069900e+00],\n       [3.669060e+01, 1.040388e+08, 3.569420e+01, 2.605000e-01,\n        1.000000e+00, 1.178300e+00],\n       [3.663640e+01, 8.019400e+07, 3.589510e+01, 2.570000e-01,\n        1.000000e+00, 1.154800e+00],\n       [3.540630e+01, 2.030708e+08, 3.590420e+01, 2.064000e-01,\n        0.000000e+00, 9.596000e-01],\n       [3.594600e+01, 1.342728e+08, 3.596940e+01, 1.628000e-01,\n        0.000000e+00, 7.337000e-01],\n       [3.606850e+01, 1.078432e+08, 3.602960e+01, 1.356000e-01,\n        0.000000e+00, 6.283000e-01],\n       [3.628760e+01, 9.186560e+07, 3.610320e+01, 1.145000e-01,\n        0.000000e+00, 5.465000e-01],\n       [3.624290e+01, 7.967560e+07, 3.615490e+01, 8.130000e-02,\n        0.000000e+00, 4.132000e-01],\n       [3.613450e+01, 7.671200e+07, 3.617570e+01, 3.330000e-02,\n        0.000000e+00, 2.186000e-01],\n       [3.625940e+01, 7.694240e+07, 3.619650e+01, 0.000000e+00,\n        0.000000e+00, 1.179000e-01]], dtype=float32)"
     },
     "execution_count": 29,
     "metadata": {},
     "output_type": "execute_result"
    }
   ],
   "source": [
    "rsi_transformer(sample)"
   ]
  },
  {
   "cell_type": "code",
   "execution_count": 30,
   "metadata": {
    "collapsed": false,
    "pycharm": {
     "name": "#%%\n"
    }
   },
   "outputs": [],
   "source": [
    "def pipeline(X):\n",
    "    array = []\n",
    "    for x in X:\n",
    "        a = scale_column(x)\n",
    "        b = rsi_transformer(a)\n",
    "        array.append(b)\n",
    "    return np.array(array)"
   ]
  },
  {
   "cell_type": "code",
   "execution_count": 31,
   "metadata": {
    "collapsed": false,
    "pycharm": {
     "name": "#%%\n"
    }
   },
   "outputs": [
    {
     "data": {
      "text/plain": "array([[ 7.38800e-01,  3.60000e+03,  7.70100e-01, -2.00000e-03,\n         4.79129e+01,  2.30000e-03],\n       [ 7.20300e-01,  1.20000e+04,  7.62900e-01, -4.10000e-03,\n         4.79129e+01,  2.40000e-03],\n       [ 8.12700e-01,  4.80000e+03,  7.68300e-01, -2.80000e-03,\n         5.31701e+01,  2.60000e-03],\n       [ 7.01900e-01,  1.32000e+04,  7.58700e-01, -3.00000e-03,\n         4.70391e+01,  2.60000e-03],\n       [ 7.01900e-01,  2.40000e+04,  7.50200e-01, -5.70000e-03,\n         4.70391e+01,  2.80000e-03],\n       [ 7.38800e-01,  3.48000e+04,  7.47100e-01, -4.10000e-03,\n         4.92972e+01,  2.50000e-03],\n       [ 6.64900e-01,  6.24000e+04,  7.34900e-01, -7.30000e-03,\n         4.51456e+01,  3.10000e-03],\n       [ 6.28000e-01,  3.84000e+04,  7.18600e-01, -1.12000e-02,\n         4.31897e+01,  4.10000e-03],\n       [ 6.09500e-01,  2.76000e+04,  7.00800e-01, -1.08000e-02,\n         4.22026e+01,  3.90000e-03],\n       [ 6.46400e-01,  8.88000e+04,  6.90400e-01, -1.26000e-02,\n         4.49074e+01,  4.20000e-03],\n       [ 6.83400e-01,  1.32000e+04,  6.85900e-01, -1.29000e-02,\n         4.75576e+01,  4.30000e-03],\n       [ 6.64900e-01,  2.10000e+05,  6.79300e-01, -9.80000e-03,\n         4.63569e+01,  2.90000e-03],\n       [ 6.09500e-01,  1.92000e+05,  6.67200e-01, -9.90000e-03,\n         4.28665e+01,  3.00000e-03],\n       [ 6.09500e-01,  3.72000e+04,  6.56600e-01, -1.11000e-02,\n         4.28665e+01,  3.30000e-03]], dtype=float32)"
     },
     "execution_count": 31,
     "metadata": {},
     "output_type": "execute_result"
    }
   ],
   "source": [
    "X_train[3071]"
   ]
  },
  {
   "cell_type": "code",
   "execution_count": 40,
   "metadata": {
    "collapsed": false,
    "pycharm": {
     "name": "#%%\n"
    }
   },
   "outputs": [],
   "source": [
    "X_train_final = pipeline(X_train)\n",
    "X_dev_final = pipeline(X_dev)"
   ]
  },
  {
   "cell_type": "code",
   "execution_count": 41,
   "metadata": {
    "pycharm": {
     "name": "#%%\n"
    }
   },
   "outputs": [
    {
     "name": "stdout",
     "output_type": "stream",
     "text": [
      "Model: \"sequential_3\"\n",
      "_________________________________________________________________\n",
      " Layer (type)                Output Shape              Param #   \n",
      "=================================================================\n",
      " lstm_3 (LSTM)               (None, 32)                4992      \n",
      "                                                                 \n",
      " dense_3 (Dense)             (None, 1)                 33        \n",
      "                                                                 \n",
      "=================================================================\n",
      "Total params: 5,025\n",
      "Trainable params: 5,025\n",
      "Non-trainable params: 0\n",
      "_________________________________________________________________\n"
     ]
    }
   ],
   "source": [
    "NUM_OF_TIMESTEPS = 14\n",
    "NUM_OF_FEATURES = 6\n",
    "\n",
    "model = Sequential()\n",
    "model.add(LSTM(32, activation='relu', input_shape=(NUM_OF_TIMESTEPS, NUM_OF_FEATURES)))\n",
    "model.add(Dense(1))\n",
    "model.summary()"
   ]
  },
  {
   "cell_type": "code",
   "execution_count": 42,
   "metadata": {
    "pycharm": {
     "name": "#%%\n"
    }
   },
   "outputs": [],
   "source": [
    "model.compile(optimizer='adam', loss='mse')"
   ]
  },
  {
   "cell_type": "code",
   "execution_count": 43,
   "metadata": {},
   "outputs": [
    {
     "name": "stdout",
     "output_type": "stream",
     "text": [
      "Epoch 1/100\n",
      "179/179 [==============================] - 3s 8ms/step - loss: 7293.2178 - val_loss: 515.6303\n",
      "Epoch 2/100\n",
      "179/179 [==============================] - 1s 7ms/step - loss: 3146.1689 - val_loss: 751.4041\n",
      "Epoch 3/100\n",
      "179/179 [==============================] - 1s 8ms/step - loss: 3507.0894 - val_loss: 272.1642\n",
      "Epoch 4/100\n",
      "179/179 [==============================] - 1s 8ms/step - loss: 1606.0403 - val_loss: 137.3788\n",
      "Epoch 5/100\n",
      "179/179 [==============================] - 1s 7ms/step - loss: 1933.3278 - val_loss: 156.7665\n",
      "Epoch 6/100\n",
      "179/179 [==============================] - 1s 7ms/step - loss: 1811.9255 - val_loss: 210.8175\n",
      "Epoch 7/100\n",
      "179/179 [==============================] - 1s 7ms/step - loss: 1288.0002 - val_loss: 154.2593\n",
      "Epoch 8/100\n",
      "179/179 [==============================] - 1s 8ms/step - loss: 1775.3569 - val_loss: 366.7251\n",
      "Epoch 9/100\n",
      "179/179 [==============================] - 1s 7ms/step - loss: 1923.9231 - val_loss: 58.3866\n",
      "Epoch 10/100\n",
      "179/179 [==============================] - 1s 8ms/step - loss: 2719.9441 - val_loss: 112.7925\n",
      "Epoch 11/100\n",
      "179/179 [==============================] - 1s 7ms/step - loss: 1764.3657 - val_loss: 204.2346\n",
      "Epoch 12/100\n",
      "179/179 [==============================] - 1s 8ms/step - loss: 2850.8848 - val_loss: 70.0833\n",
      "Epoch 13/100\n",
      "179/179 [==============================] - 1s 7ms/step - loss: 3047.2253 - val_loss: 114.2908\n",
      "Epoch 14/100\n",
      "179/179 [==============================] - 1s 7ms/step - loss: 1800.1274 - val_loss: 828.0408\n",
      "Epoch 15/100\n",
      "179/179 [==============================] - 1s 7ms/step - loss: 4917.3315 - val_loss: 555.9465\n",
      "Epoch 16/100\n",
      "179/179 [==============================] - 1s 8ms/step - loss: 1364.2841 - val_loss: 38.3948\n",
      "Epoch 17/100\n",
      "179/179 [==============================] - 1s 7ms/step - loss: 1416.7936 - val_loss: 72.1823\n",
      "Epoch 18/100\n",
      "179/179 [==============================] - 1s 7ms/step - loss: 1779.3239 - val_loss: 33.3625\n",
      "Epoch 19/100\n",
      "179/179 [==============================] - 1s 7ms/step - loss: 1969.0157 - val_loss: 66.2544\n",
      "Epoch 20/100\n",
      "179/179 [==============================] - 1s 7ms/step - loss: 1699.6053 - val_loss: 33.3162\n",
      "Epoch 21/100\n",
      "179/179 [==============================] - 1s 7ms/step - loss: 743.4954 - val_loss: 39.9885\n",
      "Epoch 22/100\n",
      "179/179 [==============================] - 1s 8ms/step - loss: 504.9830 - val_loss: 39.5303\n",
      "Epoch 23/100\n",
      "179/179 [==============================] - 1s 7ms/step - loss: 2996.0010 - val_loss: 151.6577\n",
      "Epoch 24/100\n",
      "179/179 [==============================] - 1s 7ms/step - loss: 772.0355 - val_loss: 72.5829\n",
      "Epoch 25/100\n",
      "179/179 [==============================] - 1s 8ms/step - loss: 952.9561 - val_loss: 86.1538\n",
      "Epoch 26/100\n",
      "179/179 [==============================] - 1s 7ms/step - loss: 1294.1703 - val_loss: 122.5553\n",
      "Epoch 27/100\n",
      "179/179 [==============================] - 1s 7ms/step - loss: 1179.6150 - val_loss: 113.5679\n",
      "Epoch 28/100\n",
      "179/179 [==============================] - 1s 7ms/step - loss: 1517.4333 - val_loss: 65.3650\n",
      "Epoch 29/100\n",
      "179/179 [==============================] - 1s 7ms/step - loss: 2315.2983 - val_loss: 373.1451\n",
      "Epoch 30/100\n",
      "179/179 [==============================] - 1s 7ms/step - loss: 1196.0240 - val_loss: 56.2958\n",
      "Epoch 31/100\n",
      "179/179 [==============================] - 1s 7ms/step - loss: 693.2161 - val_loss: 79.5465\n",
      "Epoch 32/100\n",
      "179/179 [==============================] - 1s 7ms/step - loss: 553.7788 - val_loss: 76.6018\n",
      "Epoch 33/100\n",
      "179/179 [==============================] - 1s 7ms/step - loss: 528.4028 - val_loss: 90.0214\n",
      "Epoch 34/100\n",
      "179/179 [==============================] - 1s 7ms/step - loss: 452.3744 - val_loss: 40.0686\n",
      "Epoch 35/100\n",
      "179/179 [==============================] - 1s 8ms/step - loss: 969.2603 - val_loss: 159.1777\n",
      "Epoch 36/100\n",
      "179/179 [==============================] - 1s 8ms/step - loss: 618.3351 - val_loss: 70.2168\n",
      "Epoch 37/100\n",
      "179/179 [==============================] - 1s 7ms/step - loss: 475.8788 - val_loss: 118.7760\n",
      "Epoch 38/100\n",
      "179/179 [==============================] - 1s 7ms/step - loss: 787.4841 - val_loss: 137.1929\n",
      "Epoch 39/100\n",
      "179/179 [==============================] - 1s 8ms/step - loss: 426.3908 - val_loss: 62.0877\n",
      "Epoch 40/100\n",
      "179/179 [==============================] - 1s 7ms/step - loss: 214.4979 - val_loss: 54.7165\n",
      "Epoch 41/100\n",
      "179/179 [==============================] - 1s 7ms/step - loss: 241.7469 - val_loss: 82.0585\n",
      "Epoch 42/100\n",
      "179/179 [==============================] - 1s 8ms/step - loss: 222.6543 - val_loss: 32.5058\n",
      "Epoch 43/100\n",
      "179/179 [==============================] - 1s 8ms/step - loss: 198.1609 - val_loss: 63.8817\n",
      "Epoch 44/100\n",
      "179/179 [==============================] - 1s 7ms/step - loss: 192.0833 - val_loss: 50.9306\n",
      "Epoch 45/100\n",
      "179/179 [==============================] - 1s 7ms/step - loss: 237.5172 - val_loss: 175.6198\n",
      "Epoch 46/100\n",
      "179/179 [==============================] - 1s 8ms/step - loss: 210.2561 - val_loss: 58.4695\n",
      "Epoch 47/100\n",
      "179/179 [==============================] - 1s 8ms/step - loss: 156.4638 - val_loss: 35.2150\n",
      "Epoch 48/100\n",
      "179/179 [==============================] - 1s 8ms/step - loss: 130.4189 - val_loss: 53.0615\n",
      "Epoch 49/100\n",
      "179/179 [==============================] - 1s 8ms/step - loss: 238.3690 - val_loss: 39.2031\n",
      "Epoch 50/100\n",
      "179/179 [==============================] - 1s 7ms/step - loss: 154.7127 - val_loss: 56.1003\n",
      "Epoch 51/100\n",
      "179/179 [==============================] - 1s 7ms/step - loss: 104.0313 - val_loss: 50.0087\n",
      "Epoch 52/100\n",
      "179/179 [==============================] - 1s 7ms/step - loss: 166.6070 - val_loss: 42.8812\n",
      "Epoch 53/100\n",
      "179/179 [==============================] - 1s 7ms/step - loss: 929.8818 - val_loss: 54.7143\n",
      "Epoch 54/100\n",
      "179/179 [==============================] - 1s 7ms/step - loss: 408.3429 - val_loss: 48.3153\n",
      "Epoch 55/100\n",
      "179/179 [==============================] - 1s 7ms/step - loss: 138.2337 - val_loss: 60.8744\n",
      "Epoch 56/100\n",
      "179/179 [==============================] - 1s 8ms/step - loss: 180.9895 - val_loss: 49.9782\n",
      "Epoch 57/100\n",
      "179/179 [==============================] - 1s 7ms/step - loss: 282.7568 - val_loss: 34.9515\n",
      "Epoch 58/100\n",
      "179/179 [==============================] - 1s 7ms/step - loss: 673.4069 - val_loss: 254.9052\n",
      "Epoch 59/100\n",
      "179/179 [==============================] - 1s 7ms/step - loss: 420.2040 - val_loss: 70.0117\n",
      "Epoch 60/100\n",
      "179/179 [==============================] - 1s 8ms/step - loss: 425.5979 - val_loss: 48.8677\n",
      "Epoch 61/100\n",
      "179/179 [==============================] - 1s 8ms/step - loss: 282.4603 - val_loss: 38.7838\n",
      "Epoch 62/100\n",
      "179/179 [==============================] - 1s 7ms/step - loss: 397.0062 - val_loss: 68.3107\n",
      "Epoch 63/100\n",
      "179/179 [==============================] - 1s 8ms/step - loss: 259.9461 - val_loss: 57.0035\n",
      "Epoch 64/100\n",
      "179/179 [==============================] - 1s 7ms/step - loss: 374.6238 - val_loss: 90.4732\n",
      "Epoch 65/100\n",
      "179/179 [==============================] - 1s 8ms/step - loss: 689.4790 - val_loss: 37.0409\n",
      "Epoch 66/100\n",
      "179/179 [==============================] - 2s 8ms/step - loss: 436.4389 - val_loss: 129.3295\n",
      "Epoch 67/100\n",
      "179/179 [==============================] - 1s 8ms/step - loss: 244.4082 - val_loss: 106.6217\n",
      "Epoch 68/100\n",
      "179/179 [==============================] - 1s 8ms/step - loss: 307.2280 - val_loss: 129.2066\n",
      "Epoch 69/100\n",
      "179/179 [==============================] - 1s 8ms/step - loss: 231.3221 - val_loss: 186.7039\n",
      "Epoch 70/100\n",
      "179/179 [==============================] - 1s 8ms/step - loss: 1799.9344 - val_loss: 1506.7357\n",
      "Epoch 71/100\n",
      "179/179 [==============================] - 1s 8ms/step - loss: 540.6591 - val_loss: 91.0144\n",
      "Epoch 72/100\n",
      "179/179 [==============================] - 1s 8ms/step - loss: 327.7834 - val_loss: 26.1326\n",
      "Epoch 73/100\n",
      "179/179 [==============================] - 1s 8ms/step - loss: 270.0011 - val_loss: 38.4012\n",
      "Epoch 74/100\n",
      "179/179 [==============================] - 1s 7ms/step - loss: 147.1185 - val_loss: 31.7219\n",
      "Epoch 75/100\n",
      "179/179 [==============================] - 1s 7ms/step - loss: 179.8237 - val_loss: 23.0560\n",
      "Epoch 76/100\n",
      "179/179 [==============================] - 1s 7ms/step - loss: 83.5552 - val_loss: 23.8682\n",
      "Epoch 77/100\n",
      "179/179 [==============================] - 1s 7ms/step - loss: 87.7842 - val_loss: 25.8520\n",
      "Epoch 78/100\n",
      "179/179 [==============================] - 1s 7ms/step - loss: 100.2469 - val_loss: 40.3398\n",
      "Epoch 79/100\n",
      "179/179 [==============================] - 1s 8ms/step - loss: 77.9641 - val_loss: 32.6341\n",
      "Epoch 80/100\n",
      "179/179 [==============================] - 1s 7ms/step - loss: 92.3239 - val_loss: 40.5581\n",
      "Epoch 81/100\n",
      "179/179 [==============================] - 1s 8ms/step - loss: 143.3484 - val_loss: 45.1581\n",
      "Epoch 82/100\n",
      "179/179 [==============================] - 1s 7ms/step - loss: 67.0083 - val_loss: 42.3506\n",
      "Epoch 83/100\n",
      "179/179 [==============================] - 1s 7ms/step - loss: 91.5756 - val_loss: 29.3408\n",
      "Epoch 84/100\n",
      "179/179 [==============================] - 1s 7ms/step - loss: 78.8510 - val_loss: 35.8567\n",
      "Epoch 85/100\n",
      "179/179 [==============================] - 1s 7ms/step - loss: 99.0982 - val_loss: 53.1805\n",
      "Epoch 86/100\n",
      "179/179 [==============================] - 1s 7ms/step - loss: 78.9627 - val_loss: 34.9642\n",
      "Epoch 87/100\n",
      "179/179 [==============================] - 1s 8ms/step - loss: 71.0847 - val_loss: 34.6351\n",
      "Epoch 88/100\n",
      "179/179 [==============================] - 1s 8ms/step - loss: 45.5417 - val_loss: 31.4870\n",
      "Epoch 89/100\n",
      "179/179 [==============================] - 1s 7ms/step - loss: 52.4400 - val_loss: 35.3492\n",
      "Epoch 90/100\n",
      "179/179 [==============================] - 1s 7ms/step - loss: 48.1425 - val_loss: 30.7110\n",
      "Epoch 91/100\n",
      "179/179 [==============================] - 1s 7ms/step - loss: 43.9094 - val_loss: 34.4253\n",
      "Epoch 92/100\n",
      "179/179 [==============================] - 1s 7ms/step - loss: 51.7350 - val_loss: 32.2161\n",
      "Epoch 93/100\n",
      "179/179 [==============================] - 1s 7ms/step - loss: 45.6083 - val_loss: 38.1050\n",
      "Epoch 94/100\n",
      "179/179 [==============================] - 1s 7ms/step - loss: 44.0030 - val_loss: 30.7488\n",
      "Epoch 95/100\n",
      "179/179 [==============================] - 1s 7ms/step - loss: 41.8893 - val_loss: 30.6057\n",
      "Epoch 96/100\n",
      "179/179 [==============================] - 1s 7ms/step - loss: 34.7113 - val_loss: 41.0106\n",
      "Epoch 97/100\n",
      "179/179 [==============================] - 1s 7ms/step - loss: 64.5124 - val_loss: 41.7270\n",
      "Epoch 98/100\n",
      "179/179 [==============================] - 1s 7ms/step - loss: 41.7824 - val_loss: 33.8730\n",
      "Epoch 99/100\n",
      "179/179 [==============================] - 1s 8ms/step - loss: 37.2419 - val_loss: 30.5911\n",
      "Epoch 100/100\n",
      "179/179 [==============================] - 1s 8ms/step - loss: 54.6347 - val_loss: 31.4774\n"
     ]
    }
   ],
   "source": [
    "history = model.fit(X_train_final, y, epochs=100, validation_split=0.05, verbose=1)"
   ]
  },
  {
   "cell_type": "code",
   "execution_count": 44,
   "metadata": {},
   "outputs": [
    {
     "data": {
      "text/plain": "<Figure size 640x480 with 1 Axes>",
      "image/png": "[encoded data removed]"
     },
     "metadata": {},
     "output_type": "display_data"
    }
   ],
   "source": [
    "plot_history(history)"
   ]
  },
  {
   "cell_type": "code",
   "execution_count": 45,
   "metadata": {},
   "outputs": [
    {
     "name": "stdout",
     "output_type": "stream",
     "text": [
      "188/188 [==============================] - 1s 4ms/step - loss: 37.6673\n"
     ]
    },
    {
     "data": {
      "text/plain": "37.66726303100586"
     },
     "execution_count": 45,
     "metadata": {},
     "output_type": "execute_result"
    }
   ],
   "source": [
    "model.evaluate(X_train_final, y)"
   ]
  },
  {
   "cell_type": "code",
   "execution_count": 46,
   "metadata": {},
   "outputs": [
    {
     "name": "stdout",
     "output_type": "stream",
     "text": [
      "188/188 [==============================] - 1s 4ms/step - loss: 47.0910\n"
     ]
    },
    {
     "data": {
      "text/plain": "47.09095764160156"
     },
     "execution_count": 46,
     "metadata": {},
     "output_type": "execute_result"
    }
   ],
   "source": [
    "control_model.evaluate(X_train_control, y)"
   ]
  },
  {
   "cell_type": "code",
   "execution_count": 47,
   "outputs": [
    {
     "name": "stdout",
     "output_type": "stream",
     "text": [
      "21/21 [==============================] - 0s 4ms/step - loss: 20.3559\n"
     ]
    },
    {
     "data": {
      "text/plain": "20.355947494506836"
     },
     "execution_count": 47,
     "metadata": {},
     "output_type": "execute_result"
    }
   ],
   "source": [
    "model.evaluate(X_dev_final, y_dev)"
   ],
   "metadata": {
    "collapsed": false,
    "pycharm": {
     "name": "#%%\n"
    }
   }
  },
  {
   "cell_type": "code",
   "execution_count": 67,
   "outputs": [
    {
     "name": "stdout",
     "output_type": "stream",
     "text": [
      "21/21 [==============================] - 0s 5ms/step - loss: 29.9381\n"
     ]
    },
    {
     "data": {
      "text/plain": "29.93813133239746"
     },
     "execution_count": 67,
     "metadata": {},
     "output_type": "execute_result"
    }
   ],
   "source": [
    "control_model.evaluate(X_dev_control, y_dev)"
   ],
   "metadata": {
    "collapsed": false,
    "pycharm": {
     "name": "#%%\n"
    }
   }
  },
  {
   "cell_type": "code",
   "execution_count": null,
   "outputs": [],
   "source": [],
   "metadata": {
    "collapsed": false,
    "pycharm": {
     "name": "#%%\n"
    }
   }
  }
 ],
 "metadata": {
  "kernelspec": {
   "display_name": "venv",
   "language": "python",
   "name": "python3"
  },
  "language_info": {
   "codemirror_mode": {
    "name": "ipython",
    "version": 3
   },
   "file_extension": ".py",
   "mimetype": "text/x-python",
   "name": "python",
   "nbconvert_exporter": "python",
   "pygments_lexer": "ipython3",
   "version": "3.9.7"
  },
  "vscode": {
   "interpreter": {
    "hash": "fc548310cfe5500d671cc867d313b831129702b10e40c3c14c79259f532c9f1e"
   }
  }
 },
 "nbformat": 4,
 "nbformat_minor": 1
}