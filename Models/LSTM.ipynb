{
 "cells": [
  {
   "cell_type": "markdown",
   "source": [],
   "metadata": {
    "collapsed": false
   }
  },
  {
   "cell_type": "code",
   "execution_count": 1,
   "outputs": [],
   "source": [
    "from numpy import array\n",
    "import pandas as pd"
   ],
   "metadata": {
    "collapsed": false,
    "pycharm": {
     "name": "#%%\n"
    }
   }
  },
  {
   "cell_type": "code",
   "execution_count": 2,
   "metadata": {
    "collapsed": true
   },
   "outputs": [
    {
     "name": "stdout",
     "output_type": "stream",
     "text": [
      "[10 20 30 40 50] 60\n",
      "[20 30 40 50 60] 70\n",
      "[30 40 50 60 70] 80\n",
      "[40 50 60 70 80] 90\n"
     ]
    }
   ],
   "source": [
    "\"\"\"\n",
    "Taken from https://machinelearningmastery.com/how-to-develop-lstm-models-for-time-series-forecasting/\n",
    "\"\"\"\n",
    "# split a univariate sequence into samples\n",
    "def split_sequence(sequence, n_steps):\n",
    "\tX, y = list(), list()\n",
    "\tfor i in range(len(sequence)):\n",
    "\t\t# find the end of this pattern\n",
    "\t\tend_ix = i + n_steps\n",
    "\t\t# check if we are beyond the sequence\n",
    "\t\tif end_ix > len(sequence)-1:\n",
    "\t\t\tbreak\n",
    "\t\t# gather input and output parts of the pattern\n",
    "\t\tseq_x, seq_y = sequence[i:end_ix], sequence[end_ix]\n",
    "\t\tX.append(seq_x)\n",
    "\t\ty.append(seq_y)\n",
    "\treturn array(X), array(y)\n",
    "\n",
    "# define input sequence\n",
    "raw_seq = [10, 20, 30, 40, 50, 60, 70, 80, 90]\n",
    "# choose a number of time steps\n",
    "n_steps = 5\n",
    "# split into samples\n",
    "X, y = split_sequence(raw_seq, n_steps)\n",
    "# summarize the data\n",
    "for i in range(len(X)):\n",
    "\tprint(X[i], y[i])"
   ]
  },
  {
   "cell_type": "code",
   "execution_count": 3,
   "outputs": [],
   "source": [
    "prices = pd.read_csv('../Functions/csv_files/prices/train.csv')"
   ],
   "metadata": {
    "collapsed": false,
    "pycharm": {
     "name": "#%%\n"
    }
   }
  },
  {
   "cell_type": "code",
   "execution_count": 4,
   "outputs": [],
   "source": [
    "apple = prices[prices['ticker'] == 'AAPL.US']"
   ],
   "metadata": {
    "collapsed": false,
    "pycharm": {
     "name": "#%%\n"
    }
   }
  },
  {
   "cell_type": "code",
   "execution_count": 23,
   "outputs": [],
   "source": [
    "X, y = split_sequence(apple['close'].tolist(), 200)"
   ],
   "metadata": {
    "collapsed": false,
    "pycharm": {
     "name": "#%%\n"
    }
   }
  },
  {
   "cell_type": "code",
   "execution_count": 20,
   "outputs": [],
   "source": [
    "from keras.models import Sequential\n",
    "from keras.layers import LSTM\n",
    "from keras.layers import Dense\n",
    "import tensorflow as tf\n",
    "from tensorflow import keras"
   ],
   "metadata": {
    "collapsed": false,
    "pycharm": {
     "name": "#%%\n"
    }
   }
  },
  {
   "cell_type": "code",
   "execution_count": 74,
   "outputs": [
    {
     "data": {
      "text/plain": "array([[[ 28.7392,  27.2608,  25.2448, ...,  16.3744,  14.2464,\n          14.3808]],\n\n       [[ 27.2608,  25.2448,  25.872 , ...,  14.2464,  14.3808,\n          15.12  ]],\n\n       [[ 25.2448,  25.872 ,  26.6336, ...,  14.3808,  15.12  ,\n          15.2544]],\n\n       ...,\n\n       [[125.57  , 124.76  , 120.53  , ..., 176.28  , 180.33  ,\n         179.29  ]],\n\n       [[124.76  , 120.53  , 119.99  , ..., 180.33  , 179.29  ,\n         179.38  ]],\n\n       [[120.53  , 119.99  , 123.39  , ..., 179.29  , 179.38  ,\n         178.2   ]]])"
     },
     "execution_count": 74,
     "metadata": {},
     "output_type": "execute_result"
    }
   ],
   "source": [
    "temp = X.reshape((len(X), 1, 200))\n",
    "temp"
   ],
   "metadata": {
    "collapsed": false,
    "pycharm": {
     "name": "#%%\n"
    }
   }
  },
  {
   "cell_type": "code",
   "execution_count": 91,
   "outputs": [],
   "source": [
    "model = Sequential()\n",
    "model.add(LSTM(50, activation='relu', input_shape=(1, 200)))\n",
    "model.add(Dense(1))\n",
    "model.compile(optimizer='adam', loss = 'mse')"
   ],
   "metadata": {
    "collapsed": false,
    "pycharm": {
     "name": "#%%\n"
    }
   }
  },
  {
   "cell_type": "code",
   "execution_count": 92,
   "outputs": [
    {
     "name": "stdout",
     "output_type": "stream",
     "text": [
      "Epoch 1/50\n",
      "159/159 [==============================] - 4s 6ms/step - loss: 1582.1686\n",
      "Epoch 2/50\n",
      "159/159 [==============================] - 1s 7ms/step - loss: 360.5143\n",
      "Epoch 3/50\n",
      "159/159 [==============================] - 1s 7ms/step - loss: 309.4944\n",
      "Epoch 4/50\n",
      "159/159 [==============================] - 1s 6ms/step - loss: 432.4383\n",
      "Epoch 5/50\n",
      "159/159 [==============================] - 1s 4ms/step - loss: 236.5597\n",
      "Epoch 6/50\n",
      "159/159 [==============================] - 1s 7ms/step - loss: 219.0947\n",
      "Epoch 7/50\n",
      "159/159 [==============================] - 1s 5ms/step - loss: 202.3853\n",
      "Epoch 8/50\n",
      "159/159 [==============================] - 1s 5ms/step - loss: 243.0593\n",
      "Epoch 9/50\n",
      "159/159 [==============================] - 1s 6ms/step - loss: 188.0212\n",
      "Epoch 10/50\n",
      "159/159 [==============================] - 1s 8ms/step - loss: 230.0663\n",
      "Epoch 11/50\n",
      "159/159 [==============================] - 1s 6ms/step - loss: 194.0229\n",
      "Epoch 12/50\n",
      "159/159 [==============================] - 1s 6ms/step - loss: 156.8831\n",
      "Epoch 13/50\n",
      "159/159 [==============================] - 1s 6ms/step - loss: 150.0351\n",
      "Epoch 14/50\n",
      "159/159 [==============================] - 1s 6ms/step - loss: 149.3378\n",
      "Epoch 15/50\n",
      "159/159 [==============================] - 1s 6ms/step - loss: 186.4244\n",
      "Epoch 16/50\n",
      "159/159 [==============================] - 1s 6ms/step - loss: 163.5296\n",
      "Epoch 17/50\n",
      "159/159 [==============================] - 1s 8ms/step - loss: 154.3517\n",
      "Epoch 18/50\n",
      "159/159 [==============================] - 1s 6ms/step - loss: 187.7283\n",
      "Epoch 19/50\n",
      "159/159 [==============================] - 1s 6ms/step - loss: 146.0910\n",
      "Epoch 20/50\n",
      "159/159 [==============================] - 1s 6ms/step - loss: 137.3252\n",
      "Epoch 21/50\n",
      "159/159 [==============================] - 1s 5ms/step - loss: 168.2020\n",
      "Epoch 22/50\n",
      "159/159 [==============================] - 1s 5ms/step - loss: 164.7152\n",
      "Epoch 23/50\n",
      "159/159 [==============================] - 1s 5ms/step - loss: 114.7194\n",
      "Epoch 24/50\n",
      "159/159 [==============================] - 1s 6ms/step - loss: 119.7801\n",
      "Epoch 25/50\n",
      "159/159 [==============================] - 1s 7ms/step - loss: 124.3695\n",
      "Epoch 26/50\n",
      "159/159 [==============================] - 1s 6ms/step - loss: 132.0736\n",
      "Epoch 27/50\n",
      "159/159 [==============================] - 1s 6ms/step - loss: 154.3052\n",
      "Epoch 28/50\n",
      "159/159 [==============================] - 1s 5ms/step - loss: 175.6471\n",
      "Epoch 29/50\n",
      "159/159 [==============================] - 1s 5ms/step - loss: 117.1410\n",
      "Epoch 30/50\n",
      "159/159 [==============================] - 1s 5ms/step - loss: 123.4178\n",
      "Epoch 31/50\n",
      "159/159 [==============================] - 1s 5ms/step - loss: 134.7116\n",
      "Epoch 32/50\n",
      "159/159 [==============================] - 2s 10ms/step - loss: 130.0613\n",
      "Epoch 33/50\n",
      "159/159 [==============================] - 1s 4ms/step - loss: 187.7815\n",
      "Epoch 34/50\n",
      "159/159 [==============================] - 1s 4ms/step - loss: 137.9028\n",
      "Epoch 35/50\n",
      "159/159 [==============================] - 1s 5ms/step - loss: 122.1297\n",
      "Epoch 36/50\n",
      "159/159 [==============================] - 1s 7ms/step - loss: 117.2594\n",
      "Epoch 37/50\n",
      "159/159 [==============================] - 1s 4ms/step - loss: 116.2799\n",
      "Epoch 38/50\n",
      "159/159 [==============================] - 1s 4ms/step - loss: 102.3300\n",
      "Epoch 39/50\n",
      "159/159 [==============================] - 1s 4ms/step - loss: 129.1170\n",
      "Epoch 40/50\n",
      "159/159 [==============================] - 1s 8ms/step - loss: 124.1069\n",
      "Epoch 41/50\n",
      "159/159 [==============================] - 2s 10ms/step - loss: 116.1481\n",
      "Epoch 42/50\n",
      "159/159 [==============================] - 1s 6ms/step - loss: 104.4350\n",
      "Epoch 43/50\n",
      "159/159 [==============================] - 1s 5ms/step - loss: 123.3673\n",
      "Epoch 44/50\n",
      "159/159 [==============================] - 1s 6ms/step - loss: 105.5704\n",
      "Epoch 45/50\n",
      "159/159 [==============================] - 1s 6ms/step - loss: 104.0248\n",
      "Epoch 46/50\n",
      "159/159 [==============================] - 1s 5ms/step - loss: 106.3419\n",
      "Epoch 47/50\n",
      "159/159 [==============================] - 1s 5ms/step - loss: 97.7538\n",
      "Epoch 48/50\n",
      "159/159 [==============================] - 1s 7ms/step - loss: 112.7948\n",
      "Epoch 49/50\n",
      "159/159 [==============================] - 2s 10ms/step - loss: 107.6853\n",
      "Epoch 50/50\n",
      "159/159 [==============================] - 1s 9ms/step - loss: 110.2793\n"
     ]
    },
    {
     "data": {
      "text/plain": "<keras.callbacks.History at 0x21ce34f6640>"
     },
     "execution_count": 92,
     "metadata": {},
     "output_type": "execute_result"
    }
   ],
   "source": [
    "model.fit(\n",
    "    temp, y, batch_size=64, epochs=50, verbose=1\n",
    ")"
   ],
   "metadata": {
    "collapsed": false,
    "pycharm": {
     "name": "#%%\n"
    }
   }
  },
  {
   "cell_type": "code",
   "execution_count": 94,
   "outputs": [
    {
     "name": "stdout",
     "output_type": "stream",
     "text": [
      "1/1 [==============================] - 0s 53ms/step\n",
      "[[15.079105]]\n",
      "15.12\n"
     ]
    }
   ],
   "source": [
    "sample = temp[0].reshape(1, 1, 200)\n",
    "print(model.predict(sample))\n",
    "print(y[0])"
   ],
   "metadata": {
    "collapsed": false,
    "pycharm": {
     "name": "#%%\n"
    }
   }
  },
  {
   "cell_type": "code",
   "execution_count": 96,
   "outputs": [],
   "source": [
    "dev_prices = pd.read_csv('../Functions/csv_files/prices/dev.csv')"
   ],
   "metadata": {
    "collapsed": false,
    "pycharm": {
     "name": "#%%\n"
    }
   }
  },
  {
   "cell_type": "code",
   "execution_count": 99,
   "outputs": [],
   "source": [
    "dev_x, dev_y = split_sequence(dev_prices['close'].tolist(), 200)"
   ],
   "metadata": {
    "collapsed": false,
    "pycharm": {
     "name": "#%%\n"
    }
   }
  },
  {
   "cell_type": "code",
   "execution_count": 106,
   "outputs": [],
   "source": [
    "sample_dev = dev_x[:100]"
   ],
   "metadata": {
    "collapsed": false,
    "pycharm": {
     "name": "#%%\n"
    }
   }
  },
  {
   "cell_type": "code",
   "execution_count": 108,
   "outputs": [],
   "source": [
    "sample_dev = sample_dev.reshape(len(sample_dev), 1, 200)"
   ],
   "metadata": {
    "collapsed": false,
    "pycharm": {
     "name": "#%%\n"
    }
   }
  },
  {
   "cell_type": "code",
   "execution_count": 110,
   "outputs": [
    {
     "name": "stdout",
     "output_type": "stream",
     "text": [
      "4/4 [==============================] - 0s 5ms/step\n"
     ]
    },
    {
     "data": {
      "text/plain": "array([[15.701584],\n       [15.381823],\n       [15.282722],\n       [15.492168],\n       [15.823944],\n       [15.846463],\n       [15.569901],\n       [15.902837],\n       [15.941616],\n       [16.648014],\n       [17.416222],\n       [17.500462],\n       [17.519484],\n       [17.323837],\n       [17.083954],\n       [17.128708],\n       [16.9255  ],\n       [17.088137],\n       [17.043396],\n       [17.362114],\n       [17.105736],\n       [16.908699],\n       [16.728142],\n       [16.740974],\n       [16.656622],\n       [16.616783],\n       [16.929148],\n       [17.073193],\n       [16.438042],\n       [16.748129],\n       [16.56091 ],\n       [16.958588],\n       [16.591223],\n       [16.913324],\n       [16.663776],\n       [16.455162],\n       [16.065987],\n       [16.228588],\n       [16.68996 ],\n       [16.983562],\n       [17.14768 ],\n       [17.25597 ],\n       [17.096598],\n       [17.324322],\n       [17.233372],\n       [17.933546],\n       [18.210484],\n       [17.905348],\n       [17.987782],\n       [18.382034],\n       [18.809053],\n       [19.102896],\n       [18.96056 ],\n       [19.485126],\n       [19.571295],\n       [20.212032],\n       [20.071003],\n       [20.29789 ],\n       [20.287767],\n       [20.803936],\n       [20.747398],\n       [20.589123],\n       [20.810123],\n       [20.97772 ],\n       [20.802927],\n       [20.798578],\n       [20.853302],\n       [20.66114 ],\n       [20.255226],\n       [20.18567 ],\n       [20.298637],\n       [20.117107],\n       [19.92407 ],\n       [20.179914],\n       [20.052134],\n       [20.149954],\n       [19.984436],\n       [19.795685],\n       [19.375896],\n       [19.12145 ],\n       [19.103642],\n       [19.049469],\n       [18.902847],\n       [18.8009  ],\n       [18.956799],\n       [18.796923],\n       [18.920853],\n       [18.694965],\n       [18.54828 ],\n       [18.833189],\n       [18.83257 ],\n       [18.961761],\n       [18.92473 ],\n       [19.01977 ],\n       [19.554096],\n       [19.765121],\n       [19.97607 ],\n       [19.811455],\n       [19.77493 ],\n       [19.708115]], dtype=float32)"
     },
     "execution_count": 110,
     "metadata": {},
     "output_type": "execute_result"
    }
   ],
   "source": [
    "model.predict(sample_dev)"
   ],
   "metadata": {
    "collapsed": false,
    "pycharm": {
     "name": "#%%\n"
    }
   }
  },
  {
   "cell_type": "code",
   "execution_count": 113,
   "outputs": [],
   "source": [
    "sample_dev_y = dev_y[:100]"
   ],
   "metadata": {
    "collapsed": false,
    "pycharm": {
     "name": "#%%\n"
    }
   }
  },
  {
   "cell_type": "code",
   "execution_count": 114,
   "outputs": [
    {
     "data": {
      "text/plain": "array([15.5   , 15.55  , 15.98  , 16.07  , 15.999 , 15.9   , 16.    ,\n       17.22  , 17.4   , 17.42  , 17.2   , 16.85  , 16.8   , 16.55  ,\n       17.    , 17.03  , 17.05  , 16.91  , 17.14  , 17.    , 16.58  ,\n       16.81  , 16.89  , 16.9   , 16.79  , 16.85  , 16.95  , 16.82  ,\n       16.95  , 16.85  , 17.05  , 16.57  , 16.89  , 17.05  , 17.039 ,\n       17.    , 16.89  , 16.93  , 17.2   , 17.1   , 17.06  , 17.22  ,\n       17.45  , 17.94  , 17.88  , 18.    , 17.99  , 18.03  , 18.93  ,\n       19.1   , 19.4   , 19.26  , 19.5   , 20.01  , 21.04  , 20.02  ,\n       20.56  , 21.0108, 21.09  , 21.0975, 21.15  , 21.32  , 21.32  ,\n       21.25  , 21.29  , 21.36  , 20.93  , 20.25  , 20.23  , 20.63  ,\n       20.3   , 19.99  , 20.71  , 19.88  , 19.82  , 19.55  , 19.4   ,\n       19.45  , 19.38  , 19.29  , 19.28  , 19.    , 19.05  , 19.13  ,\n       18.94  , 18.95  , 18.76  , 18.85  , 18.86  , 19.    , 19.    ,\n       19.48  , 19.55  , 19.99  , 19.93  , 19.93  , 19.9   , 19.71  ,\n       19.81  , 20.    ])"
     },
     "execution_count": 114,
     "metadata": {},
     "output_type": "execute_result"
    }
   ],
   "source": [
    "sample_dev_y"
   ],
   "metadata": {
    "collapsed": false,
    "pycharm": {
     "name": "#%%\n"
    }
   }
  },
  {
   "cell_type": "code",
   "execution_count": null,
   "outputs": [],
   "source": [],
   "metadata": {
    "collapsed": false,
    "pycharm": {
     "name": "#%%\n"
    }
   }
  }
 ],
 "metadata": {
  "kernelspec": {
   "display_name": "Python 3",
   "language": "python",
   "name": "python3"
  },
  "language_info": {
   "codemirror_mode": {
    "name": "ipython",
    "version": 2
   },
   "file_extension": ".py",
   "mimetype": "text/x-python",
   "name": "python",
   "nbconvert_exporter": "python",
   "pygments_lexer": "ipython2",
   "version": "2.7.6"
  }
 },
 "nbformat": 4,
 "nbformat_minor": 0
}