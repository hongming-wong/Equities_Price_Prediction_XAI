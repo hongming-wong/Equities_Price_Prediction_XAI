{
 "cells": [
  {
   "cell_type": "code",
   "execution_count": 187,
   "metadata": {},
   "outputs": [],
   "source": [
    "import sys\n",
    "sys.path.append(\"../\")\n",
    "from Functions.csv_files.stock import Stock"
   ]
  },
  {
   "cell_type": "code",
   "execution_count": 188,
   "metadata": {},
   "outputs": [],
   "source": [
    "apple = Stock('AAPL.US', filepath=\"../Functions/csv_files/\")"
   ]
  },
  {
   "cell_type": "code",
   "execution_count": 189,
   "metadata": {},
   "outputs": [
    {
     "data": {
      "text/html": [
       "<div>\n",
       "<style scoped>\n",
       "    .dataframe tbody tr th:only-of-type {\n",
       "        vertical-align: middle;\n",
       "    }\n",
       "\n",
       "    .dataframe tbody tr th {\n",
       "        vertical-align: top;\n",
       "    }\n",
       "\n",
       "    .dataframe thead th {\n",
       "        text-align: right;\n",
       "    }\n",
       "</style>\n",
       "<table border=\"1\" class=\"dataframe\">\n",
       "  <thead>\n",
       "    <tr style=\"text-align: right;\">\n",
       "      <th></th>\n",
       "      <th>date</th>\n",
       "      <th>close</th>\n",
       "      <th>volume</th>\n",
       "      <th>3 Month Treasury Yield</th>\n",
       "      <th>WTI Crude Oil Prices</th>\n",
       "      <th>7-day volatility</th>\n",
       "      <th>7-day EWM</th>\n",
       "      <th>7-rsi</th>\n",
       "      <th>7-day slope</th>\n",
       "      <th>14-day volatility</th>\n",
       "      <th>14-day EWM</th>\n",
       "      <th>14-rsi</th>\n",
       "      <th>14-day slope</th>\n",
       "    </tr>\n",
       "  </thead>\n",
       "  <tbody>\n",
       "    <tr>\n",
       "      <th>0</th>\n",
       "      <td>1980-12-12</td>\n",
       "      <td>28.7392</td>\n",
       "      <td>469033600</td>\n",
       "      <td>16.55</td>\n",
       "      <td>NaN</td>\n",
       "      <td>NaN</td>\n",
       "      <td>28.739200</td>\n",
       "      <td>NaN</td>\n",
       "      <td>NaN</td>\n",
       "      <td>NaN</td>\n",
       "      <td>28.739200</td>\n",
       "      <td>NaN</td>\n",
       "      <td>NaN</td>\n",
       "    </tr>\n",
       "    <tr>\n",
       "      <th>1</th>\n",
       "      <td>1980-12-15</td>\n",
       "      <td>27.2608</td>\n",
       "      <td>175884800</td>\n",
       "      <td>16.77</td>\n",
       "      <td>NaN</td>\n",
       "      <td>NaN</td>\n",
       "      <td>28.369600</td>\n",
       "      <td>NaN</td>\n",
       "      <td>NaN</td>\n",
       "      <td>NaN</td>\n",
       "      <td>28.542080</td>\n",
       "      <td>NaN</td>\n",
       "      <td>NaN</td>\n",
       "    </tr>\n",
       "    <tr>\n",
       "      <th>2</th>\n",
       "      <td>1980-12-16</td>\n",
       "      <td>25.2448</td>\n",
       "      <td>105728000</td>\n",
       "      <td>16.70</td>\n",
       "      <td>NaN</td>\n",
       "      <td>NaN</td>\n",
       "      <td>27.588400</td>\n",
       "      <td>NaN</td>\n",
       "      <td>NaN</td>\n",
       "      <td>NaN</td>\n",
       "      <td>28.102443</td>\n",
       "      <td>NaN</td>\n",
       "      <td>NaN</td>\n",
       "    </tr>\n",
       "    <tr>\n",
       "      <th>3</th>\n",
       "      <td>1980-12-17</td>\n",
       "      <td>25.8720</td>\n",
       "      <td>86441600</td>\n",
       "      <td>16.47</td>\n",
       "      <td>NaN</td>\n",
       "      <td>NaN</td>\n",
       "      <td>27.159300</td>\n",
       "      <td>NaN</td>\n",
       "      <td>NaN</td>\n",
       "      <td>NaN</td>\n",
       "      <td>27.805050</td>\n",
       "      <td>NaN</td>\n",
       "      <td>NaN</td>\n",
       "    </tr>\n",
       "    <tr>\n",
       "      <th>4</th>\n",
       "      <td>1980-12-18</td>\n",
       "      <td>26.6336</td>\n",
       "      <td>73449600</td>\n",
       "      <td>16.20</td>\n",
       "      <td>NaN</td>\n",
       "      <td>NaN</td>\n",
       "      <td>27.027875</td>\n",
       "      <td>NaN</td>\n",
       "      <td>NaN</td>\n",
       "      <td>NaN</td>\n",
       "      <td>27.648857</td>\n",
       "      <td>NaN</td>\n",
       "      <td>NaN</td>\n",
       "    </tr>\n",
       "    <tr>\n",
       "      <th>...</th>\n",
       "      <td>...</td>\n",
       "      <td>...</td>\n",
       "      <td>...</td>\n",
       "      <td>...</td>\n",
       "      <td>...</td>\n",
       "      <td>...</td>\n",
       "      <td>...</td>\n",
       "      <td>...</td>\n",
       "      <td>...</td>\n",
       "      <td>...</td>\n",
       "      <td>...</td>\n",
       "      <td>...</td>\n",
       "      <td>...</td>\n",
       "    </tr>\n",
       "    <tr>\n",
       "      <th>10598</th>\n",
       "      <td>2022-12-23</td>\n",
       "      <td>131.8600</td>\n",
       "      <td>63814900</td>\n",
       "      <td>4.23</td>\n",
       "      <td>79.57</td>\n",
       "      <td>29.533940</td>\n",
       "      <td>134.509237</td>\n",
       "      <td>133.602857</td>\n",
       "      <td>-0.550000</td>\n",
       "      <td>82.490509</td>\n",
       "      <td>137.503068</td>\n",
       "      <td>138.360714</td>\n",
       "      <td>-1.040593</td>\n",
       "    </tr>\n",
       "    <tr>\n",
       "      <th>10599</th>\n",
       "      <td>2022-12-27</td>\n",
       "      <td>130.0300</td>\n",
       "      <td>69007800</td>\n",
       "      <td>4.35</td>\n",
       "      <td>79.45</td>\n",
       "      <td>28.367354</td>\n",
       "      <td>133.389428</td>\n",
       "      <td>132.678571</td>\n",
       "      <td>-0.518929</td>\n",
       "      <td>86.712790</td>\n",
       "      <td>136.506659</td>\n",
       "      <td>137.440714</td>\n",
       "      <td>-1.128637</td>\n",
       "    </tr>\n",
       "    <tr>\n",
       "      <th>10600</th>\n",
       "      <td>2022-12-28</td>\n",
       "      <td>126.0400</td>\n",
       "      <td>85438400</td>\n",
       "      <td>4.35</td>\n",
       "      <td>78.89</td>\n",
       "      <td>45.654730</td>\n",
       "      <td>131.552071</td>\n",
       "      <td>131.468571</td>\n",
       "      <td>-0.968571</td>\n",
       "      <td>97.436570</td>\n",
       "      <td>135.111104</td>\n",
       "      <td>136.376429</td>\n",
       "      <td>-1.339011</td>\n",
       "    </tr>\n",
       "    <tr>\n",
       "      <th>10601</th>\n",
       "      <td>2022-12-29</td>\n",
       "      <td>129.6100</td>\n",
       "      <td>75703700</td>\n",
       "      <td>4.34</td>\n",
       "      <td>78.43</td>\n",
       "      <td>46.363788</td>\n",
       "      <td>131.066553</td>\n",
       "      <td>131.074286</td>\n",
       "      <td>-1.038929</td>\n",
       "      <td>96.866017</td>\n",
       "      <td>134.377624</td>\n",
       "      <td>135.445000</td>\n",
       "      <td>-1.325516</td>\n",
       "    </tr>\n",
       "    <tr>\n",
       "      <th>10602</th>\n",
       "      <td>2022-12-30</td>\n",
       "      <td>129.9300</td>\n",
       "      <td>76960600</td>\n",
       "      <td>4.30</td>\n",
       "      <td>80.16</td>\n",
       "      <td>45.910718</td>\n",
       "      <td>130.782415</td>\n",
       "      <td>130.735714</td>\n",
       "      <td>-0.986429</td>\n",
       "      <td>94.294409</td>\n",
       "      <td>133.784607</td>\n",
       "      <td>134.571429</td>\n",
       "      <td>-1.261714</td>\n",
       "    </tr>\n",
       "  </tbody>\n",
       "</table>\n",
       "<p>10603 rows × 13 columns</p>\n",
       "</div>"
      ],
      "text/plain": [
       "             date     close     volume  3 Month Treasury Yield  \\\n",
       "0      1980-12-12   28.7392  469033600                   16.55   \n",
       "1      1980-12-15   27.2608  175884800                   16.77   \n",
       "2      1980-12-16   25.2448  105728000                   16.70   \n",
       "3      1980-12-17   25.8720   86441600                   16.47   \n",
       "4      1980-12-18   26.6336   73449600                   16.20   \n",
       "...           ...       ...        ...                     ...   \n",
       "10598  2022-12-23  131.8600   63814900                    4.23   \n",
       "10599  2022-12-27  130.0300   69007800                    4.35   \n",
       "10600  2022-12-28  126.0400   85438400                    4.35   \n",
       "10601  2022-12-29  129.6100   75703700                    4.34   \n",
       "10602  2022-12-30  129.9300   76960600                    4.30   \n",
       "\n",
       "       WTI Crude Oil Prices  7-day volatility   7-day EWM       7-rsi  \\\n",
       "0                       NaN               NaN   28.739200         NaN   \n",
       "1                       NaN               NaN   28.369600         NaN   \n",
       "2                       NaN               NaN   27.588400         NaN   \n",
       "3                       NaN               NaN   27.159300         NaN   \n",
       "4                       NaN               NaN   27.027875         NaN   \n",
       "...                     ...               ...         ...         ...   \n",
       "10598                 79.57         29.533940  134.509237  133.602857   \n",
       "10599                 79.45         28.367354  133.389428  132.678571   \n",
       "10600                 78.89         45.654730  131.552071  131.468571   \n",
       "10601                 78.43         46.363788  131.066553  131.074286   \n",
       "10602                 80.16         45.910718  130.782415  130.735714   \n",
       "\n",
       "       7-day slope  14-day volatility  14-day EWM      14-rsi  14-day slope  \n",
       "0              NaN                NaN   28.739200         NaN           NaN  \n",
       "1              NaN                NaN   28.542080         NaN           NaN  \n",
       "2              NaN                NaN   28.102443         NaN           NaN  \n",
       "3              NaN                NaN   27.805050         NaN           NaN  \n",
       "4              NaN                NaN   27.648857         NaN           NaN  \n",
       "...            ...                ...         ...         ...           ...  \n",
       "10598    -0.550000          82.490509  137.503068  138.360714     -1.040593  \n",
       "10599    -0.518929          86.712790  136.506659  137.440714     -1.128637  \n",
       "10600    -0.968571          97.436570  135.111104  136.376429     -1.339011  \n",
       "10601    -1.038929          96.866017  134.377624  135.445000     -1.325516  \n",
       "10602    -0.986429          94.294409  133.784607  134.571429     -1.261714  \n",
       "\n",
       "[10603 rows x 13 columns]"
      ]
     },
     "execution_count": 189,
     "metadata": {},
     "output_type": "execute_result"
    }
   ],
   "source": [
    "apple.retrieve_data()"
   ]
  },
  {
   "cell_type": "code",
   "execution_count": 191,
   "metadata": {},
   "outputs": [],
   "source": [
    "def split(dataframe, window):\n",
    "  X = []\n",
    "  y_raw = []\n",
    "  y_label = []\n",
    "  dataframe = dataframe.dropna()\n",
    "  dataframe = dataframe.drop(columns=['date']).reset_index(drop=True)\n",
    "  L = len(dataframe)\n",
    "  \n",
    "  for i in range(0, L):\n",
    "    if i > (L - window - 1):\n",
    "      break\n",
    "    X.append(dataframe[i:(i + window)])\n",
    "    label = dataframe['close'][i + window]\n",
    "    last = dataframe['close'][i + window - 1]\n",
    "    y_raw.append(label)\n",
    "    if label <= last:\n",
    "      y_label.append(0)\n",
    "    else:\n",
    "      y_label.append(1)\n",
    "      \n",
    "  \n",
    "  return X, y_raw, y_label"
   ]
  },
  {
   "cell_type": "code",
   "execution_count": 190,
   "metadata": {},
   "outputs": [
    {
     "name": "stdout",
     "output_type": "stream",
     "text": [
      "<class 'pandas.core.frame.DataFrame'>\n",
      "Int64Index: 10603 entries, 0 to 10602\n",
      "Data columns (total 13 columns):\n",
      " #   Column                  Non-Null Count  Dtype  \n",
      "---  ------                  --------------  -----  \n",
      " 0   date                    10603 non-null  object \n",
      " 1   close                   10603 non-null  float64\n",
      " 2   volume                  10603 non-null  int64  \n",
      " 3   3 Month Treasury Yield  10503 non-null  float64\n",
      " 4   WTI Crude Oil Prices    9293 non-null   float64\n",
      " 5   7-day volatility        10597 non-null  float64\n",
      " 6   7-day EWM               10603 non-null  float64\n",
      " 7   7-rsi                   10597 non-null  float64\n",
      " 8   7-day slope             10597 non-null  float64\n",
      " 9   14-day volatility       10590 non-null  float64\n",
      " 10  14-day EWM              10603 non-null  float64\n",
      " 11  14-rsi                  10590 non-null  float64\n",
      " 12  14-day slope            10590 non-null  float64\n",
      "dtypes: float64(11), int64(1), object(1)\n",
      "memory usage: 1.1+ MB\n"
     ]
    }
   ],
   "source": [
    "apple.data.info()"
   ]
  },
  {
   "cell_type": "code",
   "execution_count": 192,
   "metadata": {},
   "outputs": [],
   "source": [
    "X, y_raw, y_label = split(apple.data, 7)"
   ]
  },
  {
   "cell_type": "code",
   "execution_count": 193,
   "metadata": {},
   "outputs": [],
   "source": [
    "\n",
    "from keras.models import Sequential\n",
    "from keras.layers import Dense, LSTM, Dropout, BatchNormalization, GRU, Conv2D, MaxPool2D, Flatten, Input\n",
    "import numpy as np"
   ]
  },
  {
   "cell_type": "code",
   "execution_count": 194,
   "metadata": {},
   "outputs": [],
   "source": [
    "train_X_control = np.array(X)\n",
    "train_X_control = train_X_control[:,:,0].reshape(-1, 7, 1)\n",
    "train_y = np.array(y_label)"
   ]
  },
  {
   "cell_type": "code",
   "execution_count": 195,
   "metadata": {},
   "outputs": [],
   "source": [
    "train_X_control = train_X_control.astype('float32')"
   ]
  },
  {
   "cell_type": "code",
   "execution_count": 196,
   "metadata": {},
   "outputs": [
    {
     "data": {
      "text/plain": [
       "(9207, 7, 1)"
      ]
     },
     "execution_count": 196,
     "metadata": {},
     "output_type": "execute_result"
    }
   ],
   "source": [
    "train_X_control.shape"
   ]
  },
  {
   "cell_type": "code",
   "execution_count": 197,
   "metadata": {},
   "outputs": [
    {
     "data": {
      "text/plain": [
       "array([[22.2432],\n",
       "       [22.3776],\n",
       "       [22.2432],\n",
       "       [23.0048],\n",
       "       [22.8704],\n",
       "       [22.624 ],\n",
       "       [22.7584]], dtype=float32)"
      ]
     },
     "execution_count": 197,
     "metadata": {},
     "output_type": "execute_result"
    }
   ],
   "source": [
    "train_X_control[0]"
   ]
  },
  {
   "cell_type": "code",
   "execution_count": 198,
   "metadata": {},
   "outputs": [
    {
     "name": "stdout",
     "output_type": "stream",
     "text": [
      "Epoch 1/20\n",
      "288/288 [==============================] - 3s 5ms/step - loss: 1.2268 - acc: 0.4996\n",
      "Epoch 2/20\n",
      "288/288 [==============================] - 1s 5ms/step - loss: 0.7114 - acc: 0.5123\n",
      "Epoch 3/20\n",
      "288/288 [==============================] - 1s 5ms/step - loss: 0.7205 - acc: 0.5053\n",
      "Epoch 4/20\n",
      "288/288 [==============================] - 1s 5ms/step - loss: 0.7082 - acc: 0.5008\n",
      "Epoch 5/20\n",
      "288/288 [==============================] - 1s 5ms/step - loss: 0.7038 - acc: 0.5051\n",
      "Epoch 6/20\n",
      "288/288 [==============================] - 2s 7ms/step - loss: 0.7054 - acc: 0.5046\n",
      "Epoch 7/20\n",
      "288/288 [==============================] - 2s 7ms/step - loss: 0.7003 - acc: 0.5036\n",
      "Epoch 8/20\n",
      "288/288 [==============================] - 2s 6ms/step - loss: 0.6986 - acc: 0.5083\n",
      "Epoch 9/20\n",
      "288/288 [==============================] - 1s 5ms/step - loss: 0.6986 - acc: 0.4983\n",
      "Epoch 10/20\n",
      "288/288 [==============================] - 2s 6ms/step - loss: 0.6964 - acc: 0.4946\n",
      "Epoch 11/20\n",
      "288/288 [==============================] - 2s 6ms/step - loss: 0.6968 - acc: 0.5015\n",
      "Epoch 12/20\n",
      "288/288 [==============================] - 2s 6ms/step - loss: 0.6958 - acc: 0.4908\n",
      "Epoch 13/20\n",
      "288/288 [==============================] - 1s 5ms/step - loss: 0.6984 - acc: 0.5020\n",
      "Epoch 14/20\n",
      "288/288 [==============================] - 1s 5ms/step - loss: 0.6947 - acc: 0.4947\n",
      "Epoch 15/20\n",
      "288/288 [==============================] - 1s 5ms/step - loss: 0.6944 - acc: 0.5057\n",
      "Epoch 16/20\n",
      "288/288 [==============================] - 1s 5ms/step - loss: 0.6946 - acc: 0.4992\n",
      "Epoch 17/20\n",
      "288/288 [==============================] - 1s 5ms/step - loss: 0.6935 - acc: 0.4931\n",
      "Epoch 18/20\n",
      "288/288 [==============================] - 1s 5ms/step - loss: 0.6940 - acc: 0.5031\n",
      "Epoch 19/20\n",
      "288/288 [==============================] - 2s 5ms/step - loss: 0.6936 - acc: 0.4902\n",
      "Epoch 20/20\n",
      "288/288 [==============================] - 1s 5ms/step - loss: 0.6936 - acc: 0.4997\n"
     ]
    }
   ],
   "source": [
    "control_model = Sequential()\n",
    "\n",
    "control_model.add(LSTM(6, activation='relu', dropout=0.7, input_shape=( 7, 1)))\n",
    "control_model.add(Dense(4, activation='relu'))\n",
    "control_model.add(Dense(2, activation='sigmoid'))\n",
    "control_model.compile(optimizer='adam', loss='sparse_categorical_crossentropy', metrics=['acc'])\n",
    "\n",
    "control_history = control_model.fit(train_X_control, train_y, epochs=20, verbose=1, batch_size=32)"
   ]
  },
  {
   "cell_type": "code",
   "execution_count": 199,
   "metadata": {},
   "outputs": [],
   "source": [
    "import lstm_utils"
   ]
  },
  {
   "cell_type": "code",
   "execution_count": 200,
   "metadata": {},
   "outputs": [
    {
     "data": {
      "image/png": "[encoded data removed]",
      "text/plain": [
       "<Figure size 432x288 with 2 Axes>"
      ]
     },
     "metadata": {
      "needs_background": "light"
     },
     "output_type": "display_data"
    }
   ],
   "source": [
    "lstm_utils.plot_history(control_history, title=\"control mode\")"
   ]
  },
  {
   "cell_type": "code",
   "execution_count": 201,
   "metadata": {},
   "outputs": [],
   "source": [
    "train_X = np.array(X)\n",
    "train_X = train_X.astype('float32')"
   ]
  },
  {
   "cell_type": "code",
   "execution_count": 202,
   "metadata": {},
   "outputs": [
    {
     "data": {
      "text/plain": [
       "array([[2.2243200e+01, 1.1742080e+08, 7.0999999e+00, 2.5559999e+01,\n",
       "        4.0476499e+00, 2.2025019e+01, 2.2035200e+01, 7.3600002e-02,\n",
       "        1.3973250e+01, 2.1622824e+01, 2.1633600e+01, 1.5473230e-01],\n",
       "       [2.2377600e+01, 2.4216640e+08, 7.0700002e+00, 2.6000000e+01,\n",
       "        4.3474469e+00, 2.2113163e+01, 2.2105600e+01, 8.8799998e-02,\n",
       "        1.2109805e+01, 2.1723461e+01, 2.1803200e+01, 1.2224000e-01],\n",
       "       [2.2243200e+01, 1.8504640e+08, 7.0599999e+00, 2.6530001e+01,\n",
       "        3.5971360e+00, 2.2145672e+01, 2.2176001e+01, 5.2800000e-02,\n",
       "        8.9803476e+00, 2.1792759e+01, 2.1963200e+01, 7.5470768e-02],\n",
       "       [2.3004801e+01, 4.7053440e+08, 7.0300002e+00, 2.5850000e+01,\n",
       "        4.9740105e+00, 2.2360455e+01, 2.2355200e+01, 8.0799997e-02,\n",
       "        8.5163698e+00, 2.1954365e+01, 2.2115200e+01, 6.9415383e-02],\n",
       "       [2.2870399e+01, 6.0760000e+08, 7.1700001e+00, 2.5870001e+01,\n",
       "        5.8660636e+00, 2.2487942e+01, 2.2425600e+01, 1.3920000e-01,\n",
       "        5.8224359e+00, 2.2076502e+01, 2.2275200e+01, 4.2043079e-02],\n",
       "       [2.2624001e+01, 4.4723840e+08, 7.1799998e+00, 2.6030001e+01,\n",
       "        5.8134799e+00, 2.2521955e+01, 2.2480000e+01, 1.3440000e-01,\n",
       "        6.0032063e+00, 2.2149502e+01, 2.2302401e+01, 5.0953846e-02],\n",
       "       [2.2758400e+01, 1.5323840e+08, 7.2100000e+00, 2.5650000e+01,\n",
       "        4.8749728e+00, 2.2581066e+01, 2.2588800e+01, 9.5200002e-02,\n",
       "        6.2681651e+00, 2.2230688e+01, 2.2321600e+01, 7.0153847e-02]],\n",
       "      dtype=float32)"
      ]
     },
     "execution_count": 202,
     "metadata": {},
     "output_type": "execute_result"
    }
   ],
   "source": [
    "train_X[0]"
   ]
  },
  {
   "cell_type": "code",
   "execution_count": 203,
   "metadata": {},
   "outputs": [
    {
     "data": {
      "text/plain": [
       "(9207, 7, 12)"
      ]
     },
     "execution_count": 203,
     "metadata": {},
     "output_type": "execute_result"
    }
   ],
   "source": [
    "train_X.shape"
   ]
  },
  {
   "cell_type": "code",
   "execution_count": 209,
   "metadata": {},
   "outputs": [
    {
     "name": "stdout",
     "output_type": "stream",
     "text": [
      "Epoch 1/50\n",
      "288/288 [==============================] - 4s 5ms/step - loss: 0.6933 - acc: 0.4936\n",
      "Epoch 2/50\n",
      "288/288 [==============================] - 1s 5ms/step - loss: 0.6932 - acc: 0.5006\n",
      "Epoch 3/50\n",
      "288/288 [==============================] - 1s 5ms/step - loss: 0.6932 - acc: 0.4952\n",
      "Epoch 4/50\n",
      "288/288 [==============================] - 1s 4ms/step - loss: 0.6933 - acc: 0.4949\n",
      "Epoch 5/50\n",
      "288/288 [==============================] - 1s 5ms/step - loss: 0.6932 - acc: 0.5027\n",
      "Epoch 6/50\n",
      "288/288 [==============================] - 1s 5ms/step - loss: 0.6933 - acc: 0.5008\n",
      "Epoch 7/50\n",
      "288/288 [==============================] - 1s 4ms/step - loss: 0.6933 - acc: 0.4927\n",
      "Epoch 8/50\n",
      "288/288 [==============================] - 1s 5ms/step - loss: 0.6933 - acc: 0.4939\n",
      "Epoch 9/50\n",
      "288/288 [==============================] - 1s 5ms/step - loss: 0.6932 - acc: 0.5028\n",
      "Epoch 10/50\n",
      "288/288 [==============================] - 1s 4ms/step - loss: 0.6933 - acc: 0.4902\n",
      "Epoch 11/50\n",
      "288/288 [==============================] - 1s 5ms/step - loss: 0.6930 - acc: 0.5074\n",
      "Epoch 12/50\n",
      "288/288 [==============================] - 1s 5ms/step - loss: 0.6931 - acc: 0.5035\n",
      "Epoch 13/50\n",
      "288/288 [==============================] - 1s 5ms/step - loss: 0.6932 - acc: 0.5059\n",
      "Epoch 14/50\n",
      "288/288 [==============================] - 1s 5ms/step - loss: 0.6930 - acc: 0.5021\n",
      "Epoch 15/50\n",
      "288/288 [==============================] - 1s 5ms/step - loss: 0.6931 - acc: 0.5067\n",
      "Epoch 16/50\n",
      "288/288 [==============================] - 1s 5ms/step - loss: 0.6932 - acc: 0.5051\n",
      "Epoch 17/50\n",
      "288/288 [==============================] - 1s 4ms/step - loss: 0.6930 - acc: 0.5098\n",
      "Epoch 18/50\n",
      "288/288 [==============================] - 1s 5ms/step - loss: 0.6931 - acc: 0.5048\n",
      "Epoch 19/50\n",
      "288/288 [==============================] - 1s 5ms/step - loss: 0.6931 - acc: 0.5079\n",
      "Epoch 20/50\n",
      "288/288 [==============================] - 1s 5ms/step - loss: 0.6931 - acc: 0.5061\n",
      "Epoch 21/50\n",
      "288/288 [==============================] - 1s 4ms/step - loss: 0.6929 - acc: 0.5154\n",
      "Epoch 22/50\n",
      "288/288 [==============================] - 1s 5ms/step - loss: 0.6930 - acc: 0.5049\n",
      "Epoch 23/50\n",
      "288/288 [==============================] - 1s 5ms/step - loss: 0.6927 - acc: 0.5132\n",
      "Epoch 24/50\n",
      "288/288 [==============================] - 1s 5ms/step - loss: 0.6934 - acc: 0.5041\n",
      "Epoch 25/50\n",
      "288/288 [==============================] - 1s 5ms/step - loss: 0.6932 - acc: 0.4972\n",
      "Epoch 26/50\n",
      "288/288 [==============================] - 1s 5ms/step - loss: 0.6930 - acc: 0.5093\n",
      "Epoch 27/50\n",
      "288/288 [==============================] - 1s 5ms/step - loss: 0.6929 - acc: 0.5165\n",
      "Epoch 28/50\n",
      "288/288 [==============================] - 1s 5ms/step - loss: 0.6931 - acc: 0.5028\n",
      "Epoch 29/50\n",
      "288/288 [==============================] - 1s 5ms/step - loss: 0.6932 - acc: 0.5083\n",
      "Epoch 30/50\n",
      "288/288 [==============================] - 1s 4ms/step - loss: 0.6931 - acc: 0.5054\n",
      "Epoch 31/50\n",
      "288/288 [==============================] - 1s 5ms/step - loss: 0.6929 - acc: 0.5123\n",
      "Epoch 32/50\n",
      "288/288 [==============================] - 2s 6ms/step - loss: 0.6924 - acc: 0.5183\n",
      "Epoch 33/50\n",
      "288/288 [==============================] - 1s 5ms/step - loss: 0.6928 - acc: 0.5138\n",
      "Epoch 34/50\n",
      "288/288 [==============================] - 1s 5ms/step - loss: 0.6932 - acc: 0.5034\n",
      "Epoch 35/50\n",
      "288/288 [==============================] - 1s 5ms/step - loss: 0.6931 - acc: 0.5083\n",
      "Epoch 36/50\n",
      "288/288 [==============================] - 1s 5ms/step - loss: 0.6931 - acc: 0.5089\n",
      "Epoch 37/50\n",
      "288/288 [==============================] - 1s 5ms/step - loss: 0.6930 - acc: 0.5090\n",
      "Epoch 38/50\n",
      "288/288 [==============================] - 1s 5ms/step - loss: 0.6932 - acc: 0.5053\n",
      "Epoch 39/50\n",
      "288/288 [==============================] - 1s 5ms/step - loss: 0.6932 - acc: 0.5049\n",
      "Epoch 40/50\n",
      "288/288 [==============================] - 1s 5ms/step - loss: 0.6927 - acc: 0.5140\n",
      "Epoch 41/50\n",
      "288/288 [==============================] - 1s 4ms/step - loss: 0.6930 - acc: 0.5077\n",
      "Epoch 42/50\n",
      "288/288 [==============================] - 1s 4ms/step - loss: 0.6930 - acc: 0.5106\n",
      "Epoch 43/50\n",
      "288/288 [==============================] - 1s 5ms/step - loss: 0.6930 - acc: 0.5096\n",
      "Epoch 44/50\n",
      "288/288 [==============================] - 1s 5ms/step - loss: 0.6927 - acc: 0.5183\n",
      "Epoch 45/50\n",
      "288/288 [==============================] - 1s 5ms/step - loss: 0.6931 - acc: 0.5077\n",
      "Epoch 46/50\n",
      "288/288 [==============================] - 1s 5ms/step - loss: 0.6931 - acc: 0.5062\n",
      "Epoch 47/50\n",
      "288/288 [==============================] - 1s 5ms/step - loss: 0.6931 - acc: 0.5023\n",
      "Epoch 48/50\n",
      "288/288 [==============================] - 1s 4ms/step - loss: 0.6930 - acc: 0.5066\n",
      "Epoch 49/50\n",
      "288/288 [==============================] - 1s 4ms/step - loss: 0.6930 - acc: 0.5115\n",
      "Epoch 50/50\n",
      "288/288 [==============================] - 1s 5ms/step - loss: 0.6932 - acc: 0.5106\n"
     ]
    }
   ],
   "source": [
    "model = Sequential()\n",
    "\n",
    "model.add(LSTM(6, activation='relu', dropout=0.7, input_shape=( 7, 1)))\n",
    "model.add(Dense(4, activation='relu'))\n",
    "model.add(Dense(2, activation='sigmoid'))\n",
    "model.compile(optimizer='adam', loss='sparse_categorical_crossentropy', metrics=['acc'])\n",
    "\n",
    "history = model.fit(train_X_control, train_y, epochs=50, verbose=1, batch_size=32)"
   ]
  },
  {
   "cell_type": "code",
   "execution_count": 210,
   "metadata": {},
   "outputs": [
    {
     "data": {
      "image/png": "[encoded data removed]",
      "text/plain": [
       "<Figure size 432x288 with 2 Axes>"
      ]
     },
     "metadata": {
      "needs_background": "light"
     },
     "output_type": "display_data"
    }
   ],
   "source": [
    "lstm_utils.plot_history(history, \"Model\")"
   ]
  },
  {
   "cell_type": "code",
   "execution_count": null,
   "metadata": {},
   "outputs": [],
   "source": []
  }
 ],
 "metadata": {
  "kernelspec": {
   "display_name": "Python 3 (ipykernel)",
   "language": "python",
   "name": "python3"
  },
  "language_info": {
   "codemirror_mode": {
    "name": "ipython",
    "version": 3
   },
   "file_extension": ".py",
   "mimetype": "text/x-python",
   "name": "python",
   "nbconvert_exporter": "python",
   "pygments_lexer": "ipython3",
   "version": "3.9.7"
  },
  "vscode": {
   "interpreter": {
    "hash": "2043299c89c8cd0b4d1a6f5cf4529bd58e6a4e0fe3181a25e0d328c821cdc5c5"
   }
  }
 },
 "nbformat": 4,
 "nbformat_minor": 2
}
